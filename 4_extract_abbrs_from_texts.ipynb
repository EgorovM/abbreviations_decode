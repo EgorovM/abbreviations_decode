{
 "cells": [
  {
   "cell_type": "markdown",
   "metadata": {},
   "source": [
    "# Encoding и Decoding аббревиатур\n",
    "\n",
    "В этом ноутбуке и попытаемся найти в текстах не закодированные медицинские аббревиатуры и сохраним их индексы. Будем работать с выборкой `anamnesis.csv.csv`"
   ]
  },
  {
   "cell_type": "code",
   "execution_count": 6,
   "metadata": {},
   "outputs": [],
   "source": [
    "import pandas as pd\n",
    "import numpy as np"
   ]
  },
  {
   "cell_type": "markdown",
   "metadata": {},
   "source": [
    "Так как Python очень медленный, было решено решить эту задачу на плюсах (см. find_abbrs.cpp) и они были сохранены в файл `term_indexes.csv`"
   ]
  },
  {
   "cell_type": "markdown",
   "metadata": {},
   "source": [
    "Загрузим найденные термины в текстах"
   ]
  },
  {
   "cell_type": "code",
   "execution_count": 8,
   "metadata": {},
   "outputs": [],
   "source": [
    "df_terms_indexes = pd.read_csv('data/term_indexes_anamnesises.csv', sep=';', header=None)\n",
    "df_terms_indexes.columns =['text_id', 'term']"
   ]
  },
  {
   "cell_type": "code",
   "execution_count": 9,
   "metadata": {},
   "outputs": [
    {
     "data": {
      "text/html": [
       "<div>\n",
       "<style scoped>\n",
       "    .dataframe tbody tr th:only-of-type {\n",
       "        vertical-align: middle;\n",
       "    }\n",
       "\n",
       "    .dataframe tbody tr th {\n",
       "        vertical-align: top;\n",
       "    }\n",
       "\n",
       "    .dataframe thead th {\n",
       "        text-align: right;\n",
       "    }\n",
       "</style>\n",
       "<table border=\"1\" class=\"dataframe\">\n",
       "  <thead>\n",
       "    <tr style=\"text-align: right;\">\n",
       "      <th></th>\n",
       "      <th>text_id</th>\n",
       "      <th>term</th>\n",
       "    </tr>\n",
       "  </thead>\n",
       "  <tbody>\n",
       "    <tr>\n",
       "      <th>0</th>\n",
       "      <td>62</td>\n",
       "      <td>больничный лист</td>\n",
       "    </tr>\n",
       "    <tr>\n",
       "      <th>1</th>\n",
       "      <td>120</td>\n",
       "      <td>больничный лист</td>\n",
       "    </tr>\n",
       "    <tr>\n",
       "      <th>2</th>\n",
       "      <td>221</td>\n",
       "      <td>больничный лист</td>\n",
       "    </tr>\n",
       "    <tr>\n",
       "      <th>3</th>\n",
       "      <td>285</td>\n",
       "      <td>больничный лист</td>\n",
       "    </tr>\n",
       "    <tr>\n",
       "      <th>4</th>\n",
       "      <td>291</td>\n",
       "      <td>больничный лист</td>\n",
       "    </tr>\n",
       "  </tbody>\n",
       "</table>\n",
       "</div>"
      ],
      "text/plain": [
       "   text_id             term\n",
       "0       62  больничный лист\n",
       "1      120  больничный лист\n",
       "2      221  больничный лист\n",
       "3      285  больничный лист\n",
       "4      291  больничный лист"
      ]
     },
     "execution_count": 9,
     "metadata": {},
     "output_type": "execute_result"
    }
   ],
   "source": [
    "df_terms_indexes.head()"
   ]
  },
  {
   "cell_type": "code",
   "execution_count": 10,
   "metadata": {},
   "outputs": [
    {
     "data": {
      "text/plain": [
       "array(['больничный лист', 'лекарственный препарат', 'синдром сухой',\n",
       "       'позвоночный канал', 'восстановительный период', 'чревный ствол',\n",
       "       'мочевой пузырь', 'межпозвоночный диск', 'двигательный режим',\n",
       "       'плечевой пояс', 'послеоперационный период', 'передний отросток',\n",
       "       'инфекционный процесс', 'мозг средний', 'задний проход',\n",
       "       'кавернозный синус', 'атеросклероз облитерирующий',\n",
       "       'главный специалист', 'запястный канал', 'локтевой отросток',\n",
       "       'геморроидальный узел', 'синдром запястный', 'детский сад',\n",
       "       'климактерический период', 'синдром абдоминальный',\n",
       "       'менструальный цикл', 'послеродовой период', 'шиловидный отросток',\n",
       "       'илеоцекальный угол', 'декретный отпуск', 'позвоночный столб',\n",
       "       'решетчатый лабиринт', 'синдром малый', 'стеноз митральный',\n",
       "       'варолиев мост', 'синдром токсический', 'цервикальный канал',\n",
       "       'горячий цех', 'большой бугорок', 'семенной канатик',\n",
       "       'синдром пирамидный', 'остистый отросток', 'hallux valgus'],\n",
       "      dtype=object)"
      ]
     },
     "execution_count": 10,
     "metadata": {},
     "output_type": "execute_result"
    }
   ],
   "source": [
    "df_terms_indexes.term.unique()"
   ]
  },
  {
   "cell_type": "markdown",
   "metadata": {},
   "source": [
    "Сопоставим с текстом"
   ]
  },
  {
   "cell_type": "code",
   "execution_count": 3,
   "metadata": {},
   "outputs": [],
   "source": [
    "df_texts = pd.read_csv('data/norm_prepared_anamnesises.csv', sep='\\t')"
   ]
  },
  {
   "cell_type": "code",
   "execution_count": 5,
   "metadata": {},
   "outputs": [],
   "source": [
    "df_terms_indexes['doc_text'] = df_terms_indexes.text_id.apply(lambda x: df_texts.norm_diagnosis[x])"
   ]
  },
  {
   "cell_type": "code",
   "execution_count": 37,
   "metadata": {},
   "outputs": [],
   "source": [
    "import re\n",
    "\n",
    "def abbr_by_first_letters(x):\n",
    "    return \"\".join([a[0] for a in re.split('[- ]', x) if len(a) > 0])"
   ]
  },
  {
   "cell_type": "code",
   "execution_count": 38,
   "metadata": {},
   "outputs": [],
   "source": [
    "df_terms_indexes['term_encoded'] = df_terms_indexes.term.map(abbr_by_first_letters)"
   ]
  },
  {
   "cell_type": "markdown",
   "metadata": {},
   "source": [
    "Зададим каждому термину id"
   ]
  },
  {
   "cell_type": "code",
   "execution_count": 39,
   "metadata": {},
   "outputs": [],
   "source": [
    "idx2term = sorted(set(df_terms_indexes.term))\n",
    "term2idx = {u: i for i, u in enumerate(idx2term)}\n",
    "\n",
    "df_terms_indexes['term_id'] = df_terms_indexes.term.map(term2idx.get)"
   ]
  },
  {
   "cell_type": "code",
   "execution_count": 40,
   "metadata": {},
   "outputs": [
    {
     "data": {
      "text/html": [
       "<div>\n",
       "<style scoped>\n",
       "    .dataframe tbody tr th:only-of-type {\n",
       "        vertical-align: middle;\n",
       "    }\n",
       "\n",
       "    .dataframe tbody tr th {\n",
       "        vertical-align: top;\n",
       "    }\n",
       "\n",
       "    .dataframe thead th {\n",
       "        text-align: right;\n",
       "    }\n",
       "</style>\n",
       "<table border=\"1\" class=\"dataframe\">\n",
       "  <thead>\n",
       "    <tr style=\"text-align: right;\">\n",
       "      <th></th>\n",
       "      <th>text_id</th>\n",
       "      <th>term</th>\n",
       "      <th>doc_text</th>\n",
       "      <th>term_encoded</th>\n",
       "      <th>term_id</th>\n",
       "    </tr>\n",
       "  </thead>\n",
       "  <tbody>\n",
       "    <tr>\n",
       "      <th>0</th>\n",
       "      <td>2797</td>\n",
       "      <td>стеноз аортальный</td>\n",
       "      <td>q23.0 врожденный стеноз аортальный клапан</td>\n",
       "      <td>са</td>\n",
       "      <td>2</td>\n",
       "    </tr>\n",
       "    <tr>\n",
       "      <th>1</th>\n",
       "      <td>2798</td>\n",
       "      <td>стеноз аортальный</td>\n",
       "      <td>q23.0 врожденный стеноз аортальный клапан</td>\n",
       "      <td>са</td>\n",
       "      <td>2</td>\n",
       "    </tr>\n",
       "    <tr>\n",
       "      <th>2</th>\n",
       "      <td>2799</td>\n",
       "      <td>стеноз аортальный</td>\n",
       "      <td>q23.0 врожденный стеноз аортальный клапан</td>\n",
       "      <td>са</td>\n",
       "      <td>2</td>\n",
       "    </tr>\n",
       "    <tr>\n",
       "      <th>3</th>\n",
       "      <td>2800</td>\n",
       "      <td>стеноз аортальный</td>\n",
       "      <td>q23.0 врожденный стеноз аортальный клапан</td>\n",
       "      <td>са</td>\n",
       "      <td>2</td>\n",
       "    </tr>\n",
       "    <tr>\n",
       "      <th>4</th>\n",
       "      <td>2801</td>\n",
       "      <td>стеноз аортальный</td>\n",
       "      <td>q23.0 врожденный стеноз аортальный клапан</td>\n",
       "      <td>са</td>\n",
       "      <td>2</td>\n",
       "    </tr>\n",
       "  </tbody>\n",
       "</table>\n",
       "</div>"
      ],
      "text/plain": [
       "   text_id               term                                   doc_text  \\\n",
       "0     2797  стеноз аортальный  q23.0 врожденный стеноз аортальный клапан   \n",
       "1     2798  стеноз аортальный  q23.0 врожденный стеноз аортальный клапан   \n",
       "2     2799  стеноз аортальный  q23.0 врожденный стеноз аортальный клапан   \n",
       "3     2800  стеноз аортальный  q23.0 врожденный стеноз аортальный клапан   \n",
       "4     2801  стеноз аортальный  q23.0 врожденный стеноз аортальный клапан   \n",
       "\n",
       "  term_encoded  term_id  \n",
       "0           са        2  \n",
       "1           са        2  \n",
       "2           са        2  \n",
       "3           са        2  \n",
       "4           са        2  "
      ]
     },
     "execution_count": 40,
     "metadata": {},
     "output_type": "execute_result"
    }
   ],
   "source": [
    "df_terms_indexes.head()"
   ]
  },
  {
   "cell_type": "markdown",
   "metadata": {},
   "source": [
    "Найдем количество документов с данными терминами"
   ]
  },
  {
   "cell_type": "code",
   "execution_count": 41,
   "metadata": {},
   "outputs": [],
   "source": [
    "term_counter = df_terms_indexes.groupby('term_id').count()['text_id']"
   ]
  },
  {
   "cell_type": "code",
   "execution_count": 42,
   "metadata": {},
   "outputs": [],
   "source": [
    "df_terms_indexes['term_count'] = df_terms_indexes.term_id.apply(lambda x: term_counter[x])"
   ]
  },
  {
   "cell_type": "code",
   "execution_count": 43,
   "metadata": {},
   "outputs": [
    {
     "data": {
      "text/html": [
       "<div>\n",
       "<style scoped>\n",
       "    .dataframe tbody tr th:only-of-type {\n",
       "        vertical-align: middle;\n",
       "    }\n",
       "\n",
       "    .dataframe tbody tr th {\n",
       "        vertical-align: top;\n",
       "    }\n",
       "\n",
       "    .dataframe thead th {\n",
       "        text-align: right;\n",
       "    }\n",
       "</style>\n",
       "<table border=\"1\" class=\"dataframe\">\n",
       "  <thead>\n",
       "    <tr style=\"text-align: right;\">\n",
       "      <th></th>\n",
       "      <th>text_id</th>\n",
       "      <th>term</th>\n",
       "      <th>doc_text</th>\n",
       "      <th>term_encoded</th>\n",
       "      <th>term_id</th>\n",
       "      <th>term_count</th>\n",
       "    </tr>\n",
       "  </thead>\n",
       "  <tbody>\n",
       "    <tr>\n",
       "      <th>0</th>\n",
       "      <td>2797</td>\n",
       "      <td>стеноз аортальный</td>\n",
       "      <td>q23.0 врожденный стеноз аортальный клапан</td>\n",
       "      <td>са</td>\n",
       "      <td>2</td>\n",
       "      <td>19</td>\n",
       "    </tr>\n",
       "    <tr>\n",
       "      <th>1</th>\n",
       "      <td>2798</td>\n",
       "      <td>стеноз аортальный</td>\n",
       "      <td>q23.0 врожденный стеноз аортальный клапан</td>\n",
       "      <td>са</td>\n",
       "      <td>2</td>\n",
       "      <td>19</td>\n",
       "    </tr>\n",
       "    <tr>\n",
       "      <th>2</th>\n",
       "      <td>2799</td>\n",
       "      <td>стеноз аортальный</td>\n",
       "      <td>q23.0 врожденный стеноз аортальный клапан</td>\n",
       "      <td>са</td>\n",
       "      <td>2</td>\n",
       "      <td>19</td>\n",
       "    </tr>\n",
       "    <tr>\n",
       "      <th>3</th>\n",
       "      <td>2800</td>\n",
       "      <td>стеноз аортальный</td>\n",
       "      <td>q23.0 врожденный стеноз аортальный клапан</td>\n",
       "      <td>са</td>\n",
       "      <td>2</td>\n",
       "      <td>19</td>\n",
       "    </tr>\n",
       "    <tr>\n",
       "      <th>4</th>\n",
       "      <td>2801</td>\n",
       "      <td>стеноз аортальный</td>\n",
       "      <td>q23.0 врожденный стеноз аортальный клапан</td>\n",
       "      <td>са</td>\n",
       "      <td>2</td>\n",
       "      <td>19</td>\n",
       "    </tr>\n",
       "  </tbody>\n",
       "</table>\n",
       "</div>"
      ],
      "text/plain": [
       "   text_id               term                                   doc_text  \\\n",
       "0     2797  стеноз аортальный  q23.0 врожденный стеноз аортальный клапан   \n",
       "1     2798  стеноз аортальный  q23.0 врожденный стеноз аортальный клапан   \n",
       "2     2799  стеноз аортальный  q23.0 врожденный стеноз аортальный клапан   \n",
       "3     2800  стеноз аортальный  q23.0 врожденный стеноз аортальный клапан   \n",
       "4     2801  стеноз аортальный  q23.0 врожденный стеноз аортальный клапан   \n",
       "\n",
       "  term_encoded  term_id  term_count  \n",
       "0           са        2          19  \n",
       "1           са        2          19  \n",
       "2           са        2          19  \n",
       "3           са        2          19  \n",
       "4           са        2          19  "
      ]
     },
     "execution_count": 43,
     "metadata": {},
     "output_type": "execute_result"
    }
   ],
   "source": [
    "df_terms_indexes.head()"
   ]
  },
  {
   "cell_type": "code",
   "execution_count": 47,
   "metadata": {},
   "outputs": [],
   "source": [
    "import matplotlib.pyplot as plt\n",
    "import seaborn as sns"
   ]
  },
  {
   "cell_type": "code",
   "execution_count": 48,
   "metadata": {},
   "outputs": [
    {
     "data": {
      "text/plain": [
       "<Figure size 720x720 with 0 Axes>"
      ]
     },
     "metadata": {},
     "output_type": "display_data"
    },
    {
     "data": {
      "image/png": "[encoded data removed]",
      "text/plain": [
       "<Figure size 405.875x360 with 1 Axes>"
      ]
     },
     "metadata": {
      "needs_background": "light"
     },
     "output_type": "display_data"
    }
   ],
   "source": [
    "plt.figure(figsize=(10, 10))\n",
    "sns.displot(x='term_count', hue='term_id', data=df_terms_indexes)\n",
    "plt.ylim(0, 200)\n",
    "plt.show()"
   ]
  },
  {
   "cell_type": "markdown",
   "metadata": {},
   "source": [
    "Оставим только те термины, которые встречаются более 250 раз"
   ]
  },
  {
   "cell_type": "code",
   "execution_count": 60,
   "metadata": {},
   "outputs": [],
   "source": [
    "df_terms_stripped = df_terms_indexes[\n",
    "        (df_terms_indexes.term_count >= 0) &\n",
    "        (df_terms_indexes.term_count <= 300)]"
   ]
  },
  {
   "cell_type": "code",
   "execution_count": 61,
   "metadata": {},
   "outputs": [
    {
     "data": {
      "text/html": [
       "<div>\n",
       "<style scoped>\n",
       "    .dataframe tbody tr th:only-of-type {\n",
       "        vertical-align: middle;\n",
       "    }\n",
       "\n",
       "    .dataframe tbody tr th {\n",
       "        vertical-align: top;\n",
       "    }\n",
       "\n",
       "    .dataframe thead th {\n",
       "        text-align: right;\n",
       "    }\n",
       "</style>\n",
       "<table border=\"1\" class=\"dataframe\">\n",
       "  <thead>\n",
       "    <tr style=\"text-align: right;\">\n",
       "      <th></th>\n",
       "      <th>text_id</th>\n",
       "      <th>term</th>\n",
       "      <th>doc_text</th>\n",
       "      <th>term_encoded</th>\n",
       "      <th>term_id</th>\n",
       "      <th>term_count</th>\n",
       "    </tr>\n",
       "  </thead>\n",
       "  <tbody>\n",
       "    <tr>\n",
       "      <th>0</th>\n",
       "      <td>2797</td>\n",
       "      <td>стеноз аортальный</td>\n",
       "      <td>q23.0 врожденный стеноз аортальный клапан</td>\n",
       "      <td>са</td>\n",
       "      <td>2</td>\n",
       "      <td>19</td>\n",
       "    </tr>\n",
       "    <tr>\n",
       "      <th>1</th>\n",
       "      <td>2798</td>\n",
       "      <td>стеноз аортальный</td>\n",
       "      <td>q23.0 врожденный стеноз аортальный клапан</td>\n",
       "      <td>са</td>\n",
       "      <td>2</td>\n",
       "      <td>19</td>\n",
       "    </tr>\n",
       "    <tr>\n",
       "      <th>2</th>\n",
       "      <td>2799</td>\n",
       "      <td>стеноз аортальный</td>\n",
       "      <td>q23.0 врожденный стеноз аортальный клапан</td>\n",
       "      <td>са</td>\n",
       "      <td>2</td>\n",
       "      <td>19</td>\n",
       "    </tr>\n",
       "    <tr>\n",
       "      <th>3</th>\n",
       "      <td>2800</td>\n",
       "      <td>стеноз аортальный</td>\n",
       "      <td>q23.0 врожденный стеноз аортальный клапан</td>\n",
       "      <td>са</td>\n",
       "      <td>2</td>\n",
       "      <td>19</td>\n",
       "    </tr>\n",
       "    <tr>\n",
       "      <th>4</th>\n",
       "      <td>2801</td>\n",
       "      <td>стеноз аортальный</td>\n",
       "      <td>q23.0 врожденный стеноз аортальный клапан</td>\n",
       "      <td>са</td>\n",
       "      <td>2</td>\n",
       "      <td>19</td>\n",
       "    </tr>\n",
       "  </tbody>\n",
       "</table>\n",
       "</div>"
      ],
      "text/plain": [
       "   text_id               term                                   doc_text  \\\n",
       "0     2797  стеноз аортальный  q23.0 врожденный стеноз аортальный клапан   \n",
       "1     2798  стеноз аортальный  q23.0 врожденный стеноз аортальный клапан   \n",
       "2     2799  стеноз аортальный  q23.0 врожденный стеноз аортальный клапан   \n",
       "3     2800  стеноз аортальный  q23.0 врожденный стеноз аортальный клапан   \n",
       "4     2801  стеноз аортальный  q23.0 врожденный стеноз аортальный клапан   \n",
       "\n",
       "  term_encoded  term_id  term_count  \n",
       "0           са        2          19  \n",
       "1           са        2          19  \n",
       "2           са        2          19  \n",
       "3           са        2          19  \n",
       "4           са        2          19  "
      ]
     },
     "execution_count": 61,
     "metadata": {},
     "output_type": "execute_result"
    }
   ],
   "source": [
    "df_terms_stripped.head()"
   ]
  },
  {
   "cell_type": "code",
   "execution_count": 62,
   "metadata": {},
   "outputs": [
    {
     "data": {
      "text/plain": [
       "(284, 6)"
      ]
     },
     "execution_count": 62,
     "metadata": {},
     "output_type": "execute_result"
    }
   ],
   "source": [
    "df_terms_stripped.shape"
   ]
  },
  {
   "cell_type": "markdown",
   "metadata": {},
   "source": [
    "Выведем уникальные словосочетания для каждых из аббревиатур"
   ]
  },
  {
   "cell_type": "code",
   "execution_count": 63,
   "metadata": {},
   "outputs": [
    {
     "data": {
      "text/plain": [
       "term_encoded\n",
       "см    1\n",
       "са    1\n",
       "мд    1\n",
       "жп    1\n",
       "Name: term, dtype: int64"
      ]
     },
     "execution_count": 63,
     "metadata": {},
     "output_type": "execute_result"
    }
   ],
   "source": [
    "df_terms_stripped.groupby('term_encoded').term.nunique().sort_values(ascending=False).head()"
   ]
  },
  {
   "cell_type": "markdown",
   "metadata": {},
   "source": [
    "Как мы видим, каждой аббревиатуре соотвествует только одно словосочетание(если будем запоминать закодированные обозначения, то мы переобучимся)"
   ]
  },
  {
   "cell_type": "markdown",
   "metadata": {},
   "source": [
    "Закодируем найденные аббревиатуры в три шага:\n",
    "\n",
    "1. Найдем кодировку термина (в этом случае мы считаем, что аббревиатура это первые слова словосочетания)\n",
    "2. Завернем аббревиатуру в фигурные скобки: ад -> {ад}\n",
    "3. Заменим в тексте словосочетание на завернутую аббревиатуру\n",
    "\n",
    "'артериальное давление' -> 'ад' -> '{ад}'"
   ]
  },
  {
   "cell_type": "code",
   "execution_count": 64,
   "metadata": {},
   "outputs": [],
   "source": [
    "def replace_terms_at_texts(text):\n",
    "    global ind\n",
    "    \n",
    "    term = df_terms_stripped.term.iloc[ind]\n",
    "    ind += 1\n",
    "    \n",
    "    return text.replace(term, \"{%s}\" % abbr_by_first_letters(term))"
   ]
  },
  {
   "cell_type": "code",
   "execution_count": 65,
   "metadata": {},
   "outputs": [],
   "source": [
    "ind = 0\n",
    "df_terms_stripped.doc_text = df_terms_stripped.doc_text.apply(lambda text: replace_terms_at_texts(text))"
   ]
  },
  {
   "cell_type": "code",
   "execution_count": 66,
   "metadata": {},
   "outputs": [
    {
     "name": "stdout",
     "output_type": "stream",
     "text": [
      "Пример\n",
      "Текст: q23.0 врожденный {са} клапан\n",
      "Аббревиатура: стеноз аортальный\n"
     ]
    }
   ],
   "source": [
    "print('Пример')\n",
    "print('Текст:', df_terms_stripped.doc_text.iloc[0])\n",
    "print('Аббревиатура:', df_terms_stripped.term.iloc[0])"
   ]
  },
  {
   "cell_type": "markdown",
   "metadata": {},
   "source": [
    "## Декодер"
   ]
  },
  {
   "cell_type": "markdown",
   "metadata": {},
   "source": [
    "Алгоритм обучения модели:\n",
    "\n",
    "- На вход подается текст с замененной аббревиатурой и ее расшифровкой\n",
    "- Мы делим текст на три части: текст до аббревиатуры(ТД), сама аббревиатура(АБ) и текст после аббревиатуры(ТП)\n",
    "('ее показание {ад} вышло за пределы' -> ('ее показание', 'ад', 'вышло за пределы')\n",
    "- Затем для векторов ТД и ТП обучим TfidfVectorizer и получим фичи слов до и после аббревитуры\n",
    "- Саму аббревиатуру сделаем вектором для каждого уникального символа входных текстов сопоставим id. Тогда длина вектора аббревиатур будет равна количеству уникальный символом, если char_i входит в аббревиатуру, тогда i элемент равен 1.\n",
    "- Объединение векторов ТД, ТП и АБ будет обучающей выборкой (так как сейчас значений аббревиатур не так много, модель переобучится из-за векторов АБ)\n",
    "\n",
    "(пусть всего три символа в выборке: {'a': 0, 'д': 1, 'с': 2}: тогда 'ад' = [1, 1, 0]'\n"
   ]
  },
  {
   "cell_type": "code",
   "execution_count": 67,
   "metadata": {},
   "outputs": [],
   "source": [
    "from sklearn.feature_extraction.text import TfidfVectorizer\n",
    "from sklearn.ensemble import RandomForestClassifier, GradientBoostingClassifier"
   ]
  },
  {
   "cell_type": "code",
   "execution_count": 68,
   "metadata": {},
   "outputs": [],
   "source": [
    "class AbbreviationDecoder:\n",
    "    own_attributes = ['model', 'window', 'use_abbr_letters']\n",
    "    \n",
    "    def __init__(self, model, window=None, use_abbr_letters=True, **kwargs):\n",
    "        \"\"\"\n",
    "        model: sklearn модель\n",
    "        window: количество слов, рассматриваемая справа и слева аббревиатуры\n",
    "        use_abbr_letters: нужно ли использовать буквы аббревиатур\n",
    "        \"\"\"\n",
    "        \n",
    "        self.window = window\n",
    "        self.use_abbr_letters = use_abbr_letters\n",
    "        \n",
    "        self.model = model\n",
    "        self.model.set_params(**kwargs)\n",
    "        \n",
    "    def init_chars(self, X_train):\n",
    "        \"\"\" Зададим каждому символу уникальный id. \"\"\"\n",
    "        self.idx2char = sorted(set(\"\".join(X_train.to_list())))\n",
    "        self.char2idx = {u:i for i, u in enumerate(self.idx2char)}\n",
    "        \n",
    "    def vectorize_abbr(self, abbr):\n",
    "        vector = np.zeros(len(self.idx2char))\n",
    "        \n",
    "        for a in abbr:\n",
    "            vector[self.char2idx[a]] = 1\n",
    "            \n",
    "        return vector\n",
    "    \n",
    "    def get_before_abbr_after_text(self, text):\n",
    "        text_before = \"\"\n",
    "        text_after = \"\"\n",
    "        text_abbr = \"\"\n",
    "        \n",
    "        fl_code = 0\n",
    "        \n",
    "        for ch in text:\n",
    "            if ch == \"{\":\n",
    "                fl_code = 1\n",
    "            elif ch == \"}\":\n",
    "                fl_code = 2\n",
    "                \n",
    "            elif fl_code == 0:\n",
    "                text_before += ch\n",
    "            elif fl_code == 1:\n",
    "                text_abbr += ch\n",
    "            elif fl_code == 2:\n",
    "                text_after += ch\n",
    "        \n",
    "        if self.window:\n",
    "            text_before = \" \".join(text_before.split()[-self.window:])\n",
    "            text_after = \" \".join(text_after.split()[:self.window])\n",
    "            \n",
    "        return text_before, text_abbr, text_after\n",
    "    \n",
    "    \n",
    "    def get_text_features(self, x_before, x_abbrs, x_after, fit=False):\n",
    "        \n",
    "        if fit:\n",
    "            self.before_vectorizer = TfidfVectorizer(max_features=200)\n",
    "            self.after_vectorizer = TfidfVectorizer(max_features=200)\n",
    "            \n",
    "            self.before_vectorizer.fit(x_before)\n",
    "            self.after_vectorizer.fit(x_before)\n",
    "            \n",
    "        before_features = self.before_vectorizer.transform(x_before).toarray()\n",
    "        after_features  = self.after_vectorizer.transform(x_after).toarray()\n",
    "        \n",
    "        sample_train = np.hstack((before_features, after_features))\n",
    "        \n",
    "        if self.use_abbr_letters:\n",
    "            sample_train = np.hstack((sample_train, x_abbrs))\n",
    "            \n",
    "        return sample_train\n",
    "    \n",
    "    def get_vectorized_data(self, data, fit=False):\n",
    "        x_before = []\n",
    "        x_abbrs = []\n",
    "        x_after = []\n",
    "        \n",
    "        for sample in data:\n",
    "            x_b, x_abbr, x_a = self.get_before_abbr_after_text(sample)\n",
    "            x_before.append(x_b)\n",
    "            x_abbrs.append(self.vectorize_abbr(x_abbr))\n",
    "            x_after.append(x_a)\n",
    "        \n",
    "        data = self.get_text_features(x_before, x_abbrs, x_after, fit)\n",
    "        \n",
    "        return data\n",
    "    \n",
    "    \n",
    "    def fit(self, X_train, y_train):\n",
    "        \"\"\"\n",
    "        X_train - it's a text with encoded abbreviations in brakets\n",
    "        Y_train - abbreavation decode.\n",
    "        \n",
    "        Example:\n",
    "        ['удовлетворительный наполнение и напряжение. {вт} систолический шум на верхушка.']\n",
    "        ['верхушечный толчок']\n",
    "        \"\"\"\n",
    "        \n",
    "        self.init_chars(X_train)\n",
    "        data_train = self.get_vectorized_data(X_train, fit=True)\n",
    "        self.model.fit(data_train, y_train)\n",
    "        \n",
    "        return self\n",
    "    \n",
    "    def predict(self, X_test):\n",
    "        test_data = self.get_vectorized_data(X_test)\n",
    "            \n",
    "        return self.model.predict(test_data)\n",
    "    \n",
    "    def predict_proba(self, X_test):\n",
    "        test_data = self.get_vectorized_data(X_test)\n",
    "        \n",
    "        return self.model.predict_proba(test_data)\n",
    "    \n",
    "    def score(self, X_test, y_test):\n",
    "        y_pred = self.predict(X_test).reshape(-1, )\n",
    "        \n",
    "        return sum(y_pred == y_test) / len(y_test)\n",
    "    \n",
    "    def __repr__(self):\n",
    "        return 'Abbreviation decoder with model:\\n' + str(self.model)\n",
    "    \n",
    "    def get_params(self, **params):\n",
    "        out_params = self.model.get_params(**params)\n",
    "        \n",
    "        out_params.update({\n",
    "            'model': self.model,\n",
    "            'window' : self.window,\n",
    "            'use_abbr_letters': self.use_abbr_letters\n",
    "        })\n",
    "        \n",
    "        return out_params\n",
    "    \n",
    "    def set_params(self, **params):\n",
    "        print(params)\n",
    "        if not params:\n",
    "            return self\n",
    "        \n",
    "        for attr in self.own_attributes:\n",
    "            if attr in params:\n",
    "                setattr(self, attr, params[attr])\n",
    "                \n",
    "            params.pop(attr, None)\n",
    "            \n",
    "        self.model.set_params(**params)\n",
    "        \n",
    "        return self"
   ]
  },
  {
   "cell_type": "markdown",
   "metadata": {},
   "source": [
    "Попробуем обучить baseline модель"
   ]
  },
  {
   "cell_type": "markdown",
   "metadata": {},
   "source": [
    "Разделим выборку на обучающую и тестирующую"
   ]
  },
  {
   "cell_type": "code",
   "execution_count": 69,
   "metadata": {},
   "outputs": [],
   "source": [
    "from sklearn.model_selection import train_test_split"
   ]
  },
  {
   "cell_type": "code",
   "execution_count": 70,
   "metadata": {},
   "outputs": [],
   "source": [
    "X_train, X_test, y_train, y_test = train_test_split(df_terms_stripped.doc_text, df_terms_stripped.term_id, test_size=0.3, random_state=42)"
   ]
  },
  {
   "cell_type": "code",
   "execution_count": 71,
   "metadata": {},
   "outputs": [
    {
     "data": {
      "text/html": [
       "<div>\n",
       "<style scoped>\n",
       "    .dataframe tbody tr th:only-of-type {\n",
       "        vertical-align: middle;\n",
       "    }\n",
       "\n",
       "    .dataframe tbody tr th {\n",
       "        vertical-align: top;\n",
       "    }\n",
       "\n",
       "    .dataframe thead th {\n",
       "        text-align: right;\n",
       "    }\n",
       "</style>\n",
       "<table border=\"1\" class=\"dataframe\">\n",
       "  <thead>\n",
       "    <tr style=\"text-align: right;\">\n",
       "      <th></th>\n",
       "      <th>количество в обучающей выборке</th>\n",
       "      <th>количество в тестирующей выборке</th>\n",
       "    </tr>\n",
       "  </thead>\n",
       "  <tbody>\n",
       "    <tr>\n",
       "      <th>0</th>\n",
       "      <td>99</td>\n",
       "      <td>51</td>\n",
       "    </tr>\n",
       "    <tr>\n",
       "      <th>1</th>\n",
       "      <td>54</td>\n",
       "      <td>22</td>\n",
       "    </tr>\n",
       "    <tr>\n",
       "      <th>3</th>\n",
       "      <td>29</td>\n",
       "      <td>10</td>\n",
       "    </tr>\n",
       "    <tr>\n",
       "      <th>2</th>\n",
       "      <td>16</td>\n",
       "      <td>3</td>\n",
       "    </tr>\n",
       "  </tbody>\n",
       "</table>\n",
       "</div>"
      ],
      "text/plain": [
       "   количество в обучающей выборке  количество в тестирующей выборке\n",
       "0                              99                                51\n",
       "1                              54                                22\n",
       "3                              29                                10\n",
       "2                              16                                 3"
      ]
     },
     "execution_count": 71,
     "metadata": {},
     "output_type": "execute_result"
    }
   ],
   "source": [
    "df_labels = pd.DataFrame([y_train.value_counts(), y_test.value_counts()]).T\n",
    "df_labels.columns = ['количество в обучающей выборке', 'количество в тестирующей выборке']\n",
    "df_labels = df_labels.sort_values('количество в обучающей выборке', ascending=False)\n",
    "df_labels.head(10)"
   ]
  },
  {
   "cell_type": "markdown",
   "metadata": {},
   "source": [
    "Объявим и обучим нашу модель сначала с буквами аббревиатур"
   ]
  },
  {
   "cell_type": "code",
   "execution_count": 72,
   "metadata": {},
   "outputs": [],
   "source": [
    "model = AbbreviationDecoder(\n",
    "    model=RandomForestClassifier(random_state=42), \n",
    "    window=5)"
   ]
  },
  {
   "cell_type": "code",
   "execution_count": 73,
   "metadata": {},
   "outputs": [
    {
     "data": {
      "text/plain": [
       "Abbreviation decoder with model:\n",
       "RandomForestClassifier(random_state=42)"
      ]
     },
     "execution_count": 73,
     "metadata": {},
     "output_type": "execute_result"
    }
   ],
   "source": [
    "model.fit(X_train, y_train)"
   ]
  },
  {
   "cell_type": "markdown",
   "metadata": {},
   "source": [
    "Посчитаем метрики"
   ]
  },
  {
   "cell_type": "code",
   "execution_count": 74,
   "metadata": {},
   "outputs": [],
   "source": [
    "from sklearn.metrics import precision_score, recall_score, confusion_matrix\n",
    "from sklearn import metrics"
   ]
  },
  {
   "cell_type": "code",
   "execution_count": 75,
   "metadata": {},
   "outputs": [
    {
     "name": "stdout",
     "output_type": "stream",
     "text": [
      "accuracity: 1.0000\n",
      "precission: 1.0000\n",
      "recall    : 1.0000\n"
     ]
    }
   ],
   "source": [
    "print('accuracity: %.4f' % model.score(X_test, y_test))\n",
    "print('precission: %.4f' % precision_score(model.predict(X_test), y_test, average='weighted', zero_division=True))\n",
    "print('recall    : %.4f' % recall_score(model.predict(X_test), y_test, average='weighted', zero_division=True))"
   ]
  },
  {
   "cell_type": "markdown",
   "metadata": {},
   "source": [
    "Да, как и ожидалось, переобучились. Попробуем без значений букв"
   ]
  },
  {
   "cell_type": "code",
   "execution_count": 76,
   "metadata": {},
   "outputs": [],
   "source": [
    "import xgboost as xgb"
   ]
  },
  {
   "cell_type": "code",
   "execution_count": 77,
   "metadata": {},
   "outputs": [],
   "source": [
    "model = AbbreviationDecoder(\n",
    "    model=RandomForestClassifier(max_depth=10, random_state=42), \n",
    "    use_abbr_letters=False,\n",
    "    window=5)"
   ]
  },
  {
   "cell_type": "code",
   "execution_count": 78,
   "metadata": {},
   "outputs": [
    {
     "data": {
      "text/plain": [
       "Abbreviation decoder with model:\n",
       "RandomForestClassifier(max_depth=10, random_state=42)"
      ]
     },
     "execution_count": 78,
     "metadata": {},
     "output_type": "execute_result"
    }
   ],
   "source": [
    "model.fit(X_train, y_train)"
   ]
  },
  {
   "cell_type": "code",
   "execution_count": 79,
   "metadata": {},
   "outputs": [
    {
     "name": "stdout",
     "output_type": "stream",
     "text": [
      "accuracity: 1.0000\n",
      "precission: 1.0000\n",
      "recall    : 1.0000\n"
     ]
    }
   ],
   "source": [
    "print('accuracity: %.4f' % model.score(X_test, y_test))\n",
    "print('precission: %.4f' % precision_score(model.predict(X_test), y_test, average='weighted', zero_division=True))\n",
    "print('recall    : %.4f' % recall_score(model.predict(X_test), y_test, average='weighted', zero_division=True))"
   ]
  },
  {
   "cell_type": "code",
   "execution_count": 80,
   "metadata": {},
   "outputs": [
    {
     "data": {
      "text/plain": [
       "'стеноз аортальный'"
      ]
     },
     "execution_count": 80,
     "metadata": {},
     "output_type": "execute_result"
    }
   ],
   "source": [
    "idx2term[model.predict(['его {ад} превысело норму']).reshape(-1)[0]]"
   ]
  },
  {
   "cell_type": "markdown",
   "metadata": {},
   "source": [
    "Если вообще не использовать значение аббревиатур, то результат похуже, но когда данных будет побольше, то можно уже будет воспользоваться значениями аббревиатур, тогда метрики вырастут"
   ]
  },
  {
   "cell_type": "markdown",
   "metadata": {},
   "source": [
    "Дальше не будем пользоваться значениями аббревиатур"
   ]
  },
  {
   "cell_type": "code",
   "execution_count": 82,
   "metadata": {},
   "outputs": [],
   "source": [
    "from catboost import CatBoostClassifier"
   ]
  },
  {
   "cell_type": "code",
   "execution_count": 83,
   "metadata": {},
   "outputs": [
    {
     "data": {
      "text/plain": [
       "Abbreviation decoder with model:\n",
       "<catboost.core.CatBoostClassifier object at 0x7f99088cd820>"
      ]
     },
     "execution_count": 83,
     "metadata": {},
     "output_type": "execute_result"
    }
   ],
   "source": [
    "model = AbbreviationDecoder(\n",
    "    model=CatBoostClassifier(verbose=0),\n",
    "    use_abbr_letters=False,\n",
    "    window=5)\n",
    "\n",
    "model.fit(X_train, y_train)"
   ]
  },
  {
   "cell_type": "code",
   "execution_count": 84,
   "metadata": {},
   "outputs": [
    {
     "name": "stdout",
     "output_type": "stream",
     "text": [
      "accuracity: 1.0000\n",
      "precission: 1.0000\n",
      "recall    : 1.0000\n"
     ]
    }
   ],
   "source": [
    "print('accuracity: %.4f' % model.score(X_test, y_test))\n",
    "print('precission: %.4f' % precision_score(model.predict(X_test), y_test, average='weighted', zero_division=True))\n",
    "print('recall    : %.4f' % recall_score(model.predict(X_test), y_test, average='weighted', zero_division=True))"
   ]
  },
  {
   "cell_type": "markdown",
   "metadata": {},
   "source": [
    "## Тюнинг модели"
   ]
  },
  {
   "cell_type": "code",
   "execution_count": 85,
   "metadata": {},
   "outputs": [],
   "source": [
    "import seaborn as sns\n",
    "import matplotlib.pyplot as plt"
   ]
  },
  {
   "cell_type": "code",
   "execution_count": 86,
   "metadata": {},
   "outputs": [],
   "source": [
    "def evaluate_model_performnce(y_test, y_pred, y_score):\n",
    "    precision = precision_score(y_test, y_pred, average='weighted')\n",
    "    recall = recall_score(y_test, y_pred, average='weighted')\n",
    "    f1 = 2 * (precision * recall) / (precision + recall)\n",
    "    accuracy = metrics.balanced_accuracy_score(y_test, y_pred)\n",
    "    \n",
    "    print(\"Precision : \",precision)\n",
    "    print(\"Recall : \",recall)\n",
    "    print(\"F1 Score : \",f1)\n",
    "    print(\"Balanced Accuracy : \",accuracy)\n",
    "    accuracy = metrics.accuracy_score(y_test, y_pred)\n",
    "    print(\"Accuracy Score : \", accuracy)\n",
    "    \n",
    "    if len(np.unique(y_test)) != y_score.shape[1]:\n",
    "        roc_auc = metrics.roc_auc_score(y_test, y_score, average='weighted', multi_class='ovr')\n",
    "        print(\"ROC-AUC Value : \", roc_auc)\n",
    "    \n",
    "    return accuracy, roc_auc, f1"
   ]
  },
  {
   "cell_type": "code",
   "execution_count": 178,
   "metadata": {},
   "outputs": [],
   "source": [
    "def fit_and_get_stats(clf_model):\n",
    "    model = AbbreviationDecoder(\n",
    "        model=clf_model,\n",
    "        use_abbr_letters=False\n",
    "    )\n",
    "    model.fit(X_train, y_train)\n",
    "    y_pred = model.predict(X_test)\n",
    "    y_score = model.predict_proba(X_test)\n",
    "    \n",
    "    print(type(clf_model).__name__)\n",
    "    \n",
    "    return y_pred, model, type(clf_model).__name__, *evaluate_model_performnce(y_test, y_pred, y_score)"
   ]
  },
  {
   "cell_type": "code",
   "execution_count": 179,
   "metadata": {},
   "outputs": [],
   "source": [
    "def models_stats(*model_list):\n",
    "    stats = []\n",
    "    fited_model_list = []\n",
    "    y_preds = []\n",
    "    \n",
    "    for model in model_list:\n",
    "        y_pred, model, *predict_stats = fit_and_get_stats(model)\n",
    "        stats.append(predict_stats)\n",
    "        y_preds.append(y_pred)\n",
    "        fited_model_list.append(model)\n",
    "        print('\\n')\n",
    "        \n",
    "    return y_preds, fited_model_list, pd.DataFrame(stats, columns=['model', 'accuracy', 'roc_auc', 'f1_score'])"
   ]
  },
  {
   "cell_type": "code",
   "execution_count": 180,
   "metadata": {},
   "outputs": [],
   "source": [
    "from lightgbm import LGBMClassifier\n",
    "from catboost import CatBoostClassifier\n",
    "from sklearn.linear_model import LogisticRegression\n",
    "from xgboost import XGBClassifier\n",
    "from sklearn.ensemble import VotingClassifier"
   ]
  },
  {
   "cell_type": "code",
   "execution_count": 181,
   "metadata": {},
   "outputs": [
    {
     "ename": "KeyboardInterrupt",
     "evalue": "",
     "output_type": "error",
     "traceback": [
      "\u001b[0;31m---------------------------------------------------------------------------\u001b[0m",
      "\u001b[0;31mKeyboardInterrupt\u001b[0m                         Traceback (most recent call last)",
      "\u001b[0;32m<ipython-input-181-7cc59154b562>\u001b[0m in \u001b[0;36m<module>\u001b[0;34m\u001b[0m\n\u001b[0;32m----> 1\u001b[0;31m y_preds, model_list, df_results = models_stats(\n\u001b[0m\u001b[1;32m      2\u001b[0m     \u001b[0mLogisticRegression\u001b[0m\u001b[0;34m(\u001b[0m\u001b[0mrandom_state\u001b[0m\u001b[0;34m=\u001b[0m\u001b[0;36m42\u001b[0m\u001b[0;34m)\u001b[0m\u001b[0;34m,\u001b[0m\u001b[0;34m\u001b[0m\u001b[0;34m\u001b[0m\u001b[0m\n\u001b[1;32m      3\u001b[0m     \u001b[0mRandomForestClassifier\u001b[0m\u001b[0;34m(\u001b[0m\u001b[0mrandom_state\u001b[0m\u001b[0;34m=\u001b[0m\u001b[0;36m42\u001b[0m\u001b[0;34m)\u001b[0m\u001b[0;34m,\u001b[0m\u001b[0;34m\u001b[0m\u001b[0;34m\u001b[0m\u001b[0m\n\u001b[1;32m      4\u001b[0m     \u001b[0mXGBClassifier\u001b[0m\u001b[0;34m(\u001b[0m\u001b[0mrandom_state\u001b[0m\u001b[0;34m=\u001b[0m\u001b[0;36m42\u001b[0m\u001b[0;34m)\u001b[0m\u001b[0;34m,\u001b[0m\u001b[0;34m\u001b[0m\u001b[0;34m\u001b[0m\u001b[0m\n\u001b[1;32m      5\u001b[0m     \u001b[0mLGBMClassifier\u001b[0m\u001b[0;34m(\u001b[0m\u001b[0mrandom_state\u001b[0m\u001b[0;34m=\u001b[0m\u001b[0;36m42\u001b[0m\u001b[0;34m)\u001b[0m\u001b[0;34m,\u001b[0m\u001b[0;34m\u001b[0m\u001b[0;34m\u001b[0m\u001b[0m\n",
      "\u001b[0;32m<ipython-input-179-aff1fd66d923>\u001b[0m in \u001b[0;36mmodels_stats\u001b[0;34m(*model_list)\u001b[0m\n\u001b[1;32m      5\u001b[0m \u001b[0;34m\u001b[0m\u001b[0m\n\u001b[1;32m      6\u001b[0m     \u001b[0;32mfor\u001b[0m \u001b[0mmodel\u001b[0m \u001b[0;32min\u001b[0m \u001b[0mmodel_list\u001b[0m\u001b[0;34m:\u001b[0m\u001b[0;34m\u001b[0m\u001b[0;34m\u001b[0m\u001b[0m\n\u001b[0;32m----> 7\u001b[0;31m         \u001b[0my_pred\u001b[0m\u001b[0;34m,\u001b[0m \u001b[0mmodel\u001b[0m\u001b[0;34m,\u001b[0m \u001b[0;34m*\u001b[0m\u001b[0mpredict_stats\u001b[0m \u001b[0;34m=\u001b[0m \u001b[0mfit_and_get_stats\u001b[0m\u001b[0;34m(\u001b[0m\u001b[0mmodel\u001b[0m\u001b[0;34m)\u001b[0m\u001b[0;34m\u001b[0m\u001b[0;34m\u001b[0m\u001b[0m\n\u001b[0m\u001b[1;32m      8\u001b[0m         \u001b[0mstats\u001b[0m\u001b[0;34m.\u001b[0m\u001b[0mappend\u001b[0m\u001b[0;34m(\u001b[0m\u001b[0mpredict_stats\u001b[0m\u001b[0;34m)\u001b[0m\u001b[0;34m\u001b[0m\u001b[0;34m\u001b[0m\u001b[0m\n\u001b[1;32m      9\u001b[0m         \u001b[0my_preds\u001b[0m\u001b[0;34m.\u001b[0m\u001b[0mappend\u001b[0m\u001b[0;34m(\u001b[0m\u001b[0my_pred\u001b[0m\u001b[0;34m)\u001b[0m\u001b[0;34m\u001b[0m\u001b[0;34m\u001b[0m\u001b[0m\n",
      "\u001b[0;32m<ipython-input-178-755a77a44902>\u001b[0m in \u001b[0;36mfit_and_get_stats\u001b[0;34m(clf_model)\u001b[0m\n\u001b[1;32m      5\u001b[0m     )\n\u001b[1;32m      6\u001b[0m     \u001b[0mmodel\u001b[0m\u001b[0;34m.\u001b[0m\u001b[0mfit\u001b[0m\u001b[0;34m(\u001b[0m\u001b[0mX_train\u001b[0m\u001b[0;34m,\u001b[0m \u001b[0my_train\u001b[0m\u001b[0;34m)\u001b[0m\u001b[0;34m\u001b[0m\u001b[0;34m\u001b[0m\u001b[0m\n\u001b[0;32m----> 7\u001b[0;31m     \u001b[0my_pred\u001b[0m \u001b[0;34m=\u001b[0m \u001b[0mmodel\u001b[0m\u001b[0;34m.\u001b[0m\u001b[0mpredict\u001b[0m\u001b[0;34m(\u001b[0m\u001b[0mX_test\u001b[0m\u001b[0;34m)\u001b[0m\u001b[0;34m\u001b[0m\u001b[0;34m\u001b[0m\u001b[0m\n\u001b[0m\u001b[1;32m      8\u001b[0m     \u001b[0my_score\u001b[0m \u001b[0;34m=\u001b[0m \u001b[0mmodel\u001b[0m\u001b[0;34m.\u001b[0m\u001b[0mpredict_proba\u001b[0m\u001b[0;34m(\u001b[0m\u001b[0mX_test\u001b[0m\u001b[0;34m)\u001b[0m\u001b[0;34m\u001b[0m\u001b[0;34m\u001b[0m\u001b[0m\n\u001b[1;32m      9\u001b[0m \u001b[0;34m\u001b[0m\u001b[0m\n",
      "\u001b[0;32m<ipython-input-126-316c5adb06a4>\u001b[0m in \u001b[0;36mpredict\u001b[0;34m(self, X_test)\u001b[0m\n\u001b[1;32m    107\u001b[0m \u001b[0;34m\u001b[0m\u001b[0m\n\u001b[1;32m    108\u001b[0m     \u001b[0;32mdef\u001b[0m \u001b[0mpredict\u001b[0m\u001b[0;34m(\u001b[0m\u001b[0mself\u001b[0m\u001b[0;34m,\u001b[0m \u001b[0mX_test\u001b[0m\u001b[0;34m)\u001b[0m\u001b[0;34m:\u001b[0m\u001b[0;34m\u001b[0m\u001b[0;34m\u001b[0m\u001b[0m\n\u001b[0;32m--> 109\u001b[0;31m         \u001b[0mtest_data\u001b[0m \u001b[0;34m=\u001b[0m \u001b[0mself\u001b[0m\u001b[0;34m.\u001b[0m\u001b[0mget_vectorized_data\u001b[0m\u001b[0;34m(\u001b[0m\u001b[0mX_test\u001b[0m\u001b[0;34m)\u001b[0m\u001b[0;34m\u001b[0m\u001b[0;34m\u001b[0m\u001b[0m\n\u001b[0m\u001b[1;32m    110\u001b[0m \u001b[0;34m\u001b[0m\u001b[0m\n\u001b[1;32m    111\u001b[0m         \u001b[0;32mreturn\u001b[0m \u001b[0mself\u001b[0m\u001b[0;34m.\u001b[0m\u001b[0mmodel\u001b[0m\u001b[0;34m.\u001b[0m\u001b[0mpredict\u001b[0m\u001b[0;34m(\u001b[0m\u001b[0mtest_data\u001b[0m\u001b[0;34m)\u001b[0m\u001b[0;34m\u001b[0m\u001b[0;34m\u001b[0m\u001b[0m\n",
      "\u001b[0;32m<ipython-input-126-316c5adb06a4>\u001b[0m in \u001b[0;36mget_vectorized_data\u001b[0;34m(self, data, fit)\u001b[0m\n\u001b[1;32m     80\u001b[0m \u001b[0;34m\u001b[0m\u001b[0m\n\u001b[1;32m     81\u001b[0m         \u001b[0;32mfor\u001b[0m \u001b[0msample\u001b[0m \u001b[0;32min\u001b[0m \u001b[0mdata\u001b[0m\u001b[0;34m:\u001b[0m\u001b[0;34m\u001b[0m\u001b[0;34m\u001b[0m\u001b[0m\n\u001b[0;32m---> 82\u001b[0;31m             \u001b[0mx_b\u001b[0m\u001b[0;34m,\u001b[0m \u001b[0mx_abbr\u001b[0m\u001b[0;34m,\u001b[0m \u001b[0mx_a\u001b[0m \u001b[0;34m=\u001b[0m \u001b[0mself\u001b[0m\u001b[0;34m.\u001b[0m\u001b[0mget_before_abbr_after_text\u001b[0m\u001b[0;34m(\u001b[0m\u001b[0msample\u001b[0m\u001b[0;34m)\u001b[0m\u001b[0;34m\u001b[0m\u001b[0;34m\u001b[0m\u001b[0m\n\u001b[0m\u001b[1;32m     83\u001b[0m             \u001b[0mx_before\u001b[0m\u001b[0;34m.\u001b[0m\u001b[0mappend\u001b[0m\u001b[0;34m(\u001b[0m\u001b[0mx_b\u001b[0m\u001b[0;34m)\u001b[0m\u001b[0;34m\u001b[0m\u001b[0;34m\u001b[0m\u001b[0m\n\u001b[1;32m     84\u001b[0m             \u001b[0mx_abbrs\u001b[0m\u001b[0;34m.\u001b[0m\u001b[0mappend\u001b[0m\u001b[0;34m(\u001b[0m\u001b[0mself\u001b[0m\u001b[0;34m.\u001b[0m\u001b[0mvectorize_abbr\u001b[0m\u001b[0;34m(\u001b[0m\u001b[0mx_abbr\u001b[0m\u001b[0;34m)\u001b[0m\u001b[0;34m)\u001b[0m\u001b[0;34m\u001b[0m\u001b[0;34m\u001b[0m\u001b[0m\n",
      "\u001b[0;32m<ipython-input-126-316c5adb06a4>\u001b[0m in \u001b[0;36mget_before_abbr_after_text\u001b[0;34m(self, text)\u001b[0m\n\u001b[1;32m     46\u001b[0m                 \u001b[0mtext_abbr\u001b[0m \u001b[0;34m+=\u001b[0m \u001b[0mch\u001b[0m\u001b[0;34m\u001b[0m\u001b[0;34m\u001b[0m\u001b[0m\n\u001b[1;32m     47\u001b[0m             \u001b[0;32melif\u001b[0m \u001b[0mfl_code\u001b[0m \u001b[0;34m==\u001b[0m \u001b[0;36m2\u001b[0m\u001b[0;34m:\u001b[0m\u001b[0;34m\u001b[0m\u001b[0;34m\u001b[0m\u001b[0m\n\u001b[0;32m---> 48\u001b[0;31m                 \u001b[0mtext_after\u001b[0m \u001b[0;34m+=\u001b[0m \u001b[0mch\u001b[0m\u001b[0;34m\u001b[0m\u001b[0;34m\u001b[0m\u001b[0m\n\u001b[0m\u001b[1;32m     49\u001b[0m \u001b[0;34m\u001b[0m\u001b[0m\n\u001b[1;32m     50\u001b[0m         \u001b[0;32mif\u001b[0m \u001b[0mself\u001b[0m\u001b[0;34m.\u001b[0m\u001b[0mwindow\u001b[0m\u001b[0;34m:\u001b[0m\u001b[0;34m\u001b[0m\u001b[0;34m\u001b[0m\u001b[0m\n",
      "\u001b[0;31mKeyboardInterrupt\u001b[0m: "
     ]
    }
   ],
   "source": [
    "y_preds, model_list, df_results = models_stats(\n",
    "    LogisticRegression(random_state=42),\n",
    "    RandomForestClassifier(random_state=42),\n",
    "    XGBClassifier(random_state=42),\n",
    "    LGBMClassifier(random_state=42),\n",
    "    CatBoostClassifier(random_state=42, verbose=0),\n",
    ")"
   ]
  },
  {
   "cell_type": "code",
   "execution_count": 95,
   "metadata": {},
   "outputs": [],
   "source": [
    "lr_clf, rfc_clf, xgb_clf, lgb_clf, cat_clf = model_list"
   ]
  },
  {
   "cell_type": "code",
   "execution_count": 101,
   "metadata": {},
   "outputs": [],
   "source": [
    "from sklearn.ensemble import VotingClassifier"
   ]
  },
  {
   "cell_type": "code",
   "execution_count": 182,
   "metadata": {},
   "outputs": [
    {
     "name": "stdout",
     "output_type": "stream",
     "text": [
      "VotingClassifier\n",
      "Precision :  0.9640458399371741\n",
      "Recall :  0.9669565217391304\n",
      "F1 Score :  0.9654989871410548\n",
      "Balanced Accuracy :  0.6948545241308399\n",
      "Accuracy Score :  0.9669565217391304\n"
     ]
    },
    {
     "name": "stderr",
     "output_type": "stream",
     "text": [
      "/Users/michil/.virtualenvs/cs102/lib/python3.8/site-packages/sklearn/metrics/_classification.py:1221: UndefinedMetricWarning: Precision is ill-defined and being set to 0.0 in labels with no predicted samples. Use `zero_division` parameter to control this behavior.\n",
      "  _warn_prf(average, modifier, msg_start, len(result))\n"
     ]
    },
    {
     "ename": "ValueError",
     "evalue": "Number of classes in y_true not equal to the number of columns in 'y_score'",
     "output_type": "error",
     "traceback": [
      "\u001b[0;31m---------------------------------------------------------------------------\u001b[0m",
      "\u001b[0;31mValueError\u001b[0m                                Traceback (most recent call last)",
      "\u001b[0;32m<ipython-input-182-1ba5a84993fe>\u001b[0m in \u001b[0;36m<module>\u001b[0;34m\u001b[0m\n\u001b[1;32m     10\u001b[0m     voting='soft')\n\u001b[1;32m     11\u001b[0m \u001b[0;34m\u001b[0m\u001b[0m\n\u001b[0;32m---> 12\u001b[0;31m \u001b[0mfit_and_get_stats\u001b[0m\u001b[0;34m(\u001b[0m\u001b[0mv_clf\u001b[0m\u001b[0;34m)\u001b[0m\u001b[0;34m\u001b[0m\u001b[0;34m\u001b[0m\u001b[0m\n\u001b[0m",
      "\u001b[0;32m<ipython-input-178-755a77a44902>\u001b[0m in \u001b[0;36mfit_and_get_stats\u001b[0;34m(clf_model)\u001b[0m\n\u001b[1;32m     10\u001b[0m     \u001b[0mprint\u001b[0m\u001b[0;34m(\u001b[0m\u001b[0mtype\u001b[0m\u001b[0;34m(\u001b[0m\u001b[0mclf_model\u001b[0m\u001b[0;34m)\u001b[0m\u001b[0;34m.\u001b[0m\u001b[0m__name__\u001b[0m\u001b[0;34m)\u001b[0m\u001b[0;34m\u001b[0m\u001b[0;34m\u001b[0m\u001b[0m\n\u001b[1;32m     11\u001b[0m \u001b[0;34m\u001b[0m\u001b[0m\n\u001b[0;32m---> 12\u001b[0;31m     \u001b[0;32mreturn\u001b[0m \u001b[0my_pred\u001b[0m\u001b[0;34m,\u001b[0m \u001b[0mmodel\u001b[0m\u001b[0;34m,\u001b[0m \u001b[0mtype\u001b[0m\u001b[0;34m(\u001b[0m\u001b[0mclf_model\u001b[0m\u001b[0;34m)\u001b[0m\u001b[0;34m.\u001b[0m\u001b[0m__name__\u001b[0m\u001b[0;34m,\u001b[0m \u001b[0;34m*\u001b[0m\u001b[0mevaluate_model_performnce\u001b[0m\u001b[0;34m(\u001b[0m\u001b[0my_test\u001b[0m\u001b[0;34m,\u001b[0m \u001b[0my_pred\u001b[0m\u001b[0;34m,\u001b[0m \u001b[0my_score\u001b[0m\u001b[0;34m)\u001b[0m\u001b[0;34m\u001b[0m\u001b[0;34m\u001b[0m\u001b[0m\n\u001b[0m",
      "\u001b[0;32m<ipython-input-177-48f254a59104>\u001b[0m in \u001b[0;36mevaluate_model_performnce\u001b[0;34m(y_test, y_pred, y_score)\u001b[0m\n\u001b[1;32m     12\u001b[0m     \u001b[0mprint\u001b[0m\u001b[0;34m(\u001b[0m\u001b[0;34m\"Accuracy Score : \"\u001b[0m\u001b[0;34m,\u001b[0m \u001b[0maccuracy\u001b[0m\u001b[0;34m)\u001b[0m\u001b[0;34m\u001b[0m\u001b[0;34m\u001b[0m\u001b[0m\n\u001b[1;32m     13\u001b[0m \u001b[0;34m\u001b[0m\u001b[0m\n\u001b[0;32m---> 14\u001b[0;31m     \u001b[0mroc_auc\u001b[0m \u001b[0;34m=\u001b[0m \u001b[0mmetrics\u001b[0m\u001b[0;34m.\u001b[0m\u001b[0mroc_auc_score\u001b[0m\u001b[0;34m(\u001b[0m\u001b[0my_test\u001b[0m\u001b[0;34m,\u001b[0m \u001b[0my_score\u001b[0m\u001b[0;34m,\u001b[0m \u001b[0maverage\u001b[0m\u001b[0;34m=\u001b[0m\u001b[0;34m'weighted'\u001b[0m\u001b[0;34m,\u001b[0m \u001b[0mmulti_class\u001b[0m\u001b[0;34m=\u001b[0m\u001b[0;34m'ovr'\u001b[0m\u001b[0;34m)\u001b[0m\u001b[0;34m\u001b[0m\u001b[0;34m\u001b[0m\u001b[0m\n\u001b[0m\u001b[1;32m     15\u001b[0m     \u001b[0mprint\u001b[0m\u001b[0;34m(\u001b[0m\u001b[0;34m\"ROC-AUC Value : \"\u001b[0m\u001b[0;34m,\u001b[0m \u001b[0mroc_auc\u001b[0m\u001b[0;34m)\u001b[0m\u001b[0;34m\u001b[0m\u001b[0;34m\u001b[0m\u001b[0m\n\u001b[1;32m     16\u001b[0m \u001b[0;34m\u001b[0m\u001b[0m\n",
      "\u001b[0;32m~/.virtualenvs/cs102/lib/python3.8/site-packages/sklearn/utils/validation.py\u001b[0m in \u001b[0;36minner_f\u001b[0;34m(*args, **kwargs)\u001b[0m\n\u001b[1;32m     71\u001b[0m                           FutureWarning)\n\u001b[1;32m     72\u001b[0m         \u001b[0mkwargs\u001b[0m\u001b[0;34m.\u001b[0m\u001b[0mupdate\u001b[0m\u001b[0;34m(\u001b[0m\u001b[0;34m{\u001b[0m\u001b[0mk\u001b[0m\u001b[0;34m:\u001b[0m \u001b[0marg\u001b[0m \u001b[0;32mfor\u001b[0m \u001b[0mk\u001b[0m\u001b[0;34m,\u001b[0m \u001b[0marg\u001b[0m \u001b[0;32min\u001b[0m \u001b[0mzip\u001b[0m\u001b[0;34m(\u001b[0m\u001b[0msig\u001b[0m\u001b[0;34m.\u001b[0m\u001b[0mparameters\u001b[0m\u001b[0;34m,\u001b[0m \u001b[0margs\u001b[0m\u001b[0;34m)\u001b[0m\u001b[0;34m}\u001b[0m\u001b[0;34m)\u001b[0m\u001b[0;34m\u001b[0m\u001b[0;34m\u001b[0m\u001b[0m\n\u001b[0;32m---> 73\u001b[0;31m         \u001b[0;32mreturn\u001b[0m \u001b[0mf\u001b[0m\u001b[0;34m(\u001b[0m\u001b[0;34m**\u001b[0m\u001b[0mkwargs\u001b[0m\u001b[0;34m)\u001b[0m\u001b[0;34m\u001b[0m\u001b[0;34m\u001b[0m\u001b[0m\n\u001b[0m\u001b[1;32m     74\u001b[0m     \u001b[0;32mreturn\u001b[0m \u001b[0minner_f\u001b[0m\u001b[0;34m\u001b[0m\u001b[0;34m\u001b[0m\u001b[0m\n\u001b[1;32m     75\u001b[0m \u001b[0;34m\u001b[0m\u001b[0m\n",
      "\u001b[0;32m~/.virtualenvs/cs102/lib/python3.8/site-packages/sklearn/metrics/_ranking.py\u001b[0m in \u001b[0;36mroc_auc_score\u001b[0;34m(y_true, y_score, average, sample_weight, max_fpr, multi_class, labels)\u001b[0m\n\u001b[1;32m    383\u001b[0m         \u001b[0;32mif\u001b[0m \u001b[0mmulti_class\u001b[0m \u001b[0;34m==\u001b[0m \u001b[0;34m'raise'\u001b[0m\u001b[0;34m:\u001b[0m\u001b[0;34m\u001b[0m\u001b[0;34m\u001b[0m\u001b[0m\n\u001b[1;32m    384\u001b[0m             \u001b[0;32mraise\u001b[0m \u001b[0mValueError\u001b[0m\u001b[0;34m(\u001b[0m\u001b[0;34m\"multi_class must be in ('ovo', 'ovr')\"\u001b[0m\u001b[0;34m)\u001b[0m\u001b[0;34m\u001b[0m\u001b[0;34m\u001b[0m\u001b[0m\n\u001b[0;32m--> 385\u001b[0;31m         return _multiclass_roc_auc_score(y_true, y_score, labels,\n\u001b[0m\u001b[1;32m    386\u001b[0m                                          multi_class, average, sample_weight)\n\u001b[1;32m    387\u001b[0m     \u001b[0;32melif\u001b[0m \u001b[0my_type\u001b[0m \u001b[0;34m==\u001b[0m \u001b[0;34m\"binary\"\u001b[0m\u001b[0;34m:\u001b[0m\u001b[0;34m\u001b[0m\u001b[0;34m\u001b[0m\u001b[0m\n",
      "\u001b[0;32m~/.virtualenvs/cs102/lib/python3.8/site-packages/sklearn/metrics/_ranking.py\u001b[0m in \u001b[0;36m_multiclass_roc_auc_score\u001b[0;34m(y_true, y_score, labels, multi_class, average, sample_weight)\u001b[0m\n\u001b[1;32m    477\u001b[0m         \u001b[0mclasses\u001b[0m \u001b[0;34m=\u001b[0m \u001b[0m_encode\u001b[0m\u001b[0;34m(\u001b[0m\u001b[0my_true\u001b[0m\u001b[0;34m)\u001b[0m\u001b[0;34m\u001b[0m\u001b[0;34m\u001b[0m\u001b[0m\n\u001b[1;32m    478\u001b[0m         \u001b[0;32mif\u001b[0m \u001b[0mlen\u001b[0m\u001b[0;34m(\u001b[0m\u001b[0mclasses\u001b[0m\u001b[0;34m)\u001b[0m \u001b[0;34m!=\u001b[0m \u001b[0my_score\u001b[0m\u001b[0;34m.\u001b[0m\u001b[0mshape\u001b[0m\u001b[0;34m[\u001b[0m\u001b[0;36m1\u001b[0m\u001b[0;34m]\u001b[0m\u001b[0;34m:\u001b[0m\u001b[0;34m\u001b[0m\u001b[0;34m\u001b[0m\u001b[0m\n\u001b[0;32m--> 479\u001b[0;31m             raise ValueError(\n\u001b[0m\u001b[1;32m    480\u001b[0m                 \u001b[0;34m\"Number of classes in y_true not equal to the number of \"\u001b[0m\u001b[0;34m\u001b[0m\u001b[0;34m\u001b[0m\u001b[0m\n\u001b[1;32m    481\u001b[0m                 \"columns in 'y_score'\")\n",
      "\u001b[0;31mValueError\u001b[0m: Number of classes in y_true not equal to the number of columns in 'y_score'"
     ]
    }
   ],
   "source": [
    "v_xgb = XGBClassifier()\n",
    "v_lgb = LGBMClassifier()\n",
    "v_cat = CatBoostClassifier(verbose=0)\n",
    "\n",
    "v_clf = VotingClassifier(\n",
    "    estimators=[\n",
    "        ('xgb', v_xgb), \n",
    "        ('lgb', v_lgb), \n",
    "        ('cat', v_cat)], \n",
    "    voting='soft')\n",
    "\n",
    "fit_and_get_stats(v_clf)"
   ]
  },
  {
   "cell_type": "code",
   "execution_count": null,
   "metadata": {},
   "outputs": [],
   "source": []
  }
 ],
 "metadata": {
  "kernelspec": {
   "display_name": "cs102",
   "language": "python",
   "name": "cs102"
  },
  "language_info": {
   "codemirror_mode": {
    "name": "ipython",
    "version": 3
   },
   "file_extension": ".py",
   "mimetype": "text/x-python",
   "name": "python",
   "nbconvert_exporter": "python",
   "pygments_lexer": "ipython3",
   "version": "3.8.3"
  }
 },
 "nbformat": 4,
 "nbformat_minor": 4
}
