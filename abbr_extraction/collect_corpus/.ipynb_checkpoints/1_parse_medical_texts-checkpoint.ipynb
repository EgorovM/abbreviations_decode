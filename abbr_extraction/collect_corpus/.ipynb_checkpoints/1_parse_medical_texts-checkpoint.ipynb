{
 "cells": [
  {
   "cell_type": "code",
   "execution_count": 62,
   "metadata": {},
   "outputs": [],
   "source": [
    "import requests\n",
    "import bs4\n",
    "\n",
    "import pandas as pd\n",
    "\n",
    "from tqdm import tqdm as tq"
   ]
  },
  {
   "cell_type": "markdown",
   "metadata": {},
   "source": [
    "### Сборник рефератов - FAGO\n",
    "\n",
    "http://fago.ru/Medicine"
   ]
  },
  {
   "cell_type": "code",
   "execution_count": 63,
   "metadata": {},
   "outputs": [],
   "source": [
    "r = requests.get('http://www.fago.ru/Medicine/')"
   ]
  },
  {
   "cell_type": "code",
   "execution_count": 70,
   "metadata": {},
   "outputs": [],
   "source": [
    "def get_fago_medicine_texts_link(response):\n",
    "    base_url = 'http://fago.ru'\n",
    "    \n",
    "    all_links = bs4.BeautifulSoup(response.content).find_all('a')\n",
    "    medicine_href = list(filter(lambda x: x.get('href').startswith('../Medicine/'), all_links))\n",
    "    \n",
    "    return list(map(lambda x: base_url + x.get('href')[2:], medicine_href))\n",
    "\n",
    "def get_fago_page_text(page_url):\n",
    "    r = requests.get(page_url)\n",
    "    page = bs4.BeautifulSoup(r.content)\n",
    "    \n",
    "    try:\n",
    "        tr_with_text = page.find_all('tr')[3]\n",
    "    except IndexError:\n",
    "        print('страница %s не открылась' % page_url)\n",
    "        return ''\n",
    "    \n",
    "    text = ''\n",
    "\n",
    "    for p in tr_with_text.find_all('p'):\n",
    "        text += p.text + ' '\n",
    "    \n",
    "    return text\n",
    "\n",
    "def get_fago_corpus_by_urls(urls):\n",
    "    contents = []\n",
    "    \n",
    "    for url in tq(urls):\n",
    "        contents.append(get_fago_page_text(url))\n",
    "        \n",
    "    return contents"
   ]
  },
  {
   "cell_type": "code",
   "execution_count": 71,
   "metadata": {},
   "outputs": [],
   "source": [
    "medicine_href = get_fago_medicine_texts_link(r)"
   ]
  },
  {
   "cell_type": "code",
   "execution_count": 72,
   "metadata": {},
   "outputs": [
    {
     "name": "stderr",
     "output_type": "stream",
     "text": [
      " 18%|█▊        | 83/462 [00:40<01:27,  4.33it/s]"
     ]
    },
    {
     "name": "stdout",
     "output_type": "stream",
     "text": [
      "страница http://fago.ru/Medicine/22756.html не открылась\n"
     ]
    },
    {
     "name": "stderr",
     "output_type": "stream",
     "text": [
      " 21%|██        | 98/462 [00:46<02:10,  2.79it/s]"
     ]
    },
    {
     "name": "stdout",
     "output_type": "stream",
     "text": [
      "страница http://fago.ru/Medicine/32597.html не открылась\n"
     ]
    },
    {
     "name": "stderr",
     "output_type": "stream",
     "text": [
      " 22%|██▏       | 101/462 [00:47<02:16,  2.65it/s]"
     ]
    },
    {
     "name": "stdout",
     "output_type": "stream",
     "text": [
      "страница http://fago.ru/Medicine/mz_REFER002.html не открылась\n"
     ]
    },
    {
     "name": "stderr",
     "output_type": "stream",
     "text": [
      " 23%|██▎       | 104/462 [00:47<01:13,  4.90it/s]"
     ]
    },
    {
     "name": "stdout",
     "output_type": "stream",
     "text": [
      "страница http://fago.ru/Medicine/mz_5_a7.html не открылась\n",
      "страница http://fago.ru/Medicine/37288.html не открылась\n"
     ]
    },
    {
     "name": "stderr",
     "output_type": "stream",
     "text": [
      " 23%|██▎       | 106/462 [00:48<00:55,  6.39it/s]"
     ]
    },
    {
     "name": "stdout",
     "output_type": "stream",
     "text": [
      "страница http://fago.ru/Medicine/24381.html не открылась\n",
      "страница http://fago.ru/Medicine/24227.html не открылась\n"
     ]
    },
    {
     "name": "stderr",
     "output_type": "stream",
     "text": [
      " 23%|██▎       | 107/462 [00:48<00:53,  6.59it/s]"
     ]
    },
    {
     "name": "stdout",
     "output_type": "stream",
     "text": [
      "страница http://fago.ru/Medicine/mz_501.html не открылась\n"
     ]
    },
    {
     "name": "stderr",
     "output_type": "stream",
     "text": [
      " 24%|██▍       | 112/462 [00:49<01:03,  5.47it/s]"
     ]
    },
    {
     "name": "stdout",
     "output_type": "stream",
     "text": [
      "страница http://fago.ru/Medicine/30210.html не открылась\n",
      "страница http://fago.ru/Medicine/mz_512.html не открылась\n"
     ]
    },
    {
     "name": "stderr",
     "output_type": "stream",
     "text": [
      " 25%|██▍       | 114/462 [00:49<00:54,  6.42it/s]"
     ]
    },
    {
     "name": "stdout",
     "output_type": "stream",
     "text": [
      "страница http://fago.ru/Medicine/30204.html не открылась\n"
     ]
    },
    {
     "name": "stderr",
     "output_type": "stream",
     "text": [
      " 25%|██▍       | 115/462 [00:50<00:50,  6.89it/s]"
     ]
    },
    {
     "name": "stdout",
     "output_type": "stream",
     "text": [
      "страница http://fago.ru/Medicine/32617.html не открылась\n"
     ]
    },
    {
     "name": "stderr",
     "output_type": "stream",
     "text": [
      " 25%|██▌       | 117/462 [00:51<02:05,  2.75it/s]"
     ]
    },
    {
     "name": "stdout",
     "output_type": "stream",
     "text": [
      "страница http://fago.ru/Medicine/25992.html не открылась\n",
      "страница http://fago.ru/Medicine/37260.html не открылась\n"
     ]
    },
    {
     "name": "stderr",
     "output_type": "stream",
     "text": [
      " 26%|██▌       | 120/462 [00:51<01:08,  4.98it/s]"
     ]
    },
    {
     "name": "stdout",
     "output_type": "stream",
     "text": [
      "страница http://fago.ru/Medicine/30245.html не открылась\n"
     ]
    },
    {
     "name": "stderr",
     "output_type": "stream",
     "text": [
      " 27%|██▋       | 125/462 [00:55<03:59,  1.41it/s]"
     ]
    },
    {
     "name": "stdout",
     "output_type": "stream",
     "text": [
      "страница http://fago.ru/Medicine/32630.html не открылась\n"
     ]
    },
    {
     "name": "stderr",
     "output_type": "stream",
     "text": [
      " 28%|██▊       | 128/462 [00:58<05:13,  1.07it/s]"
     ]
    },
    {
     "name": "stdout",
     "output_type": "stream",
     "text": [
      "страница http://fago.ru/Medicine/22745.html не открылась\n"
     ]
    },
    {
     "name": "stderr",
     "output_type": "stream",
     "text": [
      " 28%|██▊       | 130/462 [01:00<04:26,  1.24it/s]"
     ]
    },
    {
     "name": "stdout",
     "output_type": "stream",
     "text": [
      "страница http://fago.ru/Medicine/30213.html не открылась\n"
     ]
    },
    {
     "name": "stderr",
     "output_type": "stream",
     "text": [
      " 30%|███       | 139/462 [01:04<02:22,  2.27it/s]"
     ]
    },
    {
     "name": "stdout",
     "output_type": "stream",
     "text": [
      "страница http://fago.ru/Medicine/mz_510.html не открылась\n"
     ]
    },
    {
     "name": "stderr",
     "output_type": "stream",
     "text": [
      " 31%|███       | 141/462 [01:06<02:34,  2.07it/s]"
     ]
    },
    {
     "name": "stdout",
     "output_type": "stream",
     "text": [
      "страница http://fago.ru/Medicine/24263.html не открылась\n",
      "страница http://fago.ru/Medicine/mz_5_a3.html не открылась\n"
     ]
    },
    {
     "name": "stderr",
     "output_type": "stream",
     "text": [
      " 31%|███       | 144/462 [01:06<01:18,  4.07it/s]"
     ]
    },
    {
     "name": "stdout",
     "output_type": "stream",
     "text": [
      "страница http://fago.ru/Medicine/mz_514.html не открылась\n",
      "страница http://fago.ru/Medicine/25932.html не открылась\n"
     ]
    },
    {
     "name": "stderr",
     "output_type": "stream",
     "text": [
      " 32%|███▏      | 146/462 [01:07<02:10,  2.43it/s]"
     ]
    },
    {
     "name": "stdout",
     "output_type": "stream",
     "text": [
      "страница http://fago.ru/Medicine/24304.html не открылась\n",
      "страница http://fago.ru/Medicine/25555.html не открылась\n"
     ]
    },
    {
     "name": "stderr",
     "output_type": "stream",
     "text": [
      " 32%|███▏      | 147/462 [01:09<03:40,  1.43it/s]"
     ]
    },
    {
     "name": "stdout",
     "output_type": "stream",
     "text": [
      "страница http://fago.ru/Medicine/24488.html не открылась\n"
     ]
    },
    {
     "name": "stderr",
     "output_type": "stream",
     "text": [
      " 32%|███▏      | 150/462 [01:12<04:45,  1.09it/s]"
     ]
    },
    {
     "name": "stdout",
     "output_type": "stream",
     "text": [
      "страница http://fago.ru/Medicine/30236.html не открылась\n"
     ]
    },
    {
     "name": "stderr",
     "output_type": "stream",
     "text": [
      " 33%|███▎      | 152/462 [01:14<04:17,  1.21it/s]"
     ]
    },
    {
     "name": "stdout",
     "output_type": "stream",
     "text": [
      "страница http://fago.ru/Medicine/32676.html не открылась\n"
     ]
    },
    {
     "name": "stderr",
     "output_type": "stream",
     "text": [
      " 34%|███▎      | 155/462 [01:17<03:57,  1.29it/s]"
     ]
    },
    {
     "name": "stdout",
     "output_type": "stream",
     "text": [
      "страница http://fago.ru/Medicine/32687.html не открылась\n",
      "страница http://fago.ru/Medicine/19770.html не открылась\n"
     ]
    },
    {
     "name": "stderr",
     "output_type": "stream",
     "text": [
      " 34%|███▍      | 156/462 [01:17<03:01,  1.69it/s]"
     ]
    },
    {
     "name": "stdout",
     "output_type": "stream",
     "text": [
      "страница http://fago.ru/Medicine/24437.html не открылась\n"
     ]
    },
    {
     "name": "stderr",
     "output_type": "stream",
     "text": [
      "100%|██████████| 462/462 [04:06<00:00,  1.87it/s]\n"
     ]
    }
   ],
   "source": [
    "corpus = get_fago_corpus_by_urls(medicine_href)"
   ]
  },
  {
   "cell_type": "code",
   "execution_count": 78,
   "metadata": {},
   "outputs": [],
   "source": [
    "df = pd.DataFrame()\n",
    "df['url'] = medicine_href\n",
    "df['content'] = corpus\n",
    "\n",
    "df.to_csv('data/medicine_corpus_fago.csv', sep='\\t', index=False)"
   ]
  },
  {
   "cell_type": "code",
   "execution_count": null,
   "metadata": {},
   "outputs": [],
   "source": []
  }
 ],
 "metadata": {
  "kernelspec": {
   "display_name": "cs102",
   "language": "python",
   "name": "cs102"
  },
  "language_info": {
   "codemirror_mode": {
    "name": "ipython",
    "version": 3
   },
   "file_extension": ".py",
   "mimetype": "text/x-python",
   "name": "python",
   "nbconvert_exporter": "python",
   "pygments_lexer": "ipython3",
   "version": "3.8.3"
  }
 },
 "nbformat": 4,
 "nbformat_minor": 4
}
