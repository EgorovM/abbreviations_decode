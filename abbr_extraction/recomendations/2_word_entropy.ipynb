{
 "cells": [
  {
   "cell_type": "code",
   "execution_count": 4,
   "metadata": {},
   "outputs": [],
   "source": [
    "import pandas as pd"
   ]
  },
  {
   "cell_type": "code",
   "execution_count": 103,
   "metadata": {},
   "outputs": [],
   "source": [
    "RUSSIAN_LETTERS = [chr(i) for i in range(ord('а'), ord('я')+1)] + [' ']"
   ]
  },
  {
   "cell_type": "code",
   "execution_count": 6,
   "metadata": {},
   "outputs": [],
   "source": [
    "import re"
   ]
  },
  {
   "cell_type": "code",
   "execution_count": 7,
   "metadata": {},
   "outputs": [],
   "source": [
    "def prepare_word(word):\n",
    "    word = word.lower()\n",
    "    word = word.replace('ё', 'е')\n",
    "    word = re.sub(r'[^а-я ]', '', word)\n",
    "\n",
    "    return word"
   ]
  },
  {
   "cell_type": "code",
   "execution_count": 8,
   "metadata": {},
   "outputs": [],
   "source": [
    "from collections import defaultdict"
   ]
  },
  {
   "cell_type": "code",
   "execution_count": 185,
   "metadata": {},
   "outputs": [],
   "source": [
    "def get_freq_dict(corpus):\n",
    "    a = dict.fromkeys(RUSSIAN_LETTERS, 0)\n",
    "\n",
    "    for letter in RUSSIAN_LETTERS:\n",
    "         a[letter] = dict.fromkeys(RUSSIAN_LETTERS, 0)\n",
    "            \n",
    "    for word in corpus:\n",
    "        for i in range(1, len(word)):\n",
    "            a[word[i]][word[i-1]] += 1\n",
    "    \n",
    "    letter_freq = dict()\n",
    "    \n",
    "    for key1 in a:\n",
    "        c = 0\n",
    "        \n",
    "        for key2 in a:\n",
    "            c += a[key2][key1]\n",
    "            \n",
    "        letter_freq[key1] = c\n",
    "        \n",
    "    for key1 in a:\n",
    "        c = 0\n",
    "\n",
    "        for key2 in a[key1]:\n",
    "            a[key1][key2] /= letter_freq[key2]\n",
    "            \n",
    "    return a"
   ]
  },
  {
   "cell_type": "code",
   "execution_count": 186,
   "metadata": {},
   "outputs": [],
   "source": [
    "import math"
   ]
  },
  {
   "cell_type": "code",
   "execution_count": 187,
   "metadata": {},
   "outputs": [],
   "source": [
    "class WordEntropyCounter:\n",
    "    def __init__(self, letter_freq_dict):\n",
    "        self.letter_freq_dict = letter_freq_dict\n",
    "        \n",
    "    def _entropy(self, p):\n",
    "        return -p * math.log(p)\n",
    "    \n",
    "    def word_entropy(self, word):\n",
    "        entr = 0\n",
    "\n",
    "        for i in range(1, len(word)):\n",
    "            entr += self._entropy(self.letter_freq_dict[word[i]][word[i-1]])\n",
    "        \n",
    "        mean_entr = entr / (len(word) - 1)\n",
    "        \n",
    "        return (entr + mean_entr) / 2\n",
    "    \n",
    "    def to_file(self, path):\n",
    "        with open(path, 'w') as f:\n",
    "            f.write(str(self.letter_freq_dict))\n",
    "            \n",
    "    def from_file(path):\n",
    "        \n",
    "        with open(path, 'r') as f:\n",
    "            letter_freq_dict = eval(f.read())\n",
    "            \n",
    "        return WordEntropyCounter(letter_freq_dict)"
   ]
  },
  {
   "cell_type": "markdown",
   "metadata": {},
   "source": [
    "### Просто русский словарь"
   ]
  },
  {
   "cell_type": "code",
   "execution_count": 188,
   "metadata": {},
   "outputs": [],
   "source": [
    "def prepare_words_to_calc(words):\n",
    "    return list(map(lambda x: ' ' + x + ' ', words))"
   ]
  },
  {
   "cell_type": "code",
   "execution_count": 189,
   "metadata": {},
   "outputs": [],
   "source": [
    "russian_words = open('russian_words.txt').read().split()\n",
    "russian_words = list(map(prepare_word, russian_words))\n",
    "russian_words = prepare_words_to_calc(russian_words)"
   ]
  },
  {
   "cell_type": "code",
   "execution_count": 190,
   "metadata": {},
   "outputs": [],
   "source": [
    "a = get_freq_dict(russian_words)"
   ]
  },
  {
   "cell_type": "code",
   "execution_count": 191,
   "metadata": {},
   "outputs": [],
   "source": [
    "wec = WordEntropyCounter(a)"
   ]
  },
  {
   "cell_type": "code",
   "execution_count": 192,
   "metadata": {},
   "outputs": [
    {
     "data": {
      "text/plain": [
       "0.10126201279289634"
      ]
     },
     "execution_count": 192,
     "metadata": {},
     "output_type": "execute_result"
    }
   ],
   "source": [
    "wec.word_entropy('оим')"
   ]
  },
  {
   "cell_type": "code",
   "execution_count": 193,
   "metadata": {},
   "outputs": [
    {
     "data": {
      "text/plain": [
       "0.46072482907091783"
      ]
     },
     "execution_count": 193,
     "metadata": {},
     "output_type": "execute_result"
    }
   ],
   "source": [
    "wec.word_entropy('жизнь')"
   ]
  },
  {
   "cell_type": "code",
   "execution_count": 194,
   "metadata": {},
   "outputs": [],
   "source": [
    "wec.to_file('russian_words.wec')"
   ]
  },
  {
   "cell_type": "code",
   "execution_count": 195,
   "metadata": {},
   "outputs": [],
   "source": [
    "len_words = list(filter(lambda x: len(x) > 1, russian_words))"
   ]
  },
  {
   "cell_type": "code",
   "execution_count": 196,
   "metadata": {},
   "outputs": [],
   "source": [
    "entropies = list(map(wec.word_entropy, len_words))"
   ]
  },
  {
   "cell_type": "code",
   "execution_count": 197,
   "metadata": {},
   "outputs": [],
   "source": [
    "import numpy as np"
   ]
  },
  {
   "cell_type": "code",
   "execution_count": 198,
   "metadata": {},
   "outputs": [
    {
     "data": {
      "text/plain": [
       "0.05975289749991332"
      ]
     },
     "execution_count": 198,
     "metadata": {},
     "output_type": "execute_result"
    }
   ],
   "source": [
    "np.min(entropies)"
   ]
  },
  {
   "cell_type": "code",
   "execution_count": 199,
   "metadata": {},
   "outputs": [
    {
     "data": {
      "text/plain": [
       "1.3228357089428977"
      ]
     },
     "execution_count": 199,
     "metadata": {},
     "output_type": "execute_result"
    }
   ],
   "source": [
    "np.mean(entropies)"
   ]
  },
  {
   "cell_type": "markdown",
   "metadata": {},
   "source": [
    "### Война и мир"
   ]
  },
  {
   "cell_type": "code",
   "execution_count": 200,
   "metadata": {},
   "outputs": [],
   "source": [
    "war_and_piece = open('war_and_piece.txt').read()"
   ]
  },
  {
   "cell_type": "code",
   "execution_count": 201,
   "metadata": {},
   "outputs": [],
   "source": [
    "war_and_piece = prepare_word(war_and_piece)"
   ]
  },
  {
   "cell_type": "code",
   "execution_count": 202,
   "metadata": {},
   "outputs": [],
   "source": [
    "war_and_piece_words = list(filter(lambda x: len(x) > 2, war_and_piece.split()))"
   ]
  },
  {
   "cell_type": "code",
   "execution_count": 203,
   "metadata": {},
   "outputs": [],
   "source": [
    "war_and_piece_words = list(map(lambda x: ' ' + x + ' ', war_and_piece_words))"
   ]
  },
  {
   "cell_type": "code",
   "execution_count": 204,
   "metadata": {},
   "outputs": [
    {
     "data": {
      "text/plain": [
       "338168"
      ]
     },
     "execution_count": 204,
     "metadata": {},
     "output_type": "execute_result"
    }
   ],
   "source": [
    "len(war_and_piece_words)"
   ]
  },
  {
   "cell_type": "code",
   "execution_count": 205,
   "metadata": {},
   "outputs": [
    {
     "data": {
      "text/plain": [
       "54294"
      ]
     },
     "execution_count": 205,
     "metadata": {},
     "output_type": "execute_result"
    }
   ],
   "source": [
    "len(set(war_and_piece_words))"
   ]
  },
  {
   "cell_type": "code",
   "execution_count": 206,
   "metadata": {},
   "outputs": [],
   "source": [
    "b = get_freq_dict(war_and_piece_words)"
   ]
  },
  {
   "cell_type": "code",
   "execution_count": 207,
   "metadata": {},
   "outputs": [],
   "source": [
    "wec_wap = WordEntropyCounter(b)"
   ]
  },
  {
   "cell_type": "code",
   "execution_count": 213,
   "metadata": {},
   "outputs": [
    {
     "data": {
      "text/plain": [
       "0.46247409451677657"
      ]
     },
     "execution_count": 213,
     "metadata": {},
     "output_type": "execute_result"
    }
   ],
   "source": [
    "wec_wap.word_entropy(' оим ')"
   ]
  },
  {
   "cell_type": "code",
   "execution_count": 214,
   "metadata": {},
   "outputs": [
    {
     "data": {
      "text/plain": [
       "0.6388005465108424"
      ]
     },
     "execution_count": 214,
     "metadata": {},
     "output_type": "execute_result"
    }
   ],
   "source": [
    "wec_wap.word_entropy(' жизнь ')"
   ]
  },
  {
   "cell_type": "code",
   "execution_count": 210,
   "metadata": {},
   "outputs": [],
   "source": [
    "wec_wap.to_file('war_and_piece.wec')"
   ]
  }
 ],
 "metadata": {
  "kernelspec": {
   "display_name": "cs102",
   "language": "python",
   "name": "cs102"
  },
  "language_info": {
   "codemirror_mode": {
    "name": "ipython",
    "version": 3
   },
   "file_extension": ".py",
   "mimetype": "text/x-python",
   "name": "python",
   "nbconvert_exporter": "python",
   "pygments_lexer": "ipython3",
   "version": "3.8.3"
  }
 },
 "nbformat": 4,
 "nbformat_minor": 4
}
