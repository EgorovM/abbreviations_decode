{
 "cells": [
  {
   "cell_type": "code",
   "execution_count": 4,
   "metadata": {},
   "outputs": [],
   "source": [
    "import pandas as pd"
   ]
  },
  {
   "cell_type": "code",
   "execution_count": 103,
   "metadata": {},
   "outputs": [],
   "source": [
    "RUSSIAN_LETTERS = [chr(i) for i in range(ord('а'), ord('я')+1)] + [' ']"
   ]
  },
  {
   "cell_type": "code",
   "execution_count": 6,
   "metadata": {},
   "outputs": [],
   "source": [
    "import re"
   ]
  },
  {
   "cell_type": "code",
   "execution_count": 7,
   "metadata": {},
   "outputs": [],
   "source": [
    "def prepare_word(word):\n",
    "    word = word.lower()\n",
    "    word = word.replace('ё', 'е')\n",
    "    word = re.sub(r'[^а-я ]', '', word)\n",
    "\n",
    "    return word"
   ]
  },
  {
   "cell_type": "code",
   "execution_count": 8,
   "metadata": {},
   "outputs": [],
   "source": [
    "from collections import defaultdict"
   ]
  },
  {
   "cell_type": "code",
   "execution_count": 124,
   "metadata": {},
   "outputs": [],
   "source": [
    "def get_freq_dict(corpus):\n",
    "    a = dict.fromkeys(RUSSIAN_LETTERS, 0)\n",
    "\n",
    "    for letter in RUSSIAN_LETTERS:\n",
    "         a[letter] = dict.fromkeys(RUSSIAN_LETTERS, 0)\n",
    "            \n",
    "    for word in corpus:\n",
    "        for i in range(1, len(word)):\n",
    "            a[word[i]][word[i-1]] += 1\n",
    "    \n",
    "    letter_freq = dict()\n",
    "    \n",
    "    for key1 in a:\n",
    "        c = 0\n",
    "        \n",
    "        for key2 in a:\n",
    "            c += a[key2][key1]\n",
    "            \n",
    "        letter_freq[key1] = c\n",
    "        \n",
    "    for key1 in a:\n",
    "        c = 0\n",
    "\n",
    "        for key2 in a[key1]:\n",
    "            a[key1][key2] /= letter_freq[key2]\n",
    "            \n",
    "    return a"
   ]
  },
  {
   "cell_type": "code",
   "execution_count": 125,
   "metadata": {},
   "outputs": [],
   "source": [
    "import math"
   ]
  },
  {
   "cell_type": "code",
   "execution_count": 126,
   "metadata": {},
   "outputs": [],
   "source": [
    "class WordEntropyCounter:\n",
    "    def __init__(self, letter_freq_dict):\n",
    "        self.letter_freq_dict = letter_freq_dict\n",
    "        \n",
    "    def _entropy(self, p):\n",
    "        return -p * math.log(p)\n",
    "    \n",
    "    def word_entropy(self, word):\n",
    "        entr = 0\n",
    "\n",
    "        for i in range(1, len(word)):\n",
    "            entr += self._entropy(self.letter_freq_dict[word[i]][word[i-1]])\n",
    "        \n",
    "        mean_entr = entr / (len(word) - 1)\n",
    "        \n",
    "        return (entr + mean_entr) / 2\n",
    "    \n",
    "    def to_file(self, path):\n",
    "        with open(path, 'w') as f:\n",
    "            f.write(str(self.letter_freq_dict))\n",
    "            \n",
    "    def from_file(path):\n",
    "        \n",
    "        with open(path, 'r') as f:\n",
    "            letter_freq_dict = eval(f.read())\n",
    "            \n",
    "        return WordEntropyCounter(letter_freq_dict)"
   ]
  },
  {
   "cell_type": "markdown",
   "metadata": {},
   "source": [
    "### Просто русский словарь"
   ]
  },
  {
   "cell_type": "code",
   "execution_count": 127,
   "metadata": {},
   "outputs": [],
   "source": [
    "def prepare_words_to_calc(words):\n",
    "    return list(map(lambda x: ' ' + x + ' ', words))"
   ]
  },
  {
   "cell_type": "code",
   "execution_count": 128,
   "metadata": {},
   "outputs": [],
   "source": [
    "russian_words = open('russian_words.txt').read().split()\n",
    "russian_words = list(map(prepare_word, russian_words))\n",
    "russian_words = prepare_words_to_calc(russian_words)"
   ]
  },
  {
   "cell_type": "code",
   "execution_count": 129,
   "metadata": {},
   "outputs": [],
   "source": [
    "a = get_freq_dict(russian_words)"
   ]
  },
  {
   "cell_type": "code",
   "execution_count": 130,
   "metadata": {},
   "outputs": [],
   "source": [
    "wec = WordEntropyCounter(a)"
   ]
  },
  {
   "cell_type": "code",
   "execution_count": 131,
   "metadata": {},
   "outputs": [
    {
     "data": {
      "text/plain": [
       "0.10126201279289634"
      ]
     },
     "execution_count": 131,
     "metadata": {},
     "output_type": "execute_result"
    }
   ],
   "source": [
    "wec.word_entropy('оим')"
   ]
  },
  {
   "cell_type": "code",
   "execution_count": 132,
   "metadata": {},
   "outputs": [
    {
     "data": {
      "text/plain": [
       "0.46072482907091783"
      ]
     },
     "execution_count": 132,
     "metadata": {},
     "output_type": "execute_result"
    }
   ],
   "source": [
    "wec.word_entropy('жизнь')"
   ]
  },
  {
   "cell_type": "code",
   "execution_count": 133,
   "metadata": {},
   "outputs": [],
   "source": [
    "wec.to_file('russian_words.wec')"
   ]
  },
  {
   "cell_type": "code",
   "execution_count": 134,
   "metadata": {},
   "outputs": [],
   "source": [
    "len_words = list(filter(lambda x: len(x) > 1, russian_words))"
   ]
  },
  {
   "cell_type": "code",
   "execution_count": 135,
   "metadata": {},
   "outputs": [],
   "source": [
    "entropies = list(map(wec.word_entropy, len_words))"
   ]
  },
  {
   "cell_type": "code",
   "execution_count": 136,
   "metadata": {},
   "outputs": [],
   "source": [
    "import numpy as np"
   ]
  },
  {
   "cell_type": "code",
   "execution_count": 137,
   "metadata": {},
   "outputs": [
    {
     "data": {
      "text/plain": [
       "0.05975289749991332"
      ]
     },
     "execution_count": 137,
     "metadata": {},
     "output_type": "execute_result"
    }
   ],
   "source": [
    "np.min(entropies)"
   ]
  },
  {
   "cell_type": "code",
   "execution_count": 138,
   "metadata": {},
   "outputs": [
    {
     "data": {
      "text/plain": [
       "1.3228357089428977"
      ]
     },
     "execution_count": 138,
     "metadata": {},
     "output_type": "execute_result"
    }
   ],
   "source": [
    "np.mean(entropies)"
   ]
  },
  {
   "cell_type": "markdown",
   "metadata": {},
   "source": [
    "### Война и мир"
   ]
  },
  {
   "cell_type": "code",
   "execution_count": 139,
   "metadata": {},
   "outputs": [],
   "source": [
    "war_and_piece = open('war_and_piece.txt').read()"
   ]
  },
  {
   "cell_type": "code",
   "execution_count": 140,
   "metadata": {},
   "outputs": [],
   "source": [
    "war_and_piece = prepare_word(war_and_piece)"
   ]
  },
  {
   "cell_type": "code",
   "execution_count": 141,
   "metadata": {},
   "outputs": [],
   "source": [
    "war_and_piece_words = list(filter(lambda x: len(x) > 2, war_and_piece.split()))"
   ]
  },
  {
   "cell_type": "code",
   "execution_count": 142,
   "metadata": {},
   "outputs": [],
   "source": [
    "war_and_piece_words = list(map(lambda x: ' ' + x + ' ', war_and_piece_words))"
   ]
  },
  {
   "cell_type": "code",
   "execution_count": 143,
   "metadata": {},
   "outputs": [
    {
     "data": {
      "text/plain": [
       "338168"
      ]
     },
     "execution_count": 143,
     "metadata": {},
     "output_type": "execute_result"
    }
   ],
   "source": [
    "len(war_and_piece_words)"
   ]
  },
  {
   "cell_type": "code",
   "execution_count": 144,
   "metadata": {},
   "outputs": [
    {
     "data": {
      "text/plain": [
       "54294"
      ]
     },
     "execution_count": 144,
     "metadata": {},
     "output_type": "execute_result"
    }
   ],
   "source": [
    "len(set(war_and_piece_words))"
   ]
  },
  {
   "cell_type": "code",
   "execution_count": 145,
   "metadata": {},
   "outputs": [],
   "source": [
    "b = get_freq_dict(war_and_piece_words)"
   ]
  },
  {
   "cell_type": "code",
   "execution_count": 146,
   "metadata": {},
   "outputs": [],
   "source": [
    "wec_wap = WordEntropyCounter(b)"
   ]
  },
  {
   "cell_type": "code",
   "execution_count": 147,
   "metadata": {},
   "outputs": [
    {
     "data": {
      "text/plain": [
       "0.46247409451677657"
      ]
     },
     "execution_count": 147,
     "metadata": {},
     "output_type": "execute_result"
    }
   ],
   "source": [
    "wec_wap.word_entropy(' оим ')"
   ]
  },
  {
   "cell_type": "code",
   "execution_count": 148,
   "metadata": {},
   "outputs": [
    {
     "data": {
      "text/plain": [
       "0.6388005465108424"
      ]
     },
     "execution_count": 148,
     "metadata": {},
     "output_type": "execute_result"
    }
   ],
   "source": [
    "wec_wap.word_entropy(' жизнь ')"
   ]
  },
  {
   "cell_type": "code",
   "execution_count": 149,
   "metadata": {},
   "outputs": [],
   "source": [
    "wec_wap.to_file('war_and_piece.wec')"
   ]
  },
  {
   "cell_type": "code",
   "execution_count": 150,
   "metadata": {},
   "outputs": [],
   "source": [
    "with open('../../data/all_anamnesises.txt') as f:\n",
    "    anam = f.read()"
   ]
  },
  {
   "cell_type": "code",
   "execution_count": 81,
   "metadata": {},
   "outputs": [],
   "source": [
    "def is_abbreviation(word):\n",
    "    \"\"\"\n",
    "    Будем считать аббревиатурами слова, половина букв которого - заглавные\n",
    "    \n",
    "    Уберем случаи, когда это может инициалы сотрудника\n",
    "    \"\"\"\n",
    "    \n",
    "    # убрать инициалы\n",
    "    if re.fullmatch(r'[A-ZА-Я]\\.[A-ZА-Я]\\.?', word):\n",
    "        return False\n",
    "    \n",
    "    upper_count = sum([l.isupper() for l in word])\n",
    "    \n",
    "    return upper_count > len(word) // 2 and len(word) > 1\n",
    "\n",
    "def clean_abbr(word):\n",
    "    \"\"\"\n",
    "    Убираем все символы кроме буквенных, точки и тире\n",
    "    \"\"\"\n",
    "    word = re.sub(r'[^A-ZА-Яа-я-a-z-\\.]', '', word)\n",
    "    \n",
    "    \n",
    "    while word[-1] in ['-', '.']:\n",
    "        word = word[:-1]\n",
    "        \n",
    "    while word[0] in ['-', '.']:\n",
    "        word = word[1:]\n",
    "        \n",
    "    return word.upper()\n",
    "\n",
    "# Первый этап\n",
    "def naive_extract_abbreviation(text):\n",
    "    text = text.replace(',', ' ')\n",
    "    abbrs = filter(lambda word: is_abbreviation(word), text.split())\n",
    "    abbrs = map(clean_abbr, abbrs)\n",
    "    \n",
    "    return list(abbrs)\n",
    "\n",
    "def split_abbreviations(abbr):\n",
    "    # Если без знаков препинания является аббревиатурой\n",
    "    # ЭХО-КГ -> ЭХОКГ\n",
    "    \n",
    "    if re.sub(r'[\\.|-]', '', abbr) in abbrs_counter:\n",
    "        return [re.sub(r'[\\.|-]', '', abbr)]\n",
    "    \n",
    "    items = re.split(r'[-\\.]', abbr)\n",
    "    \n",
    "    new_abbrs = []\n",
    "    found = False\n",
    "    \n",
    "    for item in items:\n",
    "        if item in abbrs_counter:\n",
    "            new_abbrs.append(item)\n",
    "\n",
    "    if len(new_abbrs) > 0:\n",
    "        return new_abbrs\n",
    "\n",
    "    return [abbr]\n"
   ]
  },
  {
   "cell_type": "code",
   "execution_count": 89,
   "metadata": {},
   "outputs": [],
   "source": [
    "abbrs = set(naive_extract_abbreviation(anam))"
   ]
  },
  {
   "cell_type": "code",
   "execution_count": 90,
   "metadata": {},
   "outputs": [],
   "source": [
    "entropies = []"
   ]
  },
  {
   "cell_type": "code",
   "execution_count": 91,
   "metadata": {},
   "outputs": [],
   "source": [
    "for abbr in abbrs:\n",
    "    abbr = re.sub(r'[^А-Я]', '', abbr).lower()\n",
    "    \n",
    "    entropies.append(\n",
    "        (wec.word_entropy(abbr),\n",
    "        abbr)\n",
    "    )"
   ]
  },
  {
   "cell_type": "code",
   "execution_count": 92,
   "metadata": {},
   "outputs": [],
   "source": [
    "entropies.sort()"
   ]
  },
  {
   "cell_type": "code",
   "execution_count": 93,
   "metadata": {},
   "outputs": [
    {
     "data": {
      "text/plain": [
       "[(1.3806080607591324, 'кагот'),\n",
       " (1.3843956477024948, 'вцэирм'),\n",
       " (1.4201252288057489, 'жизни'),\n",
       " (1.4380952136811707, 'осмотр'),\n",
       " (1.442134568499776, 'спбран'),\n",
       " (1.451947090574083, 'кдокос'),\n",
       " (1.4805690694807754, 'змжвапка'),\n",
       " (1.4912165120582024, 'жалобы'),\n",
       " (1.4976861468672469, 'фжэкг'),\n",
       " (1.5025636503975957, 'пкапада'),\n",
       " (1.5171416173882815, 'каглка'),\n",
       " (1.547979642818265, 'анамнез'),\n",
       " (1.5760489311192634, 'фцскэим'),\n",
       " (1.5776802444421065, 'правут'),\n",
       " (1.7030766594111744, 'стресс'),\n",
       " (1.7131173425065152, 'гкириши'),\n",
       " (1.773831568513959, 'змжвпкарввпка'),\n",
       " (1.8194531261578248, 'фжел'),\n",
       " (1.8318846646749416, 'эхокгкдоксо'),\n",
       " (1.8636122658482412, 'мочевой'),\n",
       " (1.9396470329665356, 'железа'),\n",
       " (2.060063484119252, 'акшзмжвпка'),\n",
       " (2.1461770767896975, 'операции'),\n",
       " (2.464135755371667, 'стрессэхокг'),\n",
       " (2.545891130919506, 'протокол'),\n",
       " (2.8871018825891923, 'заключение'),\n",
       " (3.436548711687352, 'поступления'),\n",
       " (3.555264978996522, 'заболевания'),\n",
       " (4.398877418841387, 'предстательная'),\n",
       " (4.983442313904152, 'стрессэхокготрицат')]"
      ]
     },
     "execution_count": 93,
     "metadata": {},
     "output_type": "execute_result"
    }
   ],
   "source": [
    "entropies[-30:]"
   ]
  },
  {
   "cell_type": "code",
   "execution_count": null,
   "metadata": {},
   "outputs": [],
   "source": []
  }
 ],
 "metadata": {
  "kernelspec": {
   "display_name": "cs102",
   "language": "python",
   "name": "cs102"
  },
  "language_info": {
   "codemirror_mode": {
    "name": "ipython",
    "version": 3
   },
   "file_extension": ".py",
   "mimetype": "text/x-python",
   "name": "python",
   "nbconvert_exporter": "python",
   "pygments_lexer": "ipython3",
   "version": "3.8.3"
  }
 },
 "nbformat": 4,
 "nbformat_minor": 4
}
