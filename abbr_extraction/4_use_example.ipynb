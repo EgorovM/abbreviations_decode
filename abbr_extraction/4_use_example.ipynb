{
 "cells": [
  {
   "cell_type": "markdown",
   "metadata": {},
   "source": [
    "# Пример использования утилиты извлечения аббревиатур\n",
    "\n",
    "Весь функционал с предыдущего ноутбука был перенесен в отдельный класс `AbbreviationExtractor`. Основным методом класса является функция `extract_abbreviation`, в который нужно передать отдельный текст. Для лучшего извлечения, в класс можно передать базовый корпус текстов, или список аббревиатур, чтобы инициализировать множество базовых аббревиатур"
   ]
  },
  {
   "cell_type": "code",
   "execution_count": 41,
   "metadata": {},
   "outputs": [],
   "source": [
    "from abbreviation_extractor import AbbreviationExtractor"
   ]
  },
  {
   "cell_type": "code",
   "execution_count": 42,
   "metadata": {},
   "outputs": [],
   "source": [
    "text = 'О повышении АД максимально до 150/90 мм рт ст знает в течение 1 года, у врача не наблюдался. С 20.11.2015 г. впервые отметил кратковременный дискомфорт за грудиной, прошедший в покое. В последующие 2 дня несколько повторных ангинозных эпизодов длительностью до 10 минут, также прошедших в покое. За медицинской помощью не обращался. Утром 24.11.2015 г. затяжной приступ интенсивных болей за грудиной с иррадиацией в шею, глотку. Вызвал СП. При регистрации ЭКГ(на фоне синусового ритма отмечалась элевация сегмента ST в II, III, aVF отведениях с реципрокной депрессией сегмента ST в aVL) выявлен ОКС с подъемом сегмента ST, выполнена ТЛТ (метализе), гепарин, нитраты, АСК, клопидогрель, анаприлин. Болевой синдром купирован морфином. В динамике по ЭКГ - уменьшение элевации ST. С представлением об ОКС с подъемом сегмента ST пациент был госпитализирован в АРО №5 СЗФМИЦ им В.А.Алмазова. При поступлении - повышение уровня тропонина крови >50 нг/мл (высокочувствительным методом). В экстренном порядке выполнена КАГ, по результатам которой проведена коронаропластика со стентированием инфаркт-зависимой правой коронарной артерии - имплантировано 2 стента без л/п. Интраоперационно и в раннем послеоперационном периоде без осложнений. На фоне проводимой терапии ангинозные эпизоды не рецидивировали, по ЭКГ - динамика инфаркта миокарда нижней стенки ЛЖ. по данным ЭХО-КГ от 24.11.2015 г. ФВ ЛЖ 48%, акинезия в базальном и срединном сегментах нижне-боковой стенки ЛЖ и всех сегментах нижней стенки ЛЖ.МР 1 ст, ТР 0-1 ст. 26.11.2015 г. пациент переведен в палату КО№7 для продолжения терапии, расширения двигательного режима по согласованию с врачом ЛФК.'"
   ]
  },
  {
   "cell_type": "code",
   "execution_count": 43,
   "metadata": {},
   "outputs": [
    {
     "data": {
      "text/plain": [
       "'О повышении АД максимально до 150/90 мм рт ст знает в течение 1 года, у врача не наблюдался. С 20.11.2015 г. впервые отметил кратковременный дискомфорт за грудиной, прошедший в покое. В последующие 2 дня несколько повторных ангинозных эпизодов длительностью до 10 минут, также прошедших в покое. За медицинской помощью не обращался. Утром 24.11.2015 г. затяжной приступ интенсивных болей за грудиной с иррадиацией в шею, глотку. Вызвал СП. При регистрации ЭКГ(на фоне синусового ритма отмечалась элевация сегмента ST в II, III, aVF отведениях с реципрокной депрессией сегмента ST в aVL) выявлен ОКС с подъемом сегмента ST, выполнена ТЛТ (метализе), гепарин, нитраты, АСК, клопидогрель, анаприлин. Болевой синдром купирован морфином. В динамике по ЭКГ - уменьшение элевации ST. С представлением об ОКС с подъемом сегмента ST пациент был госпитализирован в АРО №5 СЗФМИЦ им В.А.Алмазова. При поступлении - повышение уровня тропонина крови >50 нг/мл (высокочувствительным методом). В экстренном порядке выполнена КАГ, по результатам которой проведена коронаропластика со стентированием инфаркт-зависимой правой коронарной артерии - имплантировано 2 стента без л/п. Интраоперационно и в раннем послеоперационном периоде без осложнений. На фоне проводимой терапии ангинозные эпизоды не рецидивировали, по ЭКГ - динамика инфаркта миокарда нижней стенки ЛЖ. по данным ЭХО-КГ от 24.11.2015 г. ФВ ЛЖ 48%, акинезия в базальном и срединном сегментах нижне-боковой стенки ЛЖ и всех сегментах нижней стенки ЛЖ.МР 1 ст, ТР 0-1 ст. 26.11.2015 г. пациент переведен в палату КО№7 для продолжения терапии, расширения двигательного режима по согласованию с врачом ЛФК.'"
      ]
     },
     "execution_count": 43,
     "metadata": {},
     "output_type": "execute_result"
    }
   ],
   "source": [
    "text"
   ]
  },
  {
   "cell_type": "markdown",
   "metadata": {},
   "source": [
    "Сложностью является \"слипленные\" аббревиатуры \"ЛЖ.МР\" и хотелось бы, чтобы \"ЭХО-КГ\" рассматривалось как \"ЭХОКГ\" (наиболее часто встречающаяся аббревиатура эхокардиографии)"
   ]
  },
  {
   "cell_type": "markdown",
   "metadata": {},
   "source": [
    "### Без базового корпуса"
   ]
  },
  {
   "cell_type": "markdown",
   "metadata": {},
   "source": [
    "Передадим обычный текст без инициализации базового множества аббревиатур"
   ]
  },
  {
   "cell_type": "code",
   "execution_count": 44,
   "metadata": {},
   "outputs": [],
   "source": [
    "abbr_extractor = AbbreviationExtractor()"
   ]
  },
  {
   "cell_type": "code",
   "execution_count": 45,
   "metadata": {},
   "outputs": [],
   "source": [
    "abbrs = abbr_extractor.extract_abbreviations(text)"
   ]
  },
  {
   "cell_type": "code",
   "execution_count": 46,
   "metadata": {},
   "outputs": [
    {
     "data": {
      "text/plain": [
       "['АД',\n",
       " 'СП',\n",
       " 'ST',\n",
       " 'II',\n",
       " 'III',\n",
       " 'AVF',\n",
       " 'ST',\n",
       " 'ОКС',\n",
       " 'ST',\n",
       " 'ТЛТ',\n",
       " 'АСК',\n",
       " 'ЭКГ',\n",
       " 'ST',\n",
       " 'ОКС',\n",
       " 'ST',\n",
       " 'АРО',\n",
       " 'СЗФМИЦ',\n",
       " 'КАГ',\n",
       " 'ЭКГ',\n",
       " 'ЛЖ',\n",
       " 'ЭХО-КГ',\n",
       " 'ФВ',\n",
       " 'ЛЖ',\n",
       " 'ЛЖ',\n",
       " 'ЛЖ',\n",
       " 'ТР',\n",
       " 'ЛФК']"
      ]
     },
     "execution_count": 46,
     "metadata": {},
     "output_type": "execute_result"
    }
   ],
   "source": [
    "abbrs"
   ]
  },
  {
   "cell_type": "markdown",
   "metadata": {},
   "source": [
    "### С базовым корпусом"
   ]
  },
  {
   "cell_type": "markdown",
   "metadata": {},
   "source": [
    "Передадим все анамнезы в качестве базового корпуса"
   ]
  },
  {
   "cell_type": "code",
   "execution_count": 47,
   "metadata": {},
   "outputs": [],
   "source": [
    "with open('./data/all_anamnesises.txt') as f:\n",
    "    anamnesises = f.read().split('\\n\\t')"
   ]
  },
  {
   "cell_type": "code",
   "execution_count": 48,
   "metadata": {},
   "outputs": [],
   "source": [
    "abbr_extractor = AbbreviationExtractor(anamnesises)"
   ]
  },
  {
   "cell_type": "code",
   "execution_count": 49,
   "metadata": {},
   "outputs": [
    {
     "name": "stdout",
     "output_type": "stream",
     "text": [
      "Всего аббревиатур было найдено: 35507\n"
     ]
    }
   ],
   "source": [
    "print('Всего аббревиатур было найдено:', len(abbr_extractor._abbreviations))"
   ]
  },
  {
   "cell_type": "markdown",
   "metadata": {},
   "source": [
    "Посмотрим еще раз на извлечение"
   ]
  },
  {
   "cell_type": "code",
   "execution_count": 50,
   "metadata": {},
   "outputs": [],
   "source": [
    "abbrs = abbr_extractor.extract_abbreviations(text)"
   ]
  },
  {
   "cell_type": "code",
   "execution_count": 51,
   "metadata": {},
   "outputs": [
    {
     "data": {
      "text/plain": [
       "28"
      ]
     },
     "execution_count": 51,
     "metadata": {},
     "output_type": "execute_result"
    }
   ],
   "source": [
    "len(abbrs)"
   ]
  },
  {
   "cell_type": "code",
   "execution_count": 52,
   "metadata": {},
   "outputs": [
    {
     "data": {
      "text/plain": [
       "['АД',\n",
       " 'СП',\n",
       " 'ST',\n",
       " 'II',\n",
       " 'III',\n",
       " 'AVF',\n",
       " 'ST',\n",
       " 'ОКС',\n",
       " 'ST',\n",
       " 'ТЛТ',\n",
       " 'АСК',\n",
       " 'ЭКГ',\n",
       " 'ST',\n",
       " 'ОКС',\n",
       " 'ST',\n",
       " 'АРО',\n",
       " 'СЗФМИЦ',\n",
       " 'КАГ',\n",
       " 'ЭКГ',\n",
       " 'ЛЖ',\n",
       " 'ЭХОКГ',\n",
       " 'ФВ',\n",
       " 'ЛЖ',\n",
       " 'ЛЖ',\n",
       " 'ЛЖ',\n",
       " 'МР',\n",
       " 'ТР',\n",
       " 'ЛФК']"
      ]
     },
     "execution_count": 52,
     "metadata": {},
     "output_type": "execute_result"
    }
   ],
   "source": [
    "abbrs"
   ]
  },
  {
   "cell_type": "markdown",
   "metadata": {},
   "source": [
    "Видим, что \"ЭХО-КГ\" изменилось на \"ЭХОКГ\" и появился дополнительная аббревиатура \"МР\", так как в базовом корпусе сама аббревиатура присутствовала в \"слипленно\" виде \"ЛЖ.МР\""
   ]
  },
  {
   "cell_type": "markdown",
   "metadata": {},
   "source": [
    "## AbbreviationPredictor"
   ]
  },
  {
   "cell_type": "markdown",
   "metadata": {},
   "source": [
    "Возможно добавлять фильтрацию аббревиатур используя наследования класса `AbbreviationPredictor`. Экземляры обязаны реализовать метод `predict`\n",
    "\n",
    "Реализованы несколько базовых предикторов:\n",
    "- Энтропийный (EntropyVoter)\n",
    "- Словарный (DictVoter)"
   ]
  },
  {
   "cell_type": "code",
   "execution_count": 53,
   "metadata": {},
   "outputs": [],
   "source": [
    "from abbreviation_predictor import EntropyVoter, DictVoter\n",
    "from recomendations.word_entropy import WordEntropyCounter"
   ]
  },
  {
   "cell_type": "markdown",
   "metadata": {},
   "source": [
    "### EntropyVoter"
   ]
  },
  {
   "cell_type": "markdown",
   "metadata": {},
   "source": [
    "Нужно ему передать `каким способом нужно считать энтропию`(wec), можно объявить свои классы добавив метод `word_entropy` и с какой `границы`(limit) считать слово аббревиатурой"
   ]
  },
  {
   "cell_type": "code",
   "execution_count": 54,
   "metadata": {},
   "outputs": [],
   "source": [
    "wec = WordEntropyCounter.from_file('./recommendations/war_and_piece.wec')"
   ]
  },
  {
   "cell_type": "code",
   "execution_count": 55,
   "metadata": {},
   "outputs": [],
   "source": [
    "ev = EntropyVoter(wec=wec, limit=0.77)"
   ]
  },
  {
   "cell_type": "code",
   "execution_count": 56,
   "metadata": {},
   "outputs": [
    {
     "data": {
      "text/plain": [
       "(True, False, True)"
      ]
     },
     "execution_count": 56,
     "metadata": {},
     "output_type": "execute_result"
    }
   ],
   "source": [
    "ev.predict('изгиб'), ev.predict('рекомендации'), ev.predict('ад')"
   ]
  },
  {
   "cell_type": "markdown",
   "metadata": {},
   "source": [
    "### DictVoter"
   ]
  },
  {
   "cell_type": "markdown",
   "metadata": {},
   "source": [
    "Ему нужно передать словарь слов, которые точно не являются аббревиатурами (лучше передать в виде set)"
   ]
  },
  {
   "cell_type": "code",
   "execution_count": 57,
   "metadata": {},
   "outputs": [],
   "source": [
    "words = open('./recommendations/russian_words.txt').read().split()"
   ]
  },
  {
   "cell_type": "code",
   "execution_count": 58,
   "metadata": {},
   "outputs": [
    {
     "data": {
      "text/plain": [
       "(['аароновец',\n",
       "  'аароновский',\n",
       "  'аароновцы',\n",
       "  'аароновщина',\n",
       "  'абажур',\n",
       "  'абажурный',\n",
       "  'абажуродержатель',\n",
       "  'абажурчик',\n",
       "  'абаз',\n",
       "  'абазин'],\n",
       " 157657)"
      ]
     },
     "execution_count": 58,
     "metadata": {},
     "output_type": "execute_result"
    }
   ],
   "source": [
    "words[:10], len(words)"
   ]
  },
  {
   "cell_type": "code",
   "execution_count": 59,
   "metadata": {},
   "outputs": [],
   "source": [
    "dv = DictVoter(set(words))"
   ]
  },
  {
   "cell_type": "code",
   "execution_count": 60,
   "metadata": {},
   "outputs": [
    {
     "data": {
      "text/plain": [
       "(False, True, False)"
      ]
     },
     "execution_count": 60,
     "metadata": {},
     "output_type": "execute_result"
    }
   ],
   "source": [
    "dv.predict('изгиб'), dv.predict('рекомендации'), dv.predict('ад')"
   ]
  },
  {
   "cell_type": "markdown",
   "metadata": {},
   "source": [
    "### VotingAbbreviationClassifier"
   ]
  },
  {
   "cell_type": "markdown",
   "metadata": {},
   "source": [
    "Как мы можем заметить, классификаторы выше имеют свои недостатки, мы можем это решить сделав ансамбль алгоритмов: заставим каждый из алгоритмов голосовать, аббревиатура ли это, если большинство скажет да, то вернем true"
   ]
  },
  {
   "cell_type": "code",
   "execution_count": 61,
   "metadata": {},
   "outputs": [],
   "source": [
    "from abbreviation_predictor import VotingAbbreviationClassifier"
   ]
  },
  {
   "cell_type": "code",
   "execution_count": 62,
   "metadata": {},
   "outputs": [],
   "source": [
    "voter = VotingAbbreviationClassifier()"
   ]
  },
  {
   "cell_type": "markdown",
   "metadata": {},
   "source": [
    "`VotingAbbreviationClassifier` является наследником класса `AbbreviationPredictor`, так что содержит метод `predict`. Нужно добавить другие базовые предикторы методом `add_voter` передав название и экземпляр класса `AbbreviationPredictor`"
   ]
  },
  {
   "cell_type": "code",
   "execution_count": 63,
   "metadata": {},
   "outputs": [],
   "source": [
    "voter.add_voter('entropy_voter1', ev)\n",
    "voter.add_voter('dict_voter', dv)"
   ]
  },
  {
   "cell_type": "markdown",
   "metadata": {},
   "source": [
    "Добавим третий предиктор: энтропийный, но с другой границей"
   ]
  },
  {
   "cell_type": "code",
   "execution_count": 64,
   "metadata": {},
   "outputs": [],
   "source": [
    "ev2 = EntropyVoter(wec, limit=0.2)"
   ]
  },
  {
   "cell_type": "code",
   "execution_count": 65,
   "metadata": {},
   "outputs": [],
   "source": [
    "voter.add_voter('entropy_voter2', ev2)"
   ]
  },
  {
   "cell_type": "code",
   "execution_count": 66,
   "metadata": {},
   "outputs": [
    {
     "data": {
      "text/plain": [
       "{'entropy_voter1': EntropyVoter(),\n",
       " 'dict_voter': DictVoter(),\n",
       " 'entropy_voter2': EntropyVoter()}"
      ]
     },
     "execution_count": 66,
     "metadata": {},
     "output_type": "execute_result"
    }
   ],
   "source": [
    "voter.voters"
   ]
  },
  {
   "cell_type": "code",
   "execution_count": 67,
   "metadata": {},
   "outputs": [
    {
     "data": {
      "text/plain": [
       "(False, False, True)"
      ]
     },
     "execution_count": 67,
     "metadata": {},
     "output_type": "execute_result"
    }
   ],
   "source": [
    "voter.predict('изгиб'), voter.predict('рекомендации'), voter.predict('ад')"
   ]
  },
  {
   "cell_type": "markdown",
   "metadata": {},
   "source": [
    "Как мы можем заметить, голосование справилось лучше, чем алгоритмы по одиночке"
   ]
  },
  {
   "cell_type": "markdown",
   "metadata": {},
   "source": [
    "### Использование AbbreviationPredictor с AbbreviationExtractor\n",
    "\n",
    "Нужно просто при инициализации передать как параметр abbr_predictor"
   ]
  },
  {
   "cell_type": "code",
   "execution_count": 68,
   "metadata": {},
   "outputs": [],
   "source": [
    "text = 'Постепенное расширение пищевого рациона с увеличением объема жидкой пищи и овощей. Избегать жирной, острой пищи Есть до 6 раз в день мелкими порциями Наблюдение кардиолога и гастроэнтеролога ПРОДОЛЖИТЬ ПОСТОЯННЫЙ ПРИЕМ:  ДИОВАН 80 МГ УТРОМ И ВЕЧЕРОМ ДИЛАТРЕНД 6,25 МГ УТРОМ И ВЕЧЕРОМ АРИФОН-РЕТАРД 1,5 МГ УТРОМ   ПАРИЕТ 20 МГ ЗА 30 МИНУТ ДО ЗАВТРАКА 1 НЕДЕЛЮ, ЗАТЕМ ПО 10 МГ ЗА 30 МИНУТ ДО ЗАВТРАКА 2 МЕСЯЦА  ДЕ-НОЛ ЧЕРЕЗ 1 ЧАС ПОСЛЕ ЗАВТРАКА, ОБЕДА, УЖИНА И НА НОЧЬ 1 МЕСЯЦ  КРЕОН 10000 ЕД В КАЖДЫЙ ПРИЕМ ПИЩИ, А ЕСЛИ УПОТРЕБЛЯЕТСЯ БЕЛКОВАЯ ПИЩА (МЯСО, РЫБА, ТВОРОГ, ЯЙЦО), ТО 25000 ЕД (СУММАРНО ЗА СУТКИ 80000-100000 ЕД)  ПРИ ВЗДУТИИ ЖИВОТА ПЕКСАН-R  '"
   ]
  },
  {
   "cell_type": "code",
   "execution_count": 69,
   "metadata": {},
   "outputs": [
    {
     "data": {
      "text/plain": [
       "'Постепенное расширение пищевого рациона с увеличением объема жидкой пищи и овощей. Избегать жирной, острой пищи Есть до 6 раз в день мелкими порциями Наблюдение кардиолога и гастроэнтеролога ПРОДОЛЖИТЬ ПОСТОЯННЫЙ ПРИЕМ:  ДИОВАН 80 МГ УТРОМ И ВЕЧЕРОМ ДИЛАТРЕНД 6,25 МГ УТРОМ И ВЕЧЕРОМ АРИФОН-РЕТАРД 1,5 МГ УТРОМ   ПАРИЕТ 20 МГ ЗА 30 МИНУТ ДО ЗАВТРАКА 1 НЕДЕЛЮ, ЗАТЕМ ПО 10 МГ ЗА 30 МИНУТ ДО ЗАВТРАКА 2 МЕСЯЦА  ДЕ-НОЛ ЧЕРЕЗ 1 ЧАС ПОСЛЕ ЗАВТРАКА, ОБЕДА, УЖИНА И НА НОЧЬ 1 МЕСЯЦ  КРЕОН 10000 ЕД В КАЖДЫЙ ПРИЕМ ПИЩИ, А ЕСЛИ УПОТРЕБЛЯЕТСЯ БЕЛКОВАЯ ПИЩА (МЯСО, РЫБА, ТВОРОГ, ЯЙЦО), ТО 25000 ЕД (СУММАРНО ЗА СУТКИ 80000-100000 ЕД)  ПРИ ВЗДУТИИ ЖИВОТА ПЕКСАН-R  '"
      ]
     },
     "execution_count": 69,
     "metadata": {},
     "output_type": "execute_result"
    }
   ],
   "source": [
    "text"
   ]
  },
  {
   "cell_type": "code",
   "execution_count": 70,
   "metadata": {},
   "outputs": [
    {
     "data": {
      "text/plain": [
       "['ПРОДОЛЖИТЬ',\n",
       " 'ПОСТОЯННЫЙ',\n",
       " 'ПРИЕМ',\n",
       " 'ДИОВАН',\n",
       " 'МГ',\n",
       " 'УТРОМ',\n",
       " 'ВЕЧЕРОМ',\n",
       " 'ДИЛАТРЕНД',\n",
       " 'МГ',\n",
       " 'УТРОМ',\n",
       " 'ВЕЧЕРОМ',\n",
       " 'АРИФОН-РЕТАРД',\n",
       " 'МГ',\n",
       " 'УТРОМ',\n",
       " 'ПАРИЕТ',\n",
       " 'МГ',\n",
       " 'ЗА',\n",
       " 'МИНУТ',\n",
       " 'ДО',\n",
       " 'ЗАВТРАКА',\n",
       " 'НЕДЕЛЮ',\n",
       " 'ЗАТЕМ',\n",
       " 'ПО',\n",
       " 'МГ',\n",
       " 'ЗА',\n",
       " 'МИНУТ',\n",
       " 'ДО',\n",
       " 'ЗАВТРАКА',\n",
       " 'МЕСЯЦА',\n",
       " 'ДЕ-НОЛ',\n",
       " 'ЧЕРЕЗ',\n",
       " 'ЧАС',\n",
       " 'ПОСЛЕ',\n",
       " 'ЗАВТРАКА',\n",
       " 'ОБЕДА',\n",
       " 'УЖИНА',\n",
       " 'НА',\n",
       " 'НОЧЬ',\n",
       " 'МЕСЯЦ',\n",
       " 'КРЕОН',\n",
       " 'ЕД',\n",
       " 'КАЖДЫЙ',\n",
       " 'ПРИЕМ',\n",
       " 'ПИЩИ',\n",
       " 'ЕСЛИ',\n",
       " 'УПОТРЕБЛЯЕТСЯ',\n",
       " 'БЕЛКОВАЯ',\n",
       " 'ПИЩА',\n",
       " 'МЯСО',\n",
       " 'РЫБА',\n",
       " 'ТВОРОГ',\n",
       " 'ЯЙЦО',\n",
       " 'ТО',\n",
       " 'ЕД',\n",
       " 'СУММАРНО',\n",
       " 'ЗА',\n",
       " 'СУТКИ',\n",
       " 'ЕД',\n",
       " 'ПРИ',\n",
       " 'ВЗДУТИИ',\n",
       " 'ЖИВОТА',\n",
       " 'ПЕКСАН-R']"
      ]
     },
     "execution_count": 70,
     "metadata": {},
     "output_type": "execute_result"
    }
   ],
   "source": [
    "abbr_extractor.extract_abbreviations(text)"
   ]
  },
  {
   "cell_type": "markdown",
   "metadata": {},
   "source": [
    "Как мы можем заметить, без фильтрации все плохо"
   ]
  },
  {
   "cell_type": "markdown",
   "metadata": {},
   "source": [
    "Добавим в voter еще энтропийный классификаторов"
   ]
  },
  {
   "cell_type": "code",
   "execution_count": 71,
   "metadata": {},
   "outputs": [],
   "source": [
    "voter.add_voter('ev3', EntropyVoter(wec, limit=0.3))\n",
    "voter.add_voter('ev4', EntropyVoter(wec, limit=0.4))"
   ]
  },
  {
   "cell_type": "code",
   "execution_count": 72,
   "metadata": {},
   "outputs": [
    {
     "data": {
      "text/plain": [
       "{'entropy_voter1': EntropyVoter(),\n",
       " 'dict_voter': DictVoter(),\n",
       " 'entropy_voter2': EntropyVoter(),\n",
       " 'ev3': EntropyVoter(),\n",
       " 'ev4': EntropyVoter()}"
      ]
     },
     "execution_count": 72,
     "metadata": {},
     "output_type": "execute_result"
    }
   ],
   "source": [
    "voter.voters"
   ]
  },
  {
   "cell_type": "code",
   "execution_count": 73,
   "metadata": {},
   "outputs": [],
   "source": [
    "abbr_extractor._abbr_predictor = voter"
   ]
  },
  {
   "cell_type": "code",
   "execution_count": 74,
   "metadata": {},
   "outputs": [
    {
     "data": {
      "text/plain": [
       "['МГ', 'МГ', 'МГ', 'МГ', 'МГ', 'ЕД', 'ЯЙЦО', 'ЕД', 'ЕД']"
      ]
     },
     "execution_count": 74,
     "metadata": {},
     "output_type": "execute_result"
    }
   ],
   "source": [
    "abbr_extractor.extract_abbreviations(text, filter_abbr=True)"
   ]
  },
  {
   "cell_type": "markdown",
   "metadata": {},
   "source": [
    "Существенно лучше"
   ]
  }
 ],
 "metadata": {
  "kernelspec": {
   "display_name": "Python 3 (ipykernel)",
   "language": "python",
   "name": "python3"
  },
  "language_info": {
   "codemirror_mode": {
    "name": "ipython",
    "version": 3
   },
   "file_extension": ".py",
   "mimetype": "text/x-python",
   "name": "python",
   "nbconvert_exporter": "python",
   "pygments_lexer": "ipython3",
   "version": "3.8.2"
  }
 },
 "nbformat": 4,
 "nbformat_minor": 4
}
