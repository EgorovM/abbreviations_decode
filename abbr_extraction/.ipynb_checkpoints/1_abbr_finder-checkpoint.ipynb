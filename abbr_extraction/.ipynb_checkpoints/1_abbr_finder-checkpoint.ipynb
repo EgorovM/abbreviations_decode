{
 "cells": [
  {
   "cell_type": "markdown",
   "metadata": {},
   "source": [
    "# (FAIL) Поиск возможных расшифровок по аббревиатуре"
   ]
  },
  {
   "cell_type": "code",
   "execution_count": 2,
   "metadata": {},
   "outputs": [
    {
     "data": {
      "text/plain": [
       "\"\\nfind_possible_decodes('АД')\\n['Артериальное давление', 'Альд-Джихад']\\n\""
      ]
     },
     "execution_count": 2,
     "metadata": {},
     "output_type": "execute_result"
    }
   ],
   "source": [
    "\"\"\"\n",
    ">>> find_possible_decodes('АД')\n",
    "['Артериальное давление', 'Альд-Джихад']\n",
    "\"\"\""
   ]
  },
  {
   "cell_type": "code",
   "execution_count": 65,
   "metadata": {},
   "outputs": [],
   "source": [
    "import pandas as pd"
   ]
  },
  {
   "cell_type": "code",
   "execution_count": 66,
   "metadata": {},
   "outputs": [],
   "source": [
    "import re"
   ]
  },
  {
   "cell_type": "code",
   "execution_count": 67,
   "metadata": {},
   "outputs": [],
   "source": [
    "terms = open('../data/terms.txt').read().splitlines()"
   ]
  },
  {
   "cell_type": "code",
   "execution_count": 68,
   "metadata": {},
   "outputs": [],
   "source": [
    "id2char = sorted(set(\"\".join(terms).lower().replace(' ', '')))"
   ]
  },
  {
   "cell_type": "code",
   "execution_count": 69,
   "metadata": {},
   "outputs": [],
   "source": [
    "class AbbreviationDecoder:\n",
    "    def __init__(self, id2char, terms):\n",
    "        self.update_dictionary(id2char)\n",
    "        self.init_terms(terms)\n",
    "    \n",
    "    def update_dictionary(self, id2char):\n",
    "        self.id2char = id2char\n",
    "        self.char2id = {u: i for i, u in enumerate(id2char)}\n",
    "        \n",
    "    def init_terms(self, terms):\n",
    "        self.terms = terms\n",
    "        self.terms_vectors = []\n",
    "        \n",
    "        for term in terms:\n",
    "            self.terms_vectors.append(self.decode_to_number(term))\n",
    "    \n",
    "    def decode(self, st):\n",
    "        st = st.lower()\n",
    "        return [str(int(char in st)) for char in id2char]\n",
    "    \n",
    "    def decode_to_number(self, abbr):\n",
    "        return int(''.join(self.decode(abbr)), 2)\n",
    "        \n",
    "    def text_can_be_abbreviation(self, text, abbr):\n",
    "        abbr = abbr.lower()\n",
    "        ptr_abbr = 0\n",
    "        \n",
    "        for i in range(len(text)):\n",
    "            if text[i] == abbr[ptr_abbr]:\n",
    "                ptr_abbr += 1\n",
    "                \n",
    "                if ptr_abbr == len(abbr):\n",
    "                    return True\n",
    "                \n",
    "        return False\n",
    "    \n",
    "    def can_be_abbreviation(self, abbr):\n",
    "        abbr = abbr.lower()\n",
    "        abbr_decode = self.decode_to_number(abbr)\n",
    "        \n",
    "        for term_bin, term in zip(self.terms_vectors, self.terms):\n",
    "            if (term_bin & abbr_decode) == abbr_decode and self.text_can_be_abbreviation(term, abbr):\n",
    "                print(term)\n",
    "            \n",
    "        return False\n",
    "    \n",
    "    def to_file(self, filename):\n",
    "        raise NotImplementedError\n",
    "        \n",
    "    @staticmethod\n",
    "    def from_file(filename):\n",
    "        raise NotImplementedError\n",
    "    "
   ]
  },
  {
   "cell_type": "code",
   "execution_count": 70,
   "metadata": {},
   "outputs": [],
   "source": [
    "ad = AbbreviationDecoder(id2char, terms)"
   ]
  },
  {
   "cell_type": "code",
   "execution_count": 16,
   "metadata": {},
   "outputs": [
    {
     "name": "stdout",
     "output_type": "stream",
     "text": [
      "бактериальная обсемененность воздуха\n",
      "злокачественная форма гипертонической болезни\n",
      "Ханта миоклоническая мозжечковая диссинергия\n",
      "анамнез\n",
      "желтуха негемолитическая конституциональная с липохромным гепатозом\n",
      "Шауманна доброкачественный лимфогранулематоз\n",
      "метеоанамнез\n",
      "аденокарцинома яичника псевдомуцинозная\n",
      "международная номенклатура и классификация болезней и причин смерти\n",
      "атлантозатылочная мембрана передняя (задняя)\n",
      "аланин-аминотрансфераза\n",
      "пневмония интерстициальная мононуклеарная очаговая фиброзирующая\n",
      "крапивница пигментная папулезная\n",
      "помрачение сознания сумеречное эпизодическое\n",
      "Браун-Фалько внутрифолликулярный сально-железистый мукофанероз\n"
     ]
    },
    {
     "data": {
      "text/plain": [
       "False"
      ]
     },
     "execution_count": 16,
     "metadata": {},
     "output_type": "execute_result"
    }
   ],
   "source": [
    "ad.can_be_abbreviation('АД')"
   ]
  },
  {
   "cell_type": "code",
   "execution_count": 23,
   "metadata": {},
   "outputs": [],
   "source": [
    "abbreviations_decodes = {\n",
    "    'АД': 'Артериальное давление',\n",
    "    'ПМЖА': 'Передняя межжелудочковая артерия',\n",
    "    'КАГ': 'Коронарная ангиография',\n",
    "    'ПКА': 'Правая коронарная артерия',\n",
    "    'ЭКГ': 'Электрокардиография',\n",
    "    'ИМ': 'Инфаркт миокарда',\n",
    "    'ОА': 'Огибающая артерия',\n",
    "    'ЛЖ': 'Левый желудок',\n",
    "    'ИБС': 'Ишемическая болезнь сердца',\n",
    "    'ГБ': 'Гипертоническая болезнь',\n",
    "    'РТСА': 'Перкутанная транслюминальная коронарная ангиопластика',\n",
    "    'ПКА': 'Правая коронарная артерия',\n",
    "    'СМП': 'Скорая медицинская помощь',\n",
    "    'ФВ': 'Фракция выброса',\n",
    "    'ОНМК': 'Острое нарушение мозгового кровообращения',\n",
    "    'ОИМ': 'Острый инфаркт миокарда',\n",
    "    'ДА': 'Диагональная артерия',\n",
    "    'ЭХОКГ': 'Эхокардиография',\n",
    "    'ОКС': 'Острый коронарный синдром',\n",
    "}"
   ]
  },
  {
   "cell_type": "code",
   "execution_count": 24,
   "metadata": {},
   "outputs": [],
   "source": [
    "terms = list(abbreviations_decodes.values())"
   ]
  },
  {
   "cell_type": "code",
   "execution_count": 25,
   "metadata": {},
   "outputs": [],
   "source": [
    "ad.init_terms(terms)"
   ]
  },
  {
   "cell_type": "code",
   "execution_count": 26,
   "metadata": {},
   "outputs": [
    {
     "name": "stdout",
     "output_type": "stream",
     "text": [
      "Артериальное давление\n",
      "Передняя межжелудочковая артерия\n",
      "Коронарная ангиография\n",
      "Правая коронарная артерия\n",
      "Электрокардиография\n",
      "Инфаркт миокарда\n",
      "Ишемическая болезнь сердца\n",
      "Гипертоническая болезнь\n",
      "Перкутанная транслюминальная коронарная ангиопластика\n",
      "Скорая медицинская помощь\n",
      "Фракция выброса\n",
      "Острое нарушение мозгового кровообращения\n",
      "Острый инфаркт миокарда\n",
      "Диагональная артерия\n",
      "Эхокардиография\n",
      "Острый коронарный синдром\n"
     ]
    },
    {
     "data": {
      "text/plain": [
       "False"
      ]
     },
     "execution_count": 26,
     "metadata": {},
     "output_type": "execute_result"
    }
   ],
   "source": [
    "ad.can_be_abbreviation('ОА')"
   ]
  }
 ],
 "metadata": {
  "kernelspec": {
   "display_name": "cs102",
   "language": "python",
   "name": "cs102"
  },
  "language_info": {
   "codemirror_mode": {
    "name": "ipython",
    "version": 3
   },
   "file_extension": ".py",
   "mimetype": "text/x-python",
   "name": "python",
   "nbconvert_exporter": "python",
   "pygments_lexer": "ipython3",
   "version": "3.8.3"
  }
 },
 "nbformat": 4,
 "nbformat_minor": 4
}
