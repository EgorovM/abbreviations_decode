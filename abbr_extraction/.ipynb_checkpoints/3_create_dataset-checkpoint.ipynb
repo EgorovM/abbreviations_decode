{
 "cells": [
  {
   "cell_type": "code",
   "execution_count": 247,
   "metadata": {},
   "outputs": [],
   "source": [
    "import pandas as pd"
   ]
  },
  {
   "cell_type": "code",
   "execution_count": 377,
   "metadata": {},
   "outputs": [],
   "source": [
    "with open('recomendations/russian_words.txt') as f:\n",
    "    russian_words = set(f.read().split())"
   ]
  },
  {
   "cell_type": "code",
   "execution_count": 390,
   "metadata": {},
   "outputs": [],
   "source": [
    "with open('recomendations/war_and_piece.txt') as f:\n",
    "    war_and_piece_text = f.read().lower()"
   ]
  },
  {
   "cell_type": "code",
   "execution_count": 391,
   "metadata": {},
   "outputs": [],
   "source": [
    "war_and_piece_text = re.sub('[^а-я]', ' ', war_and_piece_text)\n",
    "war_and_piece_words = set(war_and_piece_text.split())"
   ]
  },
  {
   "cell_type": "code",
   "execution_count": 394,
   "metadata": {},
   "outputs": [],
   "source": [
    "with open('abbreviations_by_entropy.txt') as f:\n",
    "    abbreviations = set(f.read().split())"
   ]
  },
  {
   "cell_type": "code",
   "execution_count": 395,
   "metadata": {},
   "outputs": [],
   "source": [
    "not_abbr_from_abbreviations = ['ПЛЮС', 'ГАЗ', 'БЕЗ', 'ДЛЯ', 'ГОД', 'КУРС', 'ЭПИЗОД', 'ЯЗЫК', 'ЧАС', 'ЯЙЦО', 'СОН', 'ВРАЧ', 'ИЮНЬ', 'ХЛЕБ', 'ЭТАЖ', 'ЧАЙ', 'ИЮЛЬ', 'ЛУЧ', 'ДУШ', 'ОЖОГ', 'МАРС', 'ЭТАП', 'СЫПЬ', 'ЭФФЕКТ', 'ЗАГИБ', 'МЫ', 'ОЧАГ', 'АРХИВ', 'ВАШ', 'ГРИПП', 'ЦИКЛ', 'ВЫ']"
   ]
  },
  {
   "cell_type": "code",
   "execution_count": 396,
   "metadata": {},
   "outputs": [],
   "source": [
    "abbreviations.difference_update(not_abbr_from_abbreviations)"
   ]
  },
  {
   "cell_type": "code",
   "execution_count": 397,
   "metadata": {},
   "outputs": [
    {
     "data": {
      "text/plain": [
       "(156754, 4626)"
      ]
     },
     "execution_count": 397,
     "metadata": {},
     "output_type": "execute_result"
    }
   ],
   "source": [
    "len(words), len(abbreviations)"
   ]
  },
  {
   "cell_type": "code",
   "execution_count": 398,
   "metadata": {},
   "outputs": [],
   "source": [
    "df = pd.DataFrame(list(war_and_piece_words) + list(abbreviations), columns=['word'])"
   ]
  },
  {
   "cell_type": "code",
   "execution_count": 400,
   "metadata": {},
   "outputs": [],
   "source": [
    "df['is_abbreviation'] = [0] * len(war_and_piece_words) + [1] * len(abbreviations)"
   ]
  },
  {
   "cell_type": "code",
   "execution_count": 401,
   "metadata": {},
   "outputs": [
    {
     "data": {
      "text/html": [
       "<div>\n",
       "<style scoped>\n",
       "    .dataframe tbody tr th:only-of-type {\n",
       "        vertical-align: middle;\n",
       "    }\n",
       "\n",
       "    .dataframe tbody tr th {\n",
       "        vertical-align: top;\n",
       "    }\n",
       "\n",
       "    .dataframe thead th {\n",
       "        text-align: right;\n",
       "    }\n",
       "</style>\n",
       "<table border=\"1\" class=\"dataframe\">\n",
       "  <thead>\n",
       "    <tr style=\"text-align: right;\">\n",
       "      <th></th>\n",
       "      <th>word</th>\n",
       "      <th>is_abbreviation</th>\n",
       "    </tr>\n",
       "  </thead>\n",
       "  <tbody>\n",
       "    <tr>\n",
       "      <th>0</th>\n",
       "      <td>узнает</td>\n",
       "      <td>0</td>\n",
       "    </tr>\n",
       "    <tr>\n",
       "      <th>1</th>\n",
       "      <td>летавшие</td>\n",
       "      <td>0</td>\n",
       "    </tr>\n",
       "    <tr>\n",
       "      <th>2</th>\n",
       "      <td>погладил</td>\n",
       "      <td>0</td>\n",
       "    </tr>\n",
       "    <tr>\n",
       "      <th>3</th>\n",
       "      <td>руками</td>\n",
       "      <td>0</td>\n",
       "    </tr>\n",
       "    <tr>\n",
       "      <th>4</th>\n",
       "      <td>дмитриевна</td>\n",
       "      <td>0</td>\n",
       "    </tr>\n",
       "    <tr>\n",
       "      <th>...</th>\n",
       "      <td>...</td>\n",
       "      <td>...</td>\n",
       "    </tr>\n",
       "    <tr>\n",
       "      <th>53151</th>\n",
       "      <td>ЮС</td>\n",
       "      <td>1</td>\n",
       "    </tr>\n",
       "    <tr>\n",
       "      <th>53152</th>\n",
       "      <td>VСS</td>\n",
       "      <td>1</td>\n",
       "    </tr>\n",
       "    <tr>\n",
       "      <th>53153</th>\n",
       "      <td>МСОЭ</td>\n",
       "      <td>1</td>\n",
       "    </tr>\n",
       "    <tr>\n",
       "      <th>53154</th>\n",
       "      <td>ЭСВ</td>\n",
       "      <td>1</td>\n",
       "    </tr>\n",
       "    <tr>\n",
       "      <th>53155</th>\n",
       "      <td>ППР</td>\n",
       "      <td>1</td>\n",
       "    </tr>\n",
       "  </tbody>\n",
       "</table>\n",
       "<p>53156 rows × 2 columns</p>\n",
       "</div>"
      ],
      "text/plain": [
       "             word  is_abbreviation\n",
       "0          узнает                0\n",
       "1        летавшие                0\n",
       "2        погладил                0\n",
       "3          руками                0\n",
       "4      дмитриевна                0\n",
       "...           ...              ...\n",
       "53151          ЮС                1\n",
       "53152         VСS                1\n",
       "53153        МСОЭ                1\n",
       "53154         ЭСВ                1\n",
       "53155         ППР                1\n",
       "\n",
       "[53156 rows x 2 columns]"
      ]
     },
     "execution_count": 401,
     "metadata": {},
     "output_type": "execute_result"
    }
   ],
   "source": [
    "df"
   ]
  }
 ],
 "metadata": {
  "kernelspec": {
   "display_name": "cs102",
   "language": "python",
   "name": "cs102"
  },
  "language_info": {
   "codemirror_mode": {
    "name": "ipython",
    "version": 3
   },
   "file_extension": ".py",
   "mimetype": "text/x-python",
   "name": "python",
   "nbconvert_exporter": "python",
   "pygments_lexer": "ipython3",
   "version": "3.8.3"
  }
 },
 "nbformat": 4,
 "nbformat_minor": 4
}
