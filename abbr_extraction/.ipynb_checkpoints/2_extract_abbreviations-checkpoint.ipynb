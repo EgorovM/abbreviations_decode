{
 "cells": [
  {
   "cell_type": "markdown",
   "metadata": {},
   "source": [
    "# Извлечение аббревиатур\n",
    "\n",
    "Извлечение происходит двухэтапно:\n",
    "1. Сначала \"наивно\" достаются все аббревиатуры по следущим правилам:\n",
    "    + Если больше половины букв в слове - заглавные, то это аббревиатура\n",
    "    + Исключение это возможные инициалы сотрудинков (\"М.П.\", \"М.П\" и тп)\n",
    "    + Потом эти аббревиатуры чистятся - оставляем только буквы и знаки \"-\", \".\"\n",
    "\n",
    "2. Приводим аббревиатуры в одинаковый вид, разделяем аббревиатуры\n",
    "\n",
    "    После первого этапа остаются аббревиатуры, которые могут писаться несколькими способами - \"ЭХО-КГ\", \"ЭХОКГ\", а также \"слипленные\": \"ЛЖ.МР\" -> [\"ЛЖ\", \"МР\"].\n",
    "\n",
    "    Поэтому мы будем убирать знаки препинания и смотреть, есть ли такое слово в словаре достанным из текстов \"наивно\".\n",
    "    Если нет, то будем разделять по знакам препинания и смотреть, есть ли самостоятельная аббревиатура в словаре"
   ]
  },
  {
   "cell_type": "code",
   "execution_count": 58,
   "metadata": {},
   "outputs": [],
   "source": [
    "import pandas as pd\n",
    "import numpy as np\n",
    "import re"
   ]
  },
  {
   "cell_type": "code",
   "execution_count": 59,
   "metadata": {},
   "outputs": [],
   "source": [
    "with open('../data/all_anamnesises.txt') as f:\n",
    "    anamnesises = f.read().split('\\n\\t')"
   ]
  },
  {
   "cell_type": "code",
   "execution_count": 194,
   "metadata": {},
   "outputs": [],
   "source": [
    "records_df = pd.read_csv('../data/patient_records.csv', sep='\\t')"
   ]
  },
  {
   "cell_type": "code",
   "execution_count": 210,
   "metadata": {},
   "outputs": [],
   "source": [
    "records_df.head()\n",
    "records_df.dropna(inplace=True)"
   ]
  },
  {
   "cell_type": "code",
   "execution_count": 212,
   "metadata": {},
   "outputs": [],
   "source": [
    "anamnesises = records_df['record']"
   ]
  },
  {
   "cell_type": "code",
   "execution_count": 213,
   "metadata": {},
   "outputs": [],
   "source": [
    "def is_abbreviation(word):\n",
    "    \"\"\"\n",
    "    Будем считать аббревиатурами слова, половина букв которого - заглавные\n",
    "    \n",
    "    Уберем случаи, когда это может инициалы сотрудника\n",
    "    \"\"\"\n",
    "    \n",
    "    # убрать инициалы\n",
    "    if re.fullmatch(r'[A-ZА-Я]\\.[A-ZА-Я]\\.?', word):\n",
    "        return False\n",
    "    \n",
    "    upper_count = sum([l.isupper() for l in word])\n",
    "    \n",
    "    return upper_count > len(word) // 2 and len(word) > 1\n",
    "\n",
    "def clean_abbr(word):\n",
    "    \"\"\"\n",
    "    Убираем все символы кроме буквенных, точки и тире\n",
    "    \"\"\"\n",
    "    word = re.sub(r'[^A-ZА-Яа-я-a-z-\\.]', '', word)\n",
    "    \n",
    "    \n",
    "    while word[-1] in ['-', '.']:\n",
    "        word = word[:-1]\n",
    "        \n",
    "    while word[0] in ['-', '.']:\n",
    "        word = word[1:]\n",
    "        \n",
    "    return word.upper()\n",
    "\n",
    "# Первый этап\n",
    "def naive_extract_abbreviation(text):\n",
    "    text = text.replace(',', ' ')\n",
    "    abbrs = filter(lambda word: is_abbreviation(word), text.split())\n",
    "    abbrs = map(clean_abbr, abbrs)\n",
    "    \n",
    "    return list(abbrs)\n",
    "\n",
    "def split_abbreviations(abbr):\n",
    "    # Если без знаков препинания является аббревиатурой\n",
    "    # ЭХО-КГ -> ЭХОКГ\n",
    "    \n",
    "    if re.sub(r'[\\.|-]', '', abbr) in abbrs_counter:\n",
    "        return [re.sub(r'[\\.|-]', '', abbr)]\n",
    "    \n",
    "    items = re.split(r'[-\\.]', abbr)\n",
    "    \n",
    "    new_abbrs = []\n",
    "    found = False\n",
    "    \n",
    "    for item in items:\n",
    "        if item in abbrs_counter:\n",
    "            new_abbrs.append(item)\n",
    "\n",
    "    if len(new_abbrs) > 0:\n",
    "        return new_abbrs\n",
    "\n",
    "    return [abbr]\n"
   ]
  },
  {
   "cell_type": "markdown",
   "metadata": {},
   "source": [
    "Посмотрим какие аббревиатуры были получены"
   ]
  },
  {
   "cell_type": "code",
   "execution_count": 214,
   "metadata": {},
   "outputs": [],
   "source": [
    "from collections import Counter"
   ]
  },
  {
   "cell_type": "code",
   "execution_count": null,
   "metadata": {},
   "outputs": [],
   "source": [
    "abbrs_counter = Counter()\n",
    "\n",
    "for text in anamnesises:\n",
    "    abbrs_counter.update(naive_extract_abbreviation(text))"
   ]
  },
  {
   "cell_type": "code",
   "execution_count": null,
   "metadata": {},
   "outputs": [],
   "source": [
    "len(abbrs_counter)"
   ]
  },
  {
   "cell_type": "markdown",
   "metadata": {},
   "source": [
    "Есть еще некоторые полные слова \"ЗАБОЛЕВАНИЯ\", \"ЖАЛОБЫ\", \"ДИАГНОЗ\""
   ]
  },
  {
   "cell_type": "code",
   "execution_count": null,
   "metadata": {},
   "outputs": [],
   "source": [
    "class bcolors:\n",
    "    HEADER = '\\033[95m'\n",
    "    OKBLUE = '\\033[94m'\n",
    "    OKCYAN = '\\033[96m'\n",
    "    OKGREEN = '\\033[92m'\n",
    "    WARNING = '\\033[93m'\n",
    "    FAIL = '\\033[91m'\n",
    "    ENDC = '\\033[0m'\n",
    "    BOLD = '\\033[1m'\n",
    "    UNDERLINE = '\\033[4m'"
   ]
  },
  {
   "cell_type": "code",
   "execution_count": null,
   "metadata": {},
   "outputs": [],
   "source": [
    "# Вспомогательные функции\n",
    "\n",
    "def find_text_with_abbr(abbr, to_print=False):\n",
    "    for text in anamnesises:\n",
    "        if abbr in naive_extract_abbreviation(text):\n",
    "            if to_print:\n",
    "                text = text.replace(abbr, bcolors.FAIL + abbr + bcolors.ENDC)\n",
    "                print(text)\n",
    "            \n",
    "            return text\n",
    "        \n",
    "def find_text_with_chars(abbr):\n",
    "    for text in anamnesises:\n",
    "        if abbr in text:\n",
    "            print(text.replace(abbr, bcolors.FAIL + abbr + bcolors.ENDC))\n",
    "            return text"
   ]
  },
  {
   "cell_type": "code",
   "execution_count": null,
   "metadata": {},
   "outputs": [],
   "source": [
    "# Второй этап: разделение и приведение к одному виду аббревиатур\n",
    "\n",
    "def extract_abbreviation_from_text(text):\n",
    "    abbreviations = naive_extract_abbreviation(text)\n",
    "    items = []\n",
    "    \n",
    "    for abbr in abbreviations:\n",
    "        items.extend(split_abbreviations(abbr))\n",
    "    \n",
    "    return items"
   ]
  },
  {
   "cell_type": "code",
   "execution_count": null,
   "metadata": {},
   "outputs": [],
   "source": [
    "extract_abbreviation_from_text('ЗМЖВ-ПКА ЭХОКГ ЭХО-КГ')"
   ]
  },
  {
   "cell_type": "markdown",
   "metadata": {},
   "source": [
    "Посмотрим сколько всего аббревиатур сейчас получится"
   ]
  },
  {
   "cell_type": "code",
   "execution_count": null,
   "metadata": {},
   "outputs": [],
   "source": [
    "abbrs_counter_q = Counter()\n",
    "\n",
    "for text in anamnesises:\n",
    "    abbrs_counter_q.update(extract_abbreviation_from_text(text))"
   ]
  },
  {
   "cell_type": "code",
   "execution_count": null,
   "metadata": {},
   "outputs": [],
   "source": [
    "len(abbrs_counter_q)"
   ]
  },
  {
   "cell_type": "code",
   "execution_count": null,
   "metadata": {},
   "outputs": [],
   "source": [
    "from importlib import reload\n",
    "import recomendations.word_entropy"
   ]
  },
  {
   "cell_type": "code",
   "execution_count": null,
   "metadata": {},
   "outputs": [],
   "source": [
    "reload(recomendations.word_entropy)"
   ]
  },
  {
   "cell_type": "code",
   "execution_count": null,
   "metadata": {},
   "outputs": [],
   "source": [
    "from recomendations.word_entropy import WordEntropyCounter"
   ]
  },
  {
   "cell_type": "code",
   "execution_count": 200,
   "metadata": {},
   "outputs": [],
   "source": [
    "wec = recomendations.word_entropy.WordEntropyCounter.from_file('recomendations/war_and_piece.wec')"
   ]
  },
  {
   "cell_type": "code",
   "execution_count": 201,
   "metadata": {},
   "outputs": [],
   "source": [
    "import re"
   ]
  },
  {
   "cell_type": "code",
   "execution_count": 202,
   "metadata": {},
   "outputs": [],
   "source": [
    "abbr_freq = dict()\n",
    "\n",
    "for n_abbr in abbrs_counter_q:\n",
    "    abbr = n_abbr.lower()\n",
    "    abbr = ' ' + re.sub(r'[^а-я]', '', abbr) + ' '\n",
    "    \n",
    "    if len(abbr) < 2:\n",
    "        continue\n",
    "        \n",
    "    try:\n",
    "        abbr_freq[n_abbr] = wec.word_entropy(abbr)\n",
    "    except:\n",
    "        pass"
   ]
  },
  {
   "cell_type": "code",
   "execution_count": 203,
   "metadata": {},
   "outputs": [],
   "source": [
    "store = [(score, key) for key, score in abbr_freq.items()]"
   ]
  },
  {
   "cell_type": "code",
   "execution_count": 204,
   "metadata": {},
   "outputs": [],
   "source": [
    "store.sort()"
   ]
  },
  {
   "cell_type": "code",
   "execution_count": 205,
   "metadata": {},
   "outputs": [
    {
     "data": {
      "text/plain": [
       "[(0.8763478132639839, 'ТБКА'),\n",
       " (0.8800384663830199, 'НИИ'),\n",
       " (0.8807406086329552, 'США'),\n",
       " (0.8827149543866926, 'СМА'),\n",
       " (0.8827517298285359, 'ПССТ'),\n",
       " (0.8842461458139688, 'КВО'),\n",
       " (0.8851768454911684, 'НКО'),\n",
       " (0.8854605462686678, 'ВМПОМС'),\n",
       " (0.8931499026461113, 'РСДЛА'),\n",
       " (0.8943267238379686, 'МНО'),\n",
       " (0.8958342984429091, 'ПСМА'),\n",
       " (0.8964772440874043, 'ПВСА'),\n",
       " (0.9105055611334656, 'РЭХМДИЛ'),\n",
       " (0.9125907863118509, 'БАЛ'),\n",
       " (0.9149275920148265, 'СЗГМУ'),\n",
       " (0.919892124486665, 'ОАПКА'),\n",
       " (0.9208697863185209, 'РГОГК'),\n",
       " (0.9222806653586708, 'СТЛ'),\n",
       " (0.9230072363333933, 'РХМДИЛ'),\n",
       " (0.9240425926588727, 'СМИ'),\n",
       " (0.9278016401878877, 'ВОВ'),\n",
       " (0.927856980542447, 'ВПО'),\n",
       " (0.9294706256231657, 'НИИК'),\n",
       " (0.9341595863236116, 'ВРАО'),\n",
       " (0.9367582538319947, 'ПКА'),\n",
       " (0.938121844781541, 'ЖЕЛ'),\n",
       " (0.9390361307379824, 'СПГМУ'),\n",
       " (0.9404029810162347, 'ПО'),\n",
       " (0.9459694077404117, 'ОРВИ'),\n",
       " (0.9484428141641191, 'РХДМИЛ'),\n",
       " (0.9541898326588886, 'ОРИА'),\n",
       " (0.9570284028587289, 'СТЛТЛ'),\n",
       " (0.9589058942055859, 'ПКАВ'),\n",
       " (0.9630017680614904, 'КАК'),\n",
       " (0.9632483996016759, 'ОАРИТ'),\n",
       " (0.9678394699846751, 'КРО'),\n",
       " (0.9698093582011482, 'АВIIIСТ'),\n",
       " (0.9733525743232798, 'ЗНО'),\n",
       " (0.9789122317435088, 'НЕQИМ'),\n",
       " (0.9804208226970492, 'АССОМ'),\n",
       " (0.9808906258783358, 'ЛОСА'),\n",
       " (0.9842068315470623, 'ПОРГ'),\n",
       " (0.9855582892078473, 'ХОБЛ'),\n",
       " (0.9881403338875323, 'СПОН'),\n",
       " (0.9917750168509027, 'СДЛА'),\n",
       " (0.9922372623007739, 'КДОКСОЛЖ'),\n",
       " (0.9968979043164604, 'ОБЩИЙ'),\n",
       " (0.9973669442278569, 'ДЗНЕ'),\n",
       " (0.999130937472145, 'УЗДГБЦА'),\n",
       " (1.0041381088186638, 'БРА'),\n",
       " (1.0044649177515592, 'НИЛ'),\n",
       " (1.0085467814808562, 'ОРИТ'),\n",
       " (1.0122123340101359, 'ПКАОТ'),\n",
       " (1.0153813835230852, 'РТСАСО'),\n",
       " (1.0180586183479543, 'ИКДРЧА'),\n",
       " (1.0315981905333462, 'ГОБУЗ'),\n",
       " (1.0376852571176842, 'НИВЛ'),\n",
       " (1.0386780145166519, 'СТАЦ'),\n",
       " (1.0421222576662106, 'КДОКСО'),\n",
       " (1.043726223386259, 'НЕQОИМ'),\n",
       " (1.047717868411028, 'СМПСТЛ'),\n",
       " (1.0553286478156485, 'РСТА'),\n",
       " (1.0572839726278933, 'БЛСМА'),\n",
       " (1.0582834773094416, 'КАГИ'),\n",
       " (1.0679934261817898, 'СКИЭМ'),\n",
       " (1.0906694050454426, 'ПУЗЫРЬ'),\n",
       " (1.1066857177864369, 'ДЕНЬ'),\n",
       " (1.125129943074088, 'МАПО'),\n",
       " (1.1357150433585737, 'ИАПФАРА'),\n",
       " (1.151231105796272, 'КДОКОС'),\n",
       " (1.169257431741479, 'ОРХМДИЛ'),\n",
       " (1.189574347742495, 'ОСМОТР'),\n",
       " (1.2022904804469974, 'ПОЭХОКГ'),\n",
       " (1.205899551514442, 'ВМЕДА'),\n",
       " (1.2141110646140671, 'ПРИ'),\n",
       " (1.245699347429111, 'ПОСА'),\n",
       " (1.2575112685154561, 'ПРА'),\n",
       " (1.2579071029652247, 'ПИКСОИМ'),\n",
       " (1.287542429777041, 'АЛТАСТ'),\n",
       " (1.287542429777041, 'АСТАЛТ'),\n",
       " (1.2967606283407749, 'РХМИДИЛ'),\n",
       " (1.3031510987501889, 'АНАМНЕЗ'),\n",
       " (1.3097795415662277, 'КАГОТ'),\n",
       " (1.3331438835376024, 'ЖИЗНИ'),\n",
       " (1.3535141429044881, 'СТРЕСС'),\n",
       " (1.389459133540878, 'Г.КИРИШИ'),\n",
       " (1.402281400981713, 'ЭХОКГКДОКСО'),\n",
       " (1.4356648338321196, 'ВСЕГО'),\n",
       " (1.5230630357238222, 'КАГЛКА'),\n",
       " (1.55187118401556, 'ПРАВУТ'),\n",
       " (1.5531917903963879, 'МОЧЕВОЙ'),\n",
       " (1.6168396436594739, 'ЖЕЛЕЗА'),\n",
       " (1.6447471464622825, 'ОПЕРАЦИИ'),\n",
       " (1.6667826003375048, 'ЖАЛОБЫ'),\n",
       " (1.8652510757014165, 'СТРЕССЭХОКГ'),\n",
       " (2.218673614522984, 'ЗАКЛЮЧЕНИЕ'),\n",
       " (2.389001843512429, 'ПРОТОКОЛ'),\n",
       " (2.529872951558324, 'ЗАБОЛЕВАНИЯ'),\n",
       " (2.7110474441867884, 'ПОСТУПЛЕНИЯ'),\n",
       " (3.4673841749334615, 'ПРЕДСТАТЕЛЬНАЯ')]"
      ]
     },
     "execution_count": 205,
     "metadata": {},
     "output_type": "execute_result"
    }
   ],
   "source": [
    "store[-100:]"
   ]
  },
  {
   "cell_type": "code",
   "execution_count": 206,
   "metadata": {},
   "outputs": [
    {
     "data": {
      "text/plain": [
       "'За время стац.лечения ангинозные боли не рецидивировали. Двигательный режим расширен до IV. По результатам контрольного СМЭКГ ишемические изменения, прогностически неблагоприятные нарушения ритма не зарегистрированы. Выполнена стрессЭхоКГ — тест отрицательный, пациент представлен на отборочную комиссию г.н.с.НИО ИБС проф., д.м.н. Кулешовой Э.В.: в настоящее время показаний к реваскуляризации в бассейне ПрА нет.'"
      ]
     },
     "execution_count": 206,
     "metadata": {},
     "output_type": "execute_result"
    }
   ],
   "source": [
    "find_text_with_abbr('ПРА')"
   ]
  },
  {
   "cell_type": "code",
   "execution_count": 207,
   "metadata": {},
   "outputs": [],
   "source": [
    "def get_latex_table_format(words1, words2):\n",
    "    for i in range(len(words1)):\n",
    "        print(i+1, '&', words1[i][0], '&', 'x', '&', words2[i][0], '&', 'x', '\\\\\\\\')  "
   ]
  },
  {
   "cell_type": "code",
   "execution_count": 208,
   "metadata": {},
   "outputs": [
    {
     "name": "stdout",
     "output_type": "stream",
     "text": [
      "1 & 0.3561514741569668 & x & 0.3633410223274963 & x \\\\\n",
      "2 & 0.356117959761613 & x & 0.35788935266998534 & x \\\\\n",
      "3 & 0.34960706030845623 & x & 0.34720297175685333 & x \\\\\n",
      "4 & 0.3443149019785926 & x & 0.3338742240748571 & x \\\\\n",
      "5 & 0.3393570100706972 & x & 0.3297633712341591 & x \\\\\n",
      "6 & 0.33378197494651013 & x & 0.3276805066338308 & x \\\\\n",
      "7 & 0.33119781275928434 & x & 0.326943566805611 & x \\\\\n",
      "8 & 0.32665649243704287 & x & 0.32544202920882853 & x \\\\\n",
      "9 & 0.32411059035484446 & x & 0.32330414085105413 & x \\\\\n",
      "10 & 0.32187113514723675 & x & 0.31629213255962674 & x \\\\\n",
      "11 & 0.3215636373705065 & x & 0.3158863866813476 & x \\\\\n",
      "12 & 0.31869769797361275 & x & 0.31468878495851305 & x \\\\\n",
      "13 & 0.3151368906926171 & x & 0.3140664710945819 & x \\\\\n",
      "14 & 0.3144305860805312 & x & 0.3139094939388022 & x \\\\\n",
      "15 & 0.314286108847742 & x & 0.31327381333715604 & x \\\\\n"
     ]
    }
   ],
   "source": [
    "get_latex_table_format(\n",
    "    [(0.3561514741569668, 'ать'),\n",
    " (0.356117959761613, 'ват'),\n",
    " (0.34960706030845623, 'кат'),\n",
    " (0.3443149019785926, 'эка'),\n",
    " (0.3393570100706972, 'про'),\n",
    " (0.33378197494651013, 'мат'),\n",
    " (0.33119781275928434, 'эко'),\n",
    " (0.32665649243704287, 'пра'),\n",
    " (0.32411059035484446, 'кан'),\n",
    " (0.32187113514723675, 'брать'),\n",
    " (0.3215636373705065, 'ска'),\n",
    " (0.31869769797361275, 'чере'),\n",
    " (0.3151368906926171, 'пре'),\n",
    " (0.3144305860805312, 'есть'),\n",
    " (0.314286108847742, 'раны')],\n",
    "    [(0.3633410223274963, 'что'),\n",
    " (0.35788935266998534, 'сто'),\n",
    " (0.34720297175685333, 'пра'),\n",
    " (0.3338742240748571, 'про'),\n",
    " (0.3297633712341591, 'кал'),\n",
    " (0.3276805066338308, 'была'),\n",
    " (0.326943566805611, 'пре'),\n",
    " (0.32544202920882853, 'кала'),\n",
    " (0.32330414085105413, 'было'),\n",
    " (0.31629213255962674, 'при'),\n",
    " (0.3158863866813476, 'йна'),\n",
    " (0.31468878495851305, 'пост'),\n",
    " (0.3140664710945819, 'като'),\n",
    " (0.3139094939388022, 'праза'),\n",
    " (0.31327381333715604, 'стос')]\n",
    ")"
   ]
  },
  {
   "cell_type": "code",
   "execution_count": 209,
   "metadata": {},
   "outputs": [
    {
     "data": {
      "text/plain": [
       "[(3.4673841749334615, 'ПРЕДСТАТЕЛЬНАЯ'),\n",
       " (2.7110474441867884, 'ПОСТУПЛЕНИЯ'),\n",
       " (2.529872951558324, 'ЗАБОЛЕВАНИЯ'),\n",
       " (2.389001843512429, 'ПРОТОКОЛ'),\n",
       " (2.218673614522984, 'ЗАКЛЮЧЕНИЕ'),\n",
       " (1.8652510757014165, 'СТРЕССЭХОКГ'),\n",
       " (1.6667826003375048, 'ЖАЛОБЫ'),\n",
       " (1.6447471464622825, 'ОПЕРАЦИИ'),\n",
       " (1.6168396436594739, 'ЖЕЛЕЗА'),\n",
       " (1.5531917903963879, 'МОЧЕВОЙ'),\n",
       " (1.55187118401556, 'ПРАВУТ'),\n",
       " (1.5230630357238222, 'КАГЛКА'),\n",
       " (1.4356648338321196, 'ВСЕГО'),\n",
       " (1.402281400981713, 'ЭХОКГКДОКСО'),\n",
       " (1.389459133540878, 'Г.КИРИШИ')]"
      ]
     },
     "execution_count": 209,
     "metadata": {},
     "output_type": "execute_result"
    }
   ],
   "source": [
    "sorted(store[-15:], reverse=True)"
   ]
  },
  {
   "cell_type": "code",
   "execution_count": null,
   "metadata": {},
   "outputs": [],
   "source": [
    "sorted(store[-15:], reverse=True)"
   ]
  },
  {
   "cell_type": "code",
   "execution_count": 48,
   "metadata": {},
   "outputs": [],
   "source": [
    "entryopy_large_words = list(filter(lambda x: abbr_freq[x] > 0.2, abbr_freq.keys()))"
   ]
  },
  {
   "cell_type": "code",
   "execution_count": 49,
   "metadata": {},
   "outputs": [
    {
     "data": {
      "text/plain": [
       "69"
      ]
     },
     "execution_count": 49,
     "metadata": {},
     "output_type": "execute_result"
    }
   ],
   "source": [
    "len(entryopy_large_words)"
   ]
  },
  {
   "cell_type": "code",
   "execution_count": 50,
   "metadata": {},
   "outputs": [
    {
     "data": {
      "text/plain": [
       "' Повышение АД в анамнезе отрицает. ОНМК отрицает. В течение года отмечает появление дискомфорта в грудной клетке, сопровождающийся одышкой при физической нагрузке. Периодически наблюдается в ЛПУ по м\\\\ж. Не обследовалась. Настоящее ухудшение с начала октября, когда обратила внимание на появление болей за грудиной, учащенное сердцебиение, сопровождающиеся нехваткой воздуха при минимальной физической нагрузке (ходьба 100м). 15.10.15г с жалобами на дискомфорт в грудной клетке обратилась в поликлинику РАН, где по ЭКГ выявлены очаговые изменения в передне-перегородночной области неизвестной давности. С представлением об ОКС 15.10.15г госпитализирована в ОАРиТ №2 ФМИЦ для дальнейшего наблюдения, определения дальнейшей тактики.  '"
      ]
     },
     "execution_count": 50,
     "metadata": {},
     "output_type": "execute_result"
    }
   ],
   "source": [
    "find_text_with_abbr('РАН')"
   ]
  },
  {
   "cell_type": "code",
   "execution_count": 51,
   "metadata": {},
   "outputs": [
    {
     "data": {
      "text/plain": [
       "['каг',\n",
       " 'лка',\n",
       " 'пра',\n",
       " 'нил',\n",
       " 'стресс',\n",
       " 'орит',\n",
       " 'кин',\n",
       " 'поса',\n",
       " 'мно',\n",
       " 'вов',\n",
       " 'жел',\n",
       " 'жда',\n",
       " 'аск',\n",
       " 'хобл',\n",
       " 'кос',\n",
       " 'муз',\n",
       " 'мет',\n",
       " 'дла',\n",
       " 'тст',\n",
       " 'зно',\n",
       " 'аст',\n",
       " 'кро',\n",
       " 'как',\n",
       " 'лоса',\n",
       " 'мапо',\n",
       " 'при',\n",
       " 'ика',\n",
       " 'амо',\n",
       " 'вок',\n",
       " 'аро',\n",
       " 'стац',\n",
       " 'нст',\n",
       " 'ран',\n",
       " 'рамн',\n",
       " 'ниц',\n",
       " 'кап',\n",
       " 'дад',\n",
       " 'порг',\n",
       " 'оск',\n",
       " 'фат',\n",
       " 'правут',\n",
       " 'всего',\n",
       " 'рста',\n",
       " 'заключение',\n",
       " 'протокол',\n",
       " 'кагот',\n",
       " 'лат',\n",
       " 'авст',\n",
       " 'жалобы',\n",
       " 'анамнез',\n",
       " 'заболевания',\n",
       " 'жизни',\n",
       " 'осмотр',\n",
       " 'каглка',\n",
       " 'аки',\n",
       " 'рах',\n",
       " 'спон',\n",
       " 'асталт',\n",
       " 'алтаст',\n",
       " 'впо',\n",
       " 'день',\n",
       " 'поступления',\n",
       " 'бра',\n",
       " 'бал',\n",
       " 'ралж',\n",
       " 'ара',\n",
       " 'мочевой',\n",
       " 'предстательная',\n",
       " 'железа']"
      ]
     },
     "execution_count": 51,
     "metadata": {},
     "output_type": "execute_result"
    }
   ],
   "source": [
    "entryopy_large_words"
   ]
  },
  {
   "cell_type": "code",
   "execution_count": 100,
   "metadata": {},
   "outputs": [],
   "source": [
    "with open('entropy_large_words.txt', 'w') as f:\n",
    "    f.write(\"\\n\".join(entryopy_large_words))"
   ]
  },
  {
   "cell_type": "code",
   "execution_count": 102,
   "metadata": {},
   "outputs": [],
   "source": [
    "import numpy as np"
   ]
  },
  {
   "cell_type": "code",
   "execution_count": 103,
   "metadata": {},
   "outputs": [
    {
     "data": {
      "text/plain": [
       "0.19104665877054913"
      ]
     },
     "execution_count": 103,
     "metadata": {},
     "output_type": "execute_result"
    }
   ],
   "source": [
    "np.median(list(abbr_freq.values()))"
   ]
  },
  {
   "cell_type": "code",
   "execution_count": 186,
   "metadata": {},
   "outputs": [],
   "source": [
    "import seaborn as sns\n",
    "import matplotlib.pyplot as plt"
   ]
  },
  {
   "cell_type": "code",
   "execution_count": 193,
   "metadata": {},
   "outputs": [
    {
     "data": {
      "text/plain": [
       "Text(3.799999999999997, 0.5, 'Count')"
      ]
     },
     "execution_count": 193,
     "metadata": {},
     "output_type": "execute_result"
    },
    {
     "data": {
      "image/png": "[encoded data removed]",
      "text/plain": [
       "<Figure size 360x360 with 1 Axes>"
      ]
     },
     "metadata": {
      "needs_background": "light"
     },
     "output_type": "display_data"
    }
   ],
   "source": [
    "sns.displot(abbr_freq.values(), legend=False)\n",
    "plt.xlabel('Entropy')\n",
    "plt.ylabel('Count')"
   ]
  },
  {
   "cell_type": "code",
   "execution_count": 111,
   "metadata": {},
   "outputs": [],
   "source": [
    "import matplotlib.pyplot as plt"
   ]
  },
  {
   "cell_type": "markdown",
   "metadata": {},
   "source": [
    "Уменьшилось на 100 аббревиатур: исчезли слипленные единичные аббревиатуры и были приведены к одному виду некоторые аббревиатуры"
   ]
  },
  {
   "cell_type": "markdown",
   "metadata": {},
   "source": [
    "## Сокращения, не написанные заглавными буквами"
   ]
  },
  {
   "cell_type": "markdown",
   "metadata": {},
   "source": [
    "(Пока не доделано)"
   ]
  },
  {
   "cell_type": "code",
   "execution_count": 217,
   "metadata": {},
   "outputs": [],
   "source": [
    "def can_be_sokr_by_sep(word, sep='.'):\n",
    "    if sep in word:\n",
    "        return all([can_be_sokr_by_sep(subword, sep) for subword in word.split(sep)])\n",
    "    \n",
    "    if len(word) == 0:\n",
    "        return True\n",
    "    \n",
    "    if word[-1] in ['а', 'у', 'о', 'ы', 'и', 'э', 'я', 'ю', 'ё', 'е']:\n",
    "        if len(word) == 1:\n",
    "            return True\n",
    "    else:\n",
    "        if len(word) <= 6:\n",
    "            return True\n",
    "        \n",
    "    return False"
   ]
  },
  {
   "cell_type": "code",
   "execution_count": 218,
   "metadata": {},
   "outputs": [],
   "source": [
    "right_sokr = Counter()\n",
    "clean_sokr = dict()\n",
    "\n",
    "for text in anamnesises:\n",
    "    for word in text.split():\n",
    "        if re.findall(r'\\d', word) or re.fullmatch(r'[А-Я]\\.[А-Я].*', word):\n",
    "            continue\n",
    "            \n",
    "        if not re.findall(r'[A-ZА-Яa-zа-я]+[\\.|/][A-ZА-Яa-zа-я]+[\\.|/]*', word):\n",
    "            continue\n",
    "            \n",
    "        if ('.' in word or '/' in word) and (can_be_sokr_by_sep(word, '.') or can_be_sokr_by_sep(word, '/')) and not is_abbreviation(word):\n",
    "            right_sokr.update([clean_sokr.get(clean_abbr(word), word)])\n",
    "            \n",
    "            if not clean_abbr(word) in clean_sokr:\n",
    "                clean_sokr[clean_abbr(word)] = word"
   ]
  },
  {
   "cell_type": "code",
   "execution_count": 219,
   "metadata": {},
   "outputs": [
    {
     "data": {
      "text/plain": [
       "287"
      ]
     },
     "execution_count": 219,
     "metadata": {},
     "output_type": "execute_result"
    }
   ],
   "source": [
    "len(right_sokr)"
   ]
  },
  {
   "cell_type": "code",
   "execution_count": 157,
   "metadata": {},
   "outputs": [
    {
     "name": "stdout",
     "output_type": "stream",
     "text": [
      "  Дебют ИБС с ОИМ в 2007 г. АКШ в 2008 г. С 07:00.07.10.15. впервые за длительный период давящая боль за грудиной, потливость. Вызвал с/пом. был госпитализирован в Киришскую ЦРБ с д-зом Повт ОИМ нижне-боковой ст ЛЖ от 07.10.15.   Повышение АД: Давность с 55 лет: максимальное 180/100 мм рт cт; \"рабочее\" 145/90 мм рт cт; на постоянной гипотензивной терапии аккупро   Сахарный диабет,, БА, заболевания ЩЖ: отрицает   Инфаркт миокарда: Инфаркт миокарда: 2007 гг; Эндоваскулярные вмешательства/АКШ: 2008   Госпитализация по поводу данного заболевания: Последняя госпитализация дата: 07.10.2015, Срок госпитализации: 1 сутки; лечебное учреждение: МУЗ \"ЦРБ\", \u001b[91mГ.КИРИШИ;\u001b[0m Проводимое лечение: гепарин. морфин, аспирин, плавикс 300 мг нитроминт   Переведен в ФМИЦ для КШГ.   \n"
     ]
    },
    {
     "data": {
      "text/plain": [
       "'  Дебют ИБС с ОИМ в 2007 г. АКШ в 2008 г. С 07:00.07.10.15. впервые за длительный период давящая боль за грудиной, потливость. Вызвал с/пом. был госпитализирован в Киришскую ЦРБ с д-зом Повт ОИМ нижне-боковой ст ЛЖ от 07.10.15.   Повышение АД: Давность с 55 лет: максимальное 180/100 мм рт cт; \"рабочее\" 145/90 мм рт cт; на постоянной гипотензивной терапии аккупро   Сахарный диабет,, БА, заболевания ЩЖ: отрицает   Инфаркт миокарда: Инфаркт миокарда: 2007 гг; Эндоваскулярные вмешательства/АКШ: 2008   Госпитализация по поводу данного заболевания: Последняя госпитализация дата: 07.10.2015, Срок госпитализации: 1 сутки; лечебное учреждение: МУЗ \"ЦРБ\", Г.КИРИШИ; Проводимое лечение: гепарин. морфин, аспирин, плавикс 300 мг нитроминт   Переведен в ФМИЦ для КШГ.   '"
      ]
     },
     "execution_count": 157,
     "metadata": {},
     "output_type": "execute_result"
    }
   ],
   "source": [
    "find_text_with_chars('Г.КИРИШИ;')"
   ]
  },
  {
   "cell_type": "markdown",
   "metadata": {},
   "source": [
    "## Визуализация"
   ]
  },
  {
   "cell_type": "code",
   "execution_count": 94,
   "metadata": {},
   "outputs": [],
   "source": [
    "import seaborn as sns\n",
    "import matplotlib.pyplot as plt"
   ]
  },
  {
   "cell_type": "code",
   "execution_count": 538,
   "metadata": {},
   "outputs": [],
   "source": [
    "values = pd.Series(list(\"\".join(abbrs_counter.keys()))).value_counts()"
   ]
  },
  {
   "cell_type": "code",
   "execution_count": 539,
   "metadata": {},
   "outputs": [],
   "source": [
    "values = values.sort_index()"
   ]
  },
  {
   "cell_type": "code",
   "execution_count": 540,
   "metadata": {},
   "outputs": [
    {
     "data": {
      "text/plain": [
       "<matplotlib.axes._subplots.AxesSubplot at 0x7fec982972b0>"
      ]
     },
     "execution_count": 540,
     "metadata": {},
     "output_type": "execute_result"
    },
    {
     "data": {
      "image/png": "[encoded data removed]",
      "text/plain": [
       "<Figure size 720x360 with 1 Axes>"
      ]
     },
     "metadata": {
      "needs_background": "light"
     },
     "output_type": "display_data"
    }
   ],
   "source": [
    "plt.figure(figsize=(10, 5))\n",
    "sns.barplot(x=values.index, y=values.values)"
   ]
  },
  {
   "cell_type": "code",
   "execution_count": 55,
   "metadata": {},
   "outputs": [],
   "source": [
    "abbreviations_decodes = {\n",
    "    'АД': 'Артериальное давление',\n",
    "    'ПМЖА': 'Передняя межжелудочковая артерия',\n",
    "    'КАГ': 'Коронарная ангиография',\n",
    "    'ПКА': 'Правая коронарная артерия',\n",
    "    'ЭКГ': 'Электрокардиография',\n",
    "    'ИМ': 'Инфаркт миокарда',\n",
    "    'ОА': 'Огибающая артерия',\n",
    "    'ЛЖ': 'Левый желудок',\n",
    "    'ИБС': 'Ишемическая болезнь сердца',\n",
    "    'ГБ': 'Гипертоническая болезнь',\n",
    "    'РТСА': 'Перкутанная транслюминальная коронарная ангиопластика',\n",
    "    'ПКА': 'Правая коронарная артерия',\n",
    "    'СМП': 'Скорая медицинская помощь',\n",
    "    'ФВ': 'Фракция выброса',\n",
    "    'ОНМК': 'Острое нарушение мозгового кровообращения',\n",
    "    'ОИМ': 'Острый инфаркт миокарда',\n",
    "    'ДА': 'Диагональная артерия',\n",
    "    'ЭХОКГ': 'Эхокардиография',\n",
    "    'ОКС': 'Острый коронарный синдром',\n",
    "}"
   ]
  }
 ],
 "metadata": {
  "kernelspec": {
   "display_name": "cs102",
   "language": "python",
   "name": "cs102"
  },
  "language_info": {
   "codemirror_mode": {
    "name": "ipython",
    "version": 3
   },
   "file_extension": ".py",
   "mimetype": "text/x-python",
   "name": "python",
   "nbconvert_exporter": "python",
   "pygments_lexer": "ipython3",
   "version": "3.8.3"
  }
 },
 "nbformat": 4,
 "nbformat_minor": 4
}
