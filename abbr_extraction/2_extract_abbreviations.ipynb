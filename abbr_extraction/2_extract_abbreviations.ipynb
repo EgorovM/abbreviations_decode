{
 "cells": [
  {
   "cell_type": "markdown",
   "metadata": {},
   "source": [
    "# Извлечение аббревиатур\n",
    "\n",
    "Извлечение происходит двухэтапно:\n",
    "1. Сначала \"наивно\" достаются все аббревиатуры по следущим правилам:\n",
    "    + Если больше половины букв в слове - заглавные, то это аббревиатура\n",
    "    + Исключение это возможные инициалы сотрудинков (\"М.П.\", \"М.П\" и тп)\n",
    "    + Потом эти аббревиатуры чистятся - оставляем только буквы и знаки \"-\", \".\"\n",
    "\n",
    "2. Приводим аббревиатуры в одинаковый вид, разделяем аббревиатуры\n",
    "\n",
    "    После первого этапа остаются аббревиатуры, которые могут писаться несколькими способами - \"ЭХО-КГ\", \"ЭХОКГ\", а также \"слипленные\": \"ЛЖ.МР\" -> [\"ЛЖ\", \"МР\"].\n",
    "\n",
    "    Поэтому мы будем убирать знаки препинания и смотреть, есть ли такое слово в словаре достанным из текстов \"наивно\".\n",
    "    Если нет, то будем разделять по знакам препинания и смотреть, есть ли самостоятельная аббревиатура в словаре"
   ]
  },
  {
   "cell_type": "code",
   "execution_count": 30,
   "metadata": {},
   "outputs": [],
   "source": [
    "import pandas as pd\n",
    "import numpy as np\n",
    "import re"
   ]
  },
  {
   "cell_type": "code",
   "execution_count": 31,
   "metadata": {},
   "outputs": [],
   "source": [
    "with open('../data/all_anamnesises.txt') as f:\n",
    "    anamnesises = f.read().split('\\n\\t')"
   ]
  },
  {
   "cell_type": "code",
   "execution_count": 46,
   "metadata": {},
   "outputs": [],
   "source": [
    "def is_abbreviation(word):\n",
    "    \"\"\"\n",
    "    Будем считать аббревиатурами слова, половина букв которого - заглавные\n",
    "    \n",
    "    Уберем случаи, когда это может инициалы сотрудника\n",
    "    \"\"\"\n",
    "    \n",
    "    # убрать инициалы\n",
    "    if re.fullmatch(r'[A-ZА-Я]\\.[A-ZА-Я]\\.?', word):\n",
    "        return False\n",
    "    \n",
    "    upper_count = sum([l.isupper() for l in word])\n",
    "    \n",
    "    return upper_count > len(word) // 2 and len(word) > 1\n",
    "\n",
    "def clean_abbr(word):\n",
    "    \"\"\"\n",
    "    Убираем все символы кроме буквенных, точки и тире\n",
    "    \"\"\"\n",
    "    word = re.sub(r'[^A-ZА-Яа-я-a-z-\\.]', '', word)\n",
    "    \n",
    "    \n",
    "    while word[-1] in ['-', '.']:\n",
    "        word = word[:-1]\n",
    "        \n",
    "    while word[0] in ['-', '.']:\n",
    "        word = word[1:]\n",
    "        \n",
    "    return word.upper()\n",
    "\n",
    "# Первый этап\n",
    "def naive_extract_abbreviation(text):\n",
    "    text = text.replace(',', ' ')\n",
    "    abbrs = filter(lambda word: is_abbreviation(word), text.split())\n",
    "    abbrs = map(clean_abbr, abbrs)\n",
    "    \n",
    "    return list(abbrs)\n",
    "\n",
    "def split_abbreviations(abbr):\n",
    "    # Если без знаков препинания является аббревиатурой\n",
    "    # ЭХО-КГ -> ЭХОКГ\n",
    "    \n",
    "    if re.sub(r'[\\.|-]', '', abbr) in abbrs_counter:\n",
    "        return [re.sub(r'[\\.|-]', '', abbr)]\n",
    "    \n",
    "    items = re.split(r'[-\\.]', abbr)\n",
    "    \n",
    "    new_abbrs = []\n",
    "    found = False\n",
    "    \n",
    "    # TODO: ФЦИН.был -> [ФЦИН]\n",
    "    \n",
    "    for item in items:\n",
    "        if item in abbrs_counter:\n",
    "            new_abbrs.append(item)\n",
    "\n",
    "    if len(new_abbrs) > 0:\n",
    "        return new_abbrs\n",
    "\n",
    "    return [abbr]\n"
   ]
  },
  {
   "cell_type": "markdown",
   "metadata": {},
   "source": [
    "Посмотрим какие аббревиатуры были получены"
   ]
  },
  {
   "cell_type": "code",
   "execution_count": 33,
   "metadata": {},
   "outputs": [],
   "source": [
    "from collections import Counter"
   ]
  },
  {
   "cell_type": "code",
   "execution_count": 34,
   "metadata": {},
   "outputs": [],
   "source": [
    "abbrs_counter = Counter()\n",
    "\n",
    "for text in anamnesises:\n",
    "    abbrs_counter.update(naive_extract_abbreviation(text))"
   ]
  },
  {
   "cell_type": "code",
   "execution_count": 35,
   "metadata": {},
   "outputs": [
    {
     "data": {
      "text/plain": [
       "1025"
      ]
     },
     "execution_count": 35,
     "metadata": {},
     "output_type": "execute_result"
    }
   ],
   "source": [
    "len(abbrs_counter)"
   ]
  },
  {
   "cell_type": "code",
   "execution_count": 38,
   "metadata": {},
   "outputs": [
    {
     "data": {
      "text/plain": [
       "[('АД', 2637),\n",
       " ('ПМЖА', 1751),\n",
       " ('КАГ', 1647),\n",
       " ('ПКА', 1387),\n",
       " ('ЭКГ', 1279),\n",
       " ('ИМ', 1117),\n",
       " ('ЛЖ', 1017),\n",
       " ('ОА', 996),\n",
       " ('ИБС', 980),\n",
       " ('РТСА', 734),\n",
       " ('ГБ', 728),\n",
       " ('СМП', 693),\n",
       " ('ST', 688),\n",
       " ('ФМИЦ', 610),\n",
       " ('ФВ', 573),\n",
       " ('ОНМК', 572),\n",
       " ('ФЦСКЭ', 569),\n",
       " ('ЭХОКГ', 563),\n",
       " ('ОИМ', 518),\n",
       " ('ОКС', 486)]"
      ]
     },
     "execution_count": 38,
     "metadata": {},
     "output_type": "execute_result"
    }
   ],
   "source": [
    "abbrs_counter.most_common(20)"
   ]
  },
  {
   "cell_type": "code",
   "execution_count": 42,
   "metadata": {},
   "outputs": [
    {
     "data": {
      "text/plain": [
       "[('ЛЖ.НА', 1),\n",
       " ('НЕ', 1),\n",
       " ('ИВ', 1),\n",
       " ('КДРЛЖ', 1),\n",
       " ('ДД', 1),\n",
       " ('УИР', 1),\n",
       " ('КЦРБ', 1),\n",
       " ('Б-Б', 1),\n",
       " ('ТЭЭ', 1),\n",
       " ('РКГ', 1),\n",
       " ('КДОКОС', 1),\n",
       " ('ППТС', 1),\n",
       " ('РКБ', 1),\n",
       " ('ОДН', 1),\n",
       " ('ВК', 1),\n",
       " ('ТБС', 1),\n",
       " ('LCXIABC', 1),\n",
       " ('ОПЭ', 1),\n",
       " ('АА', 1),\n",
       " ('ЛСС', 1)]"
      ]
     },
     "execution_count": 42,
     "metadata": {},
     "output_type": "execute_result"
    }
   ],
   "source": [
    "abbrs_counter.most_common()[::-1][:20]"
   ]
  },
  {
   "cell_type": "markdown",
   "metadata": {},
   "source": [
    "Есть еще некоторые полные слова \"ЗАБОЛЕВАНИЯ\", \"ЖАЛОБЫ\", \"ДИАГНОЗ\""
   ]
  },
  {
   "cell_type": "code",
   "execution_count": 44,
   "metadata": {},
   "outputs": [],
   "source": [
    "class bcolors:\n",
    "    HEADER = '\\033[95m'\n",
    "    OKBLUE = '\\033[94m'\n",
    "    OKCYAN = '\\033[96m'\n",
    "    OKGREEN = '\\033[92m'\n",
    "    WARNING = '\\033[93m'\n",
    "    FAIL = '\\033[91m'\n",
    "    ENDC = '\\033[0m'\n",
    "    BOLD = '\\033[1m'\n",
    "    UNDERLINE = '\\033[4m'"
   ]
  },
  {
   "cell_type": "code",
   "execution_count": 45,
   "metadata": {},
   "outputs": [],
   "source": [
    "# Вспомогательные функции\n",
    "\n",
    "def find_text_with_abbr(abbr, to_print=False):\n",
    "    for text in anamnesises:\n",
    "        if abbr in naive_extract_abbreviation(text):\n",
    "            if to_print:\n",
    "                text = text.replace(abbr, bcolors.FAIL + abbr + bcolors.ENDC)\n",
    "                print(text)\n",
    "            \n",
    "            return text\n",
    "        \n",
    "def find_text_with_chars(abbr):\n",
    "    for text in anamnesises:\n",
    "        if abbr in text:\n",
    "            return text"
   ]
  },
  {
   "cell_type": "code",
   "execution_count": 47,
   "metadata": {},
   "outputs": [],
   "source": [
    "# Второй этап: разделение и приведение к одному виду аббревиатур\n",
    "\n",
    "def extract_abbreviation_from_text(text):\n",
    "    abbreviations = naive_extract_abbreviation(text)\n",
    "    items = []\n",
    "    \n",
    "    for abbr in abbreviations:\n",
    "        items.extend(split_abbreviations(abbr))\n",
    "    \n",
    "    return items"
   ]
  },
  {
   "cell_type": "code",
   "execution_count": 49,
   "metadata": {},
   "outputs": [
    {
     "data": {
      "text/plain": [
       "['ЗМЖВ', 'ПКА', 'ЭХОКГ', 'ЭХОКГ']"
      ]
     },
     "execution_count": 49,
     "metadata": {},
     "output_type": "execute_result"
    }
   ],
   "source": [
    "extract_abbreviation_from_text('ЗМЖВ-ПКА ЭХОКГ ЭХО-КГ')"
   ]
  },
  {
   "cell_type": "markdown",
   "metadata": {},
   "source": [
    "Посмотрим сколько всего аббревиатур сейчас получится"
   ]
  },
  {
   "cell_type": "code",
   "execution_count": 50,
   "metadata": {},
   "outputs": [],
   "source": [
    "abbrs_counter_q = Counter()\n",
    "\n",
    "for text in anamnesises:\n",
    "    abbrs_counter_q.update(extract_abbreviation_from_text(text))"
   ]
  },
  {
   "cell_type": "code",
   "execution_count": 51,
   "metadata": {},
   "outputs": [
    {
     "data": {
      "text/plain": [
       "920"
      ]
     },
     "execution_count": 51,
     "metadata": {},
     "output_type": "execute_result"
    }
   ],
   "source": [
    "len(abbrs_counter_q)"
   ]
  },
  {
   "cell_type": "markdown",
   "metadata": {},
   "source": [
    "Уменьшилось на 100 аббревиатур: исчезли слипленные единичные аббревиатуры и были приведены к одному виду некоторые аббревиатуры"
   ]
  },
  {
   "cell_type": "markdown",
   "metadata": {},
   "source": [
    "## Сокращения, не написанные заглавными буквами"
   ]
  },
  {
   "cell_type": "markdown",
   "metadata": {},
   "source": [
    "(Пока не доделано)"
   ]
  },
  {
   "cell_type": "code",
   "execution_count": 52,
   "metadata": {},
   "outputs": [],
   "source": [
    "def can_be_sokr_by_sep(word, sep='.'):\n",
    "    if sep in word:\n",
    "        return all([can_be_sokr_by_sep(subword, sep) for subword in word.split(sep)])\n",
    "    \n",
    "    if len(word) == 0:\n",
    "        return True\n",
    "    \n",
    "    if word[-1] in ['а', 'у', 'о', 'ы', 'и', 'э', 'я', 'ю', 'ё', 'е']:\n",
    "        if len(word) == 1:\n",
    "            return True\n",
    "    else:\n",
    "        if len(word) <= 3:\n",
    "            return True\n",
    "        \n",
    "    return False"
   ]
  },
  {
   "cell_type": "code",
   "execution_count": 53,
   "metadata": {},
   "outputs": [],
   "source": [
    "right_sokr = set()\n",
    "\n",
    "for text in anamnesises:\n",
    "    for word in text.split():\n",
    "        if re.findall(r'\\d', word) or re.fullmatch(r'[А-Я]\\.[А-Я].?', word):\n",
    "            continue\n",
    "            \n",
    "        if not re.findall(r'[A-ZА-Яa-zа-я]+[\\.|/][A-ZА-Яa-zа-я]+[\\.|/]*', word):\n",
    "            continue\n",
    "            \n",
    "        if ('.' in word or '/' in word) and (can_be_sokr_by_sep(word, '.') or can_be_sokr_by_sep(word, '/')) and not is_abbreviation(word):\n",
    "            right_sokr.add(word)"
   ]
  },
  {
   "cell_type": "markdown",
   "metadata": {},
   "source": [
    "## Визуализация"
   ]
  },
  {
   "cell_type": "code",
   "execution_count": 22,
   "metadata": {},
   "outputs": [],
   "source": [
    "import seaborn as sns\n",
    "import matplotlib.pyplot as plt"
   ]
  },
  {
   "cell_type": "code",
   "execution_count": 538,
   "metadata": {},
   "outputs": [],
   "source": [
    "values = pd.Series(list(\"\".join(abbrs_counter.keys()))).value_counts()"
   ]
  },
  {
   "cell_type": "code",
   "execution_count": 539,
   "metadata": {},
   "outputs": [],
   "source": [
    "values = values.sort_index()"
   ]
  },
  {
   "cell_type": "code",
   "execution_count": 540,
   "metadata": {},
   "outputs": [
    {
     "data": {
      "text/plain": [
       "<matplotlib.axes._subplots.AxesSubplot at 0x7fec982972b0>"
      ]
     },
     "execution_count": 540,
     "metadata": {},
     "output_type": "execute_result"
    },
    {
     "data": {
      "image/png": "[encoded data removed]",
      "text/plain": [
       "<Figure size 720x360 with 1 Axes>"
      ]
     },
     "metadata": {
      "needs_background": "light"
     },
     "output_type": "display_data"
    }
   ],
   "source": [
    "plt.figure(figsize=(10, 5))\n",
    "sns.barplot(x=values.index, y=values.values)"
   ]
  },
  {
   "cell_type": "code",
   "execution_count": 55,
   "metadata": {},
   "outputs": [],
   "source": [
    "abbreviations_decodes = {\n",
    "    'АД': 'Артериальное давление',\n",
    "    'ПМЖА': 'Передняя межжелудочковая артерия',\n",
    "    'КАГ': 'Коронарная ангиография',\n",
    "    'ПКА': 'Правая коронарная артерия',\n",
    "    'ЭКГ': 'Электрокардиография',\n",
    "    'ИМ': 'Инфаркт миокарда',\n",
    "    'ОА': 'Огибающая артерия',\n",
    "    'ЛЖ': 'Левый желудок',\n",
    "    'ИБС': 'Ишемическая болезнь сердца',\n",
    "    'ГБ': 'Гипертоническая болезнь',\n",
    "    'РТСА': 'Перкутанная транслюминальная коронарная ангиопластика',\n",
    "    'ПКА': 'Правая коронарная артерия',\n",
    "    'СМП': 'Скорая медицинская помощь',\n",
    "    'ФВ': 'Фракция выброса',\n",
    "    'ОНМК': 'Острое нарушение мозгового кровообращения',\n",
    "    'ОИМ': 'Острый инфаркт миокарда',\n",
    "    'ДА': 'Диагональная артерия',\n",
    "    'ЭХОКГ': 'Эхокардиография',\n",
    "    'ОКС': 'Острый коронарный синдром',\n",
    "}"
   ]
  }
 ],
 "metadata": {
  "kernelspec": {
   "display_name": "cs102",
   "language": "python",
   "name": "cs102"
  },
  "language_info": {
   "codemirror_mode": {
    "name": "ipython",
    "version": 3
   },
   "file_extension": ".py",
   "mimetype": "text/x-python",
   "name": "python",
   "nbconvert_exporter": "python",
   "pygments_lexer": "ipython3",
   "version": "3.8.3"
  }
 },
 "nbformat": 4,
 "nbformat_minor": 4
}
