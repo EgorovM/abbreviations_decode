{
 "cells": [
  {
   "cell_type": "code",
   "execution_count": 35,
   "id": "dcda9aca-47a2-440e-983b-ab6a46cd533e",
   "metadata": {},
   "outputs": [],
   "source": [
    "import re\n",
    "\n",
    "import pandas as pd\n",
    "import numpy as np\n",
    "\n",
    "from tqdm.notebook import tqdm\n",
    "tqdm.pandas()"
   ]
  },
  {
   "cell_type": "code",
   "execution_count": 42,
   "id": "67b443e6-1d51-437e-bdd2-7369818b8b9f",
   "metadata": {},
   "outputs": [],
   "source": [
    "df = pd.read_csv('../data/abbr_term.csv', sep='\\t')"
   ]
  },
  {
   "cell_type": "code",
   "execution_count": 43,
   "id": "af634da9-f8e6-4562-a6f9-702d20b26ba9",
   "metadata": {},
   "outputs": [],
   "source": [
    "from abbr_decoder import AbbreviationDecoder\n",
    "\n",
    "\n",
    "def load_extractor():\n",
    "    import sys\n",
    "  \n",
    "    # setting path\n",
    "    sys.path.append('../abbr_extraction/')\n",
    "    \n",
    "    from abbreviation_extractor import load_extractor\n",
    "    \n",
    "    sys.path.append('../abbr_decoding/')\n",
    "    \n",
    "    return load_extractor()"
   ]
  },
  {
   "cell_type": "code",
   "execution_count": 44,
   "id": "d7007980-c917-4869-957e-983be1974568",
   "metadata": {},
   "outputs": [],
   "source": [
    "decoder = AbbreviationDecoder()\n",
    "extractor = load_extractor()"
   ]
  },
  {
   "cell_type": "code",
   "execution_count": 55,
   "id": "76195280-1adc-4ac8-a737-c607390694d3",
   "metadata": {},
   "outputs": [],
   "source": [
    "abbr2term = {abbr.lower(): term for abbr, term in df[['abbreviation', 'term']].iloc if not pd.isna(abbr)}"
   ]
  },
  {
   "cell_type": "code",
   "execution_count": 58,
   "id": "8dfa2dc7-d1da-4d08-86e4-540eb6e2cf2e",
   "metadata": {},
   "outputs": [],
   "source": [
    "abbr2term['ад'] = 'артериальное давление'"
   ]
  },
  {
   "cell_type": "code",
   "execution_count": 61,
   "id": "a50c29d0-9c5b-4e39-bab1-077f6b71d09a",
   "metadata": {},
   "outputs": [],
   "source": [
    "resolved_pairs = {}\n",
    "\n",
    "def resolve_abbreviations(text, window=5):\n",
    "    new_text = []\n",
    "    words = text.split() + [''] * window\n",
    "    current_context = [''] * window + words[:window]\n",
    "    \n",
    "    for i in range(window, len(words)):\n",
    "        word = current_context[window]\n",
    "        \n",
    "        if extractor.is_abbreviation(word) and extractor._abbr_predictor.predict(word):\n",
    "            resolved = decoder.predict(word, ' '.join(current_context))[0]\n",
    "            couldnt_find = (resolved == word)\n",
    "            \n",
    "            if couldnt_find:\n",
    "                clean_word = re.sub('[^а-яА-Яa-zA-Z]', '', word)\n",
    "                resolved = abbr2term.get(clean_word.lower(), word)\n",
    "                \n",
    "            resolved_pairs[word] = (resolved, couldnt_find)\n",
    "            \n",
    "            current_context[window] = resolved\n",
    "            \n",
    "        new_text.append(current_context.pop(0))\n",
    "        current_context.append(words[i])\n",
    "    \n",
    "    new_text.extend(current_context)\n",
    "    return \" \".join(new_text).strip()"
   ]
  },
  {
   "cell_type": "code",
   "execution_count": 62,
   "id": "099334a8-3942-4589-a00a-bb2160ddd95d",
   "metadata": {},
   "outputs": [],
   "source": [
    "text = 'Постепенное расширение пищевого рациона с увеличением объема жидкой пищи и овощей. Избегать жирной, острой пищи Есть до 6 раз в день мелкими порциями Наблюдение кардиолога и гастроэнтеролога ПРОДОЛЖИТЬ ПОСТОЯННЫЙ ПРИЕМ:  ДИОВАН 80 МГ УТРОМ И ВЕЧЕРОМ ДИЛАТРЕНД 6,25 МГ УТРОМ И ВЕЧЕРОМ АРИФОН-РЕТАРД 1,5 МГ УТРОМ   ПАРИЕТ 20 МГ ЗА 30 МИНУТ ДО ЗАВТРАКА 1 НЕДЕЛЮ, ЗАТЕМ ПО 10 МГ ЗА 30 МИНУТ ДО ЗАВТРАКА 2 МЕСЯЦА  ДЕ-НОЛ ЧЕРЕЗ 1 ЧАС ПОСЛЕ ЗАВТРАКА, ОБЕДА, УЖИНА И НА НОЧЬ 1 МЕСЯЦ  КРЕОН 10000 ЕД В КАЖДЫЙ ПРИЕМ ПИЩИ, А ЕСЛИ УПОТРЕБЛЯЕТСЯ БЕЛКОВАЯ ПИЩА (МЯСО, РЫБА, ТВОРОГ, ЯЙЦО), ТО 25000 ЕД (СУММАРНО ЗА СУТКИ 80000-100000 ЕД)  ПРИ ВЗДУТИИ ЖИВОТА ПЕКСАН-R  '"
   ]
  },
  {
   "cell_type": "code",
   "execution_count": 63,
   "id": "112bbd02-cf1d-4aaf-a38e-9d4dcb86195e",
   "metadata": {},
   "outputs": [
    {
     "data": {
      "text/plain": [
       "'Постепенное расширение пищевого рациона с увеличением объема жидкой пищи и овощей. Избегать жирной, острой пищи Есть до 6 раз в день мелкими порциями Наблюдение кардиолога и гастроэнтеролога ПРОДОЛЖИТЬ ПОСТОЯННЫЙ ПРИЕМ: ДИОВАН 80 миллиграмм УТРОМ И ВЕЧЕРОМ ДИЛАТРЕНД 6,25 миллиграмм УТРОМ И ВЕЧЕРОМ АРИФОН-РЕТАРД 1,5 миллиграмм УТРОМ ПАРИЕТ 20 миллиграмм ЗА 30 МИНУТ ДО ЗАВТРАКА 1 НЕДЕЛЮ, ЗАТЕМ ПО 10 миллиграмм ЗА 30 МИНУТ ДО ЗАВТРАКА 2 МЕСЯЦА ДЕ-НОЛ ЧЕРЕЗ 1 ЧАС ПОСЛЕ ЗАВТРАКА, ОБЕДА, УЖИНА И НА НОЧЬ 1 МЕСЯЦ КРЕОН 10000 единицы В КАЖДЫЙ ПРИЕМ ПИЩИ, А ЕСЛИ УПОТРЕБЛЯЕТСЯ БЕЛКОВАЯ ПИЩА (МЯСО, РЫБА, ТВОРОГ, ЯЙЦО), ТО 25000 единицы (СУММАРНО ЗА СУТКИ 80000-100000 единицы ПРИ ВЗДУТИИ ЖИВОТА ПЕКСАН-R'"
      ]
     },
     "execution_count": 63,
     "metadata": {},
     "output_type": "execute_result"
    }
   ],
   "source": [
    "resolve_abbreviations(text)"
   ]
  },
  {
   "cell_type": "markdown",
   "id": "aa39af48-4828-4bbb-a649-6ae3950bfbeb",
   "metadata": {},
   "source": [
    "## Evaulation"
   ]
  },
  {
   "cell_type": "code",
   "execution_count": 64,
   "id": "f84ceaf1-37a3-406c-8156-0b479403b73d",
   "metadata": {},
   "outputs": [],
   "source": [
    "anamnesises_df = pd.read_csv(\n",
    "    '../../ISC_Analys/all_anamnesises.txt', \n",
    "    encoding='cp1251', \n",
    "    sep='\\t', \n",
    "    usecols=['Diagnosis', 'RecordEMC']\n",
    ").dropna()"
   ]
  },
  {
   "cell_type": "code",
   "execution_count": 65,
   "id": "856ebee1-f78e-4638-8bfb-7463f8b41202",
   "metadata": {},
   "outputs": [],
   "source": [
    "anamnesises_df['Letter'] = anamnesises_df.Diagnosis.str[0]"
   ]
  },
  {
   "cell_type": "code",
   "execution_count": 66,
   "id": "6874276a-f03f-4312-adf5-21c6438a74a2",
   "metadata": {},
   "outputs": [],
   "source": [
    "def clear_tag(text):\n",
    "    return re.sub('<[^>]*>', ' ', text)"
   ]
  },
  {
   "cell_type": "code",
   "execution_count": 67,
   "id": "0e72a5a7-d36f-40c4-8b5e-e21f103f420f",
   "metadata": {},
   "outputs": [],
   "source": [
    "anamnesises_df.RecordEMC = anamnesises_df.RecordEMC.map(clear_tag)"
   ]
  },
  {
   "cell_type": "code",
   "execution_count": 68,
   "id": "573266e7-1036-4539-b277-bb0667220566",
   "metadata": {},
   "outputs": [
    {
     "data": {
      "application/vnd.jupyter.widget-view+json": {
       "model_id": "f077b6c4299246539d354433a4f212c9",
       "version_major": 2,
       "version_minor": 0
      },
      "text/plain": [
       "  0%|          | 0/7006 [00:00<?, ?it/s]"
      ]
     },
     "metadata": {},
     "output_type": "display_data"
    }
   ],
   "source": [
    "anamnesises_df['RecordResolvedAbbreviations'] = anamnesises_df.RecordEMC.progress_apply(resolve_abbreviations)"
   ]
  },
  {
   "cell_type": "code",
   "execution_count": 69,
   "id": "a2b79d1f-3d77-47c3-8066-dfe35424e454",
   "metadata": {},
   "outputs": [],
   "source": [
    "from normalizer import normalize_sentences"
   ]
  },
  {
   "cell_type": "code",
   "execution_count": 70,
   "id": "7c44c1db-d571-4933-b541-d9a8e76d03ea",
   "metadata": {},
   "outputs": [],
   "source": [
    "from sklearn.metrics import f1_score\n",
    "from sklearn.model_selection import train_test_split\n",
    "from sklearn.linear_model import LogisticRegression\n",
    "from sklearn.feature_extraction.text import TfidfVectorizer"
   ]
  },
  {
   "cell_type": "code",
   "execution_count": 71,
   "id": "9ed7019e-449b-40af-85d8-1354864c16fa",
   "metadata": {},
   "outputs": [],
   "source": [
    "abbrs = set(pd.read_csv('../data/abbr_term.csv', sep='\\t')['abbreviation'])"
   ]
  },
  {
   "cell_type": "code",
   "execution_count": 72,
   "id": "053355ac-79de-4035-b983-7ccb72219db0",
   "metadata": {},
   "outputs": [],
   "source": [
    "normalized_abbrs_text = normalize_sentences(anamnesises_df.RecordResolvedAbbreviations, except_words=abbrs)"
   ]
  },
  {
   "cell_type": "code",
   "execution_count": 73,
   "id": "672aab31-4c64-44cb-95db-5de01cd1d112",
   "metadata": {},
   "outputs": [],
   "source": [
    "normalized_text = normalize_sentences(anamnesises_df.RecordEMC, except_words=abbrs)"
   ]
  },
  {
   "cell_type": "code",
   "execution_count": 74,
   "id": "9b9491ed-9035-427c-8b53-bbe0cad473a0",
   "metadata": {},
   "outputs": [],
   "source": [
    "norm_abbr = [\" \".join([\" \".join(word) for word in text]) for text in normalized_abbrs_text]\n",
    "norm_text = [\" \".join([\" \".join(word) for word in text]) for text in normalized_text]"
   ]
  },
  {
   "cell_type": "code",
   "execution_count": 75,
   "id": "8f4f9931-7d65-4863-8fb1-67fa88d672ac",
   "metadata": {},
   "outputs": [
    {
     "data": {
      "text/plain": [
       "'    Пациент был госпитализирован с клиникой нестабильной стенокардии, прогрессирующей стенокардии с 20.03.08г., на фоне дислипидемии, сахарного диабета, курения. Из анамнеза известно, что впервые боли в грудной клетке возникли в январе 2008г., лечился в стационаре по месту жительства, отмечал некоторую стабилизацию состояния, но с 20.03.08г. вновь рецидивировали приступы ангинозных болей, снизилась толерантность к физ. нагрузкам, обратился в ФГУ ФЦСКЭ: 01.04.08г.- проведена коронарография, выявлен: эксцентричный стеноз до субокклюзии с признаками интракоронарного тромбоза в огибающей артерии. Одномоментно проведена операция коронарной ангиопластики со стентированием огибающей артерии (стент braun melsungen). В дальнейшем, состояние пациента оставалось стабильным, ангинозные боли не рецидивировали. Ежегодно проводилось обследование: стрессЭХОКГ ежегодно тесты отрицательные. Клиники стенокардии не описывает. Несколько нарастает одышка при большой ФН. По данным стрессЭХОКГ мощность 13,5 МЕТ, гипокинезия базальных сегм нижней и задней ст. после нагрузки- бех ухудшений регионар. сократимости, ЧСС макс 137 в мин    '"
      ]
     },
     "execution_count": 75,
     "metadata": {},
     "output_type": "execute_result"
    }
   ],
   "source": [
    "anamnesises_df.RecordEMC.iloc[2]"
   ]
  },
  {
   "cell_type": "code",
   "execution_count": 76,
   "id": "5e865ead-f9d0-4e85-b5b2-7a349845f6fd",
   "metadata": {},
   "outputs": [
    {
     "data": {
      "text/plain": [
       "'Пациент был госпитализирован с клиникой нестабильной стенокардии, прогрессирующей стенокардии с 20.03.08г., на фоне дислипидемии, сахарного диабета, курения. Из анамнеза известно, что впервые боли в грудной клетке возникли в январе 2008г., лечился в стационаре по месту жительства, отмечал некоторую стабилизацию состояния, но с 20.03.08г. вновь рецидивировали приступы ангинозных болей, снизилась толерантность к физ. нагрузкам, обратился в ФГУ ФЦСКЭ: 01.04.08г.- проведена коронарография, выявлен: эксцентричный стеноз до субокклюзии с признаками интракоронарного тромбоза в огибающей артерии. Одномоментно проведена операция коронарной ангиопластики со стентированием огибающей артерии (стент braun melsungen). В дальнейшем, состояние пациента оставалось стабильным, ангинозные боли не рецидивировали. Ежегодно проводилось обследование: стрессЭХОКГ ежегодно тесты отрицательные. Клиники стенокардии не описывает. Несколько нарастает одышка при большой фебрильная нейтропения По данным стрессЭХОКГ мощность 13,5 МЕТ, гипокинезия базальных сегм нижней и задней ст. после нагрузки- бех ухудшений регионар. сократимости, ЧСС макс 137 в мин'"
      ]
     },
     "execution_count": 76,
     "metadata": {},
     "output_type": "execute_result"
    }
   ],
   "source": [
    "anamnesises_df.RecordResolvedAbbreviations.iloc[2]"
   ]
  },
  {
   "cell_type": "code",
   "execution_count": 77,
   "id": "6ffa451c-336e-4d9c-b47e-f4bb85b0b629",
   "metadata": {},
   "outputs": [],
   "source": [
    "abbr_vectorizer = TfidfVectorizer(max_features=400)\n",
    "features_abbr = abbr_vectorizer.fit_transform(norm_abbr)\n",
    "\n",
    "text_vectorizer = TfidfVectorizer(max_features=400)\n",
    "features_text = text_vectorizer.fit_transform(norm_text)"
   ]
  },
  {
   "cell_type": "code",
   "execution_count": 78,
   "id": "489e4aba-08b3-4d87-8b42-2ef9c5fa3b69",
   "metadata": {},
   "outputs": [],
   "source": [
    "X_train_abbr, X_test_abbr, X_train_text, X_test_text, y_train, y_test = train_test_split(\n",
    "    features_abbr,\n",
    "    features_text,\n",
    "    anamnesises_df['Letter'],\n",
    "    test_size=0.3,\n",
    "    random_state=42\n",
    ")"
   ]
  },
  {
   "cell_type": "code",
   "execution_count": 79,
   "id": "aa3988af-027d-4619-9924-dd8254553055",
   "metadata": {},
   "outputs": [],
   "source": [
    "def evalulate_model(X_train, X_test):\n",
    "    clf = LogisticRegression()\n",
    "    clf.fit(X_train, y_train)\n",
    "    \n",
    "    y_pred = clf.predict(X_test)\n",
    "    print('f1_score:', f1_score(y_pred, y_test, average='weighted'))\n",
    "    print('accuracy:', clf.score(X_test, y_test))"
   ]
  },
  {
   "cell_type": "code",
   "execution_count": 80,
   "id": "126b7210-f4bb-478b-a11d-26cce5e22d97",
   "metadata": {},
   "outputs": [
    {
     "name": "stdout",
     "output_type": "stream",
     "text": [
      "f1_score: 0.8755635750532718\n",
      "accuracy: 0.8158896289248335\n"
     ]
    }
   ],
   "source": [
    "evalulate_model(X_train_abbr, X_test_abbr)"
   ]
  },
  {
   "cell_type": "code",
   "execution_count": 81,
   "id": "c8fea716-62d3-49d5-bb0b-6d5aa97de59a",
   "metadata": {},
   "outputs": [
    {
     "name": "stdout",
     "output_type": "stream",
     "text": [
      "f1_score: 0.8762913924083476\n",
      "accuracy: 0.8168411037107517\n"
     ]
    }
   ],
   "source": [
    "evalulate_model(X_train_text, X_test_text)"
   ]
  },
  {
   "cell_type": "markdown",
   "id": "dfbed64e-8d33-4019-9848-a8330863abe6",
   "metadata": {},
   "source": [
    "- Классификатор на текстах клиинческих рекомендаций - код мкб, заболевание"
   ]
  },
  {
   "cell_type": "code",
   "execution_count": 84,
   "id": "620b808b-b3c2-40eb-930f-0523f4dfd9bf",
   "metadata": {},
   "outputs": [
    {
     "data": {
      "text/plain": [
       "2062"
      ]
     },
     "execution_count": 84,
     "metadata": {},
     "output_type": "execute_result"
    }
   ],
   "source": [
    "len(resolved_pairs)"
   ]
  }
 ],
 "metadata": {
  "kernelspec": {
   "display_name": "Python 3 (ipykernel)",
   "language": "python",
   "name": "python3"
  },
  "language_info": {
   "codemirror_mode": {
    "name": "ipython",
    "version": 3
   },
   "file_extension": ".py",
   "mimetype": "text/x-python",
   "name": "python",
   "nbconvert_exporter": "python",
   "pygments_lexer": "ipython3",
   "version": "3.8.2"
  }
 },
 "nbformat": 4,
 "nbformat_minor": 5
}
