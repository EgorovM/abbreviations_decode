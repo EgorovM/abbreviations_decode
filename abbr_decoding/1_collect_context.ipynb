{
 "cells": [
  {
   "cell_type": "code",
   "execution_count": 43,
   "id": "05478363-f25e-45df-99cc-3bf494e4f685",
   "metadata": {},
   "outputs": [],
   "source": [
    "import pandas as pd\n",
    "import re\n",
    "\n",
    "from tqdm.notebook import tqdm\n",
    "tqdm.pandas()"
   ]
  },
  {
   "cell_type": "code",
   "execution_count": 23,
   "id": "d05609eb-44b4-4e50-9ac2-26c21d5865b5",
   "metadata": {},
   "outputs": [],
   "source": [
    "abbr_term = pd.read_csv('../abbr_parsing/abbr_term.csv', sep='\\t')"
   ]
  },
  {
   "cell_type": "code",
   "execution_count": 24,
   "id": "27aec218-12fa-4613-8a35-04fab7b50109",
   "metadata": {},
   "outputs": [],
   "source": [
    "records_df = pd.read_csv('../data/I10_anamnesis.csv', sep='\\t',)"
   ]
  },
  {
   "cell_type": "code",
   "execution_count": 25,
   "id": "2c74f763-9234-4e0b-a487-1fc2d9007c5a",
   "metadata": {},
   "outputs": [],
   "source": [
    "def extract_term_context(term, text, window=5):\n",
    "    # term = term.lower()\n",
    "    # text = text.lower()\n",
    "    \n",
    "    term_splited = term.split()\n",
    "    term_length = len(term_splited)\n",
    "    \n",
    "    context_list = []\n",
    "    \n",
    "    words = text.split()\n",
    "    \n",
    "    context_size = window*2 + term_length + term_length % 2\n",
    "    current_context = [word for word in words[:context_size]]\n",
    "\n",
    "    if all(word in context_list for word in term.split()):\n",
    "        context_list.append(\" \".join(current_context))\n",
    "    \n",
    "    for word in words[context_size:]:\n",
    "        term_slice = slice(window - term_length // 2, window + term_length // 2 + int(term_length % 2 != 0))\n",
    "        \n",
    "        if current_context[term_slice] == term_splited:\n",
    "            context_list.append(\" \".join(current_context))\n",
    "        \n",
    "        current_context.append(word)\n",
    "        del current_context[0]\n",
    "    \n",
    "    if all(word in context_list for word in term.split()):\n",
    "        context_list.append(\" \".join(current_context))\n",
    "    \n",
    "    return context_list"
   ]
  },
  {
   "cell_type": "code",
   "execution_count": 26,
   "id": "afe17a0a-9374-49a1-9c29-3ef44dc43ce9",
   "metadata": {},
   "outputs": [],
   "source": [
    "all_words = frozenset(word.lower() for text in records_df['RecordEMC'] for word in text.split())"
   ]
  },
  {
   "cell_type": "code",
   "execution_count": null,
   "id": "dc41758e-37dc-492a-afd6-82035d730294",
   "metadata": {
    "tags": []
   },
   "outputs": [
    {
     "data": {
      "application/vnd.jupyter.widget-view+json": {
       "model_id": "bd1cd7a776614be590e9e3237e879a94",
       "version_major": 2,
       "version_minor": 0
      },
      "text/plain": [
       "  0%|          | 0/7242 [00:00<?, ?it/s]"
      ]
     },
     "metadata": {},
     "output_type": "display_data"
    }
   ],
   "source": [
    "term_df = pd.DataFrame()\n",
    "\n",
    "for term in tqdm(abbr_term.term.dropna()):\n",
    "    if all(word in all_words for word in term.split()):\n",
    "        context_list = records_df.RecordEMC.apply(lambda text: extract_term_context(term, text))\n",
    "        event_context = [\n",
    "            (event, context) \n",
    "            for event, context in zip(records_df.MedicalProcessEventCode, context_list)\n",
    "            if len(context) > 0\n",
    "        ]\n",
    "        \n",
    "        term_df = term_df.append(pd.DataFrame({\n",
    "            'term': [term] * len(event_context),\n",
    "            'event_code': [event for event, _ in event_context],\n",
    "            'context': [context for _, context in event_context],\n",
    "        }))\n",
    "        \n",
    "term_df = term_df.reset_index(drop=True)"
   ]
  },
  {
   "cell_type": "code",
   "execution_count": 52,
   "id": "8326fa69-3424-4939-8133-38b03d9cdab5",
   "metadata": {},
   "outputs": [
    {
     "data": {
      "text/plain": [
       "(0, 3)"
      ]
     },
     "execution_count": 52,
     "metadata": {},
     "output_type": "execute_result"
    }
   ],
   "source": [
    "term_df.shape"
   ]
  },
  {
   "cell_type": "code",
   "execution_count": 63,
   "id": "10fa2487-0753-43bf-9ed7-5cc4bd11cfe4",
   "metadata": {},
   "outputs": [],
   "source": [
    "term_context = term_df.explode('context')"
   ]
  },
  {
   "cell_type": "code",
   "execution_count": 80,
   "id": "b2f6221a-c31a-4552-985e-2495db9aa705",
   "metadata": {},
   "outputs": [
    {
     "data": {
      "text/html": [
       "<div>\n",
       "<style scoped>\n",
       "    .dataframe tbody tr th:only-of-type {\n",
       "        vertical-align: middle;\n",
       "    }\n",
       "\n",
       "    .dataframe tbody tr th {\n",
       "        vertical-align: top;\n",
       "    }\n",
       "\n",
       "    .dataframe thead th {\n",
       "        text-align: right;\n",
       "    }\n",
       "</style>\n",
       "<table border=\"1\" class=\"dataframe\">\n",
       "  <thead>\n",
       "    <tr style=\"text-align: right;\">\n",
       "      <th></th>\n",
       "      <th>name</th>\n",
       "      <th>mkb_code</th>\n",
       "      <th>start_year</th>\n",
       "      <th>age_category</th>\n",
       "      <th>end_year</th>\n",
       "      <th>id</th>\n",
       "      <th>abbreviation</th>\n",
       "      <th>term</th>\n",
       "    </tr>\n",
       "  </thead>\n",
       "  <tbody>\n",
       "    <tr>\n",
       "      <th>0</th>\n",
       "      <td>Рак печени (гепатоцеллюлярный)</td>\n",
       "      <td>C22.0</td>\n",
       "      <td>2020</td>\n",
       "      <td>Взрослые</td>\n",
       "      <td>2022.0</td>\n",
       "      <td>1</td>\n",
       "      <td>АЛТ</td>\n",
       "      <td>аланинаминотрансфераза</td>\n",
       "    </tr>\n",
       "    <tr>\n",
       "      <th>1</th>\n",
       "      <td>Рак печени (гепатоцеллюлярный)</td>\n",
       "      <td>C22.0</td>\n",
       "      <td>2020</td>\n",
       "      <td>Взрослые</td>\n",
       "      <td>2022.0</td>\n",
       "      <td>1</td>\n",
       "      <td>АСТ</td>\n",
       "      <td>аспартатаминотрансфераза</td>\n",
       "    </tr>\n",
       "    <tr>\n",
       "      <th>2</th>\n",
       "      <td>Рак печени (гепатоцеллюлярный)</td>\n",
       "      <td>C22.0</td>\n",
       "      <td>2020</td>\n",
       "      <td>Взрослые</td>\n",
       "      <td>2022.0</td>\n",
       "      <td>1</td>\n",
       "      <td>АФП</td>\n",
       "      <td>альфа-фетопротеин</td>\n",
       "    </tr>\n",
       "    <tr>\n",
       "      <th>3</th>\n",
       "      <td>Рак печени (гепатоцеллюлярный)</td>\n",
       "      <td>C22.0</td>\n",
       "      <td>2020</td>\n",
       "      <td>Взрослые</td>\n",
       "      <td>2022.0</td>\n",
       "      <td>1</td>\n",
       "      <td>ГЦР</td>\n",
       "      <td>гепатоцеллюлярный рак</td>\n",
       "    </tr>\n",
       "    <tr>\n",
       "      <th>4</th>\n",
       "      <td>Рак печени (гепатоцеллюлярный)</td>\n",
       "      <td>C22.0</td>\n",
       "      <td>2020</td>\n",
       "      <td>Взрослые</td>\n",
       "      <td>2022.0</td>\n",
       "      <td>1</td>\n",
       "      <td>КТ</td>\n",
       "      <td>компьютерная томография</td>\n",
       "    </tr>\n",
       "  </tbody>\n",
       "</table>\n",
       "</div>"
      ],
      "text/plain": [
       "                             name mkb_code start_year age_category  end_year  \\\n",
       "0  Рак печени (гепатоцеллюлярный)    C22.0       2020     Взрослые    2022.0   \n",
       "1  Рак печени (гепатоцеллюлярный)    C22.0       2020     Взрослые    2022.0   \n",
       "2  Рак печени (гепатоцеллюлярный)    C22.0       2020     Взрослые    2022.0   \n",
       "3  Рак печени (гепатоцеллюлярный)    C22.0       2020     Взрослые    2022.0   \n",
       "4  Рак печени (гепатоцеллюлярный)    C22.0       2020     Взрослые    2022.0   \n",
       "\n",
       "   id abbreviation                      term  \n",
       "0   1          АЛТ    аланинаминотрансфераза  \n",
       "1   1          АСТ  аспартатаминотрансфераза  \n",
       "2   1          АФП         альфа-фетопротеин  \n",
       "3   1          ГЦР     гепатоцеллюлярный рак  \n",
       "4   1           КТ   компьютерная томография  "
      ]
     },
     "execution_count": 80,
     "metadata": {},
     "output_type": "execute_result"
    }
   ],
   "source": [
    "abbr_term.head()"
   ]
  },
  {
   "cell_type": "code",
   "execution_count": 83,
   "id": "1d0efa4f-b065-4d93-8c48-51c1313523d2",
   "metadata": {},
   "outputs": [],
   "source": [
    "term2abbr = {\n",
    "    term: abbr for term, abbr in abbr_term[['term', 'abbreviation']].iloc\n",
    "}"
   ]
  },
  {
   "cell_type": "code",
   "execution_count": 85,
   "id": "40a377ae-9a75-4c61-8479-fce4ff1149a0",
   "metadata": {},
   "outputs": [],
   "source": [
    "term_context['mcb_code'] = ['I10'] * term_context.shape[0]\n",
    "term_context['abbreviation'] = term_context.term.map(term2abbr)"
   ]
  },
  {
   "cell_type": "code",
   "execution_count": 93,
   "id": "4a27db4d-b12c-4e73-bae5-5ba037572431",
   "metadata": {},
   "outputs": [],
   "source": [
    "term_context = term_context.drop_duplicates('context')"
   ]
  },
  {
   "cell_type": "code",
   "execution_count": 94,
   "id": "549c47a8-905b-4ab3-bf35-21751e46e64a",
   "metadata": {},
   "outputs": [],
   "source": [
    "term_context[['event_code', 'mcb_code', 'abbreviation', 'term', 'context']].to_csv('term_context.csv', sep='\\t', index=False)"
   ]
  },
  {
   "cell_type": "markdown",
   "id": "fcdd12a4-3dd4-47f4-a7a8-2263896e1583",
   "metadata": {},
   "source": [
    "- Долю полных терминов vs аббревиатур"
   ]
  }
 ],
 "metadata": {
  "kernelspec": {
   "display_name": "Python 3 (ipykernel)",
   "language": "python",
   "name": "python3"
  },
  "language_info": {
   "codemirror_mode": {
    "name": "ipython",
    "version": 3
   },
   "file_extension": ".py",
   "mimetype": "text/x-python",
   "name": "python",
   "nbconvert_exporter": "python",
   "pygments_lexer": "ipython3",
   "version": "3.8.2"
  }
 },
 "nbformat": 4,
 "nbformat_minor": 5
}
