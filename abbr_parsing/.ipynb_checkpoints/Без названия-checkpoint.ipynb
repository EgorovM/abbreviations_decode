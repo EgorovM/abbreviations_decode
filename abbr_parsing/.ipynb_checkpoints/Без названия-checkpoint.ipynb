{
 "cells": [
  {
   "cell_type": "markdown",
   "metadata": {},
   "source": [
    "# Парсим данные МКБ-шных заболеваний"
   ]
  },
  {
   "cell_type": "markdown",
   "metadata": {},
   "source": [
    "Нужно запустить скрипт main.py, тогда на выходе появится файл result{start_id}-{end_id}.txt\n",
    "\n",
    "Это будет список, где:\n",
    "- 0 элемент: заголовок вида \n",
    "```\n",
    "{\n",
    "    'name': 'Рак печени (гепатоцеллюлярный)',\n",
    "    'mkb_code': 'C22.0',\n",
    "    'start_year': '2020',\n",
    "    'age_category': 'Взрослые',\n",
    "    'end_year': '2022',\n",
    "    'id': '1'\n",
    "}\n",
    "```\n",
    "- 1 элемент: список из tuple, где 0 элемент - аббревиатура, а 1 элемент его расшифровка\n",
    "- 2 элемент: текст из аббревиатур и расшифровок, исходя из которого и строился 1 элемент списка"
   ]
  },
  {
   "cell_type": "code",
   "execution_count": 1,
   "metadata": {},
   "outputs": [],
   "source": [
    "from collections import defaultdict\n",
    "import re\n",
    "\n",
    "import matplotlib.pyplot as plt\n",
    "import seaborn as sns\n",
    "import pandas as pd"
   ]
  },
  {
   "cell_type": "code",
   "execution_count": 2,
   "metadata": {},
   "outputs": [],
   "source": [
    "results = eval(open('result1-700.txt').read())"
   ]
  },
  {
   "cell_type": "code",
   "execution_count": 3,
   "metadata": {},
   "outputs": [
    {
     "data": {
      "text/plain": [
       "269"
      ]
     },
     "execution_count": 3,
     "metadata": {},
     "output_type": "execute_result"
    }
   ],
   "source": [
    "len(results)"
   ]
  },
  {
   "cell_type": "markdown",
   "metadata": {},
   "source": [
    "### Разделение на аббревиатуры и определения \n",
    "\n",
    "\n",
    "Есть три типа страниц:\n",
    "- Страница с аббревиатурами и их определениями записанные через тире\n",
    "Для таких страниц разделим строки сначала по знаку пробела, потом, найдем первый индекс в получившемся списке знака \"-\", и просто удалим его и все что правее его индекса соеденим между собой - это будет определение, а левее - определение. Могут не обработаться строки вида \"МГК― медико-генетическая консультация\", для таких случаев разделим строки по знакам тире с пробелами до и после\n",
    "\n",
    "\n",
    "- Страница с аббревиатурами и их определениями записанные через много пробелов с тире или без\n",
    "Если строка содержит тире - попробуем обработать первым способом. Если не получилось или не было тире - нужно разделить строку по признаку два или более символов пробела. Первый токен - аббревиатура, второй - определение\n",
    "\n",
    "\n",
    "- Страница с аббревиатурами и их определениями записанные в таблице\n",
    "Для таких страниц между аббревиатурами и определниями множество знаков \"\\n\". Если между строками есть два или более знака переноса строки - нужно разделить их между собой и первое будет аббервиатурой, второе - определением"
   ]
  },
  {
   "cell_type": "code",
   "execution_count": 4,
   "metadata": {},
   "outputs": [],
   "source": [
    "dashes = ['–', '-', '—', '–-', '−', '‒', '­–', '―', '–']\n",
    "dashes_re = ['–', '\\-', '—', '\\–\\-', '–', '−', '–', '‒', '­–', '―']\n",
    "\n",
    "def split_abbr_and_def(row):\n",
    "    tokens = row.split()\n",
    "    \n",
    "    split_ind = None\n",
    "    \n",
    "    for i, token in enumerate(tokens):\n",
    "        if token in dashes:\n",
    "            split_ind = i\n",
    "            \n",
    "    if not split_ind or split_ind > 2:\n",
    "        # Попробуем разделить знаком \"- \" или \" -\"\n",
    "        dashes_re_suf = list(map(lambda x: f\"( {x})\", dashes_re))\n",
    "        dashes_re_pref = list(map(lambda x: f\"({x} )\", dashes_re))\n",
    "            \n",
    "        try_split = None\n",
    "        \n",
    "        for split_token in dashes_re_suf + dashes_re_pref:\n",
    "            try_split = re.split(split_token, row, maxsplit=1)\n",
    "            if len(try_split) == 3:\n",
    "                del try_split[1]\n",
    "                break\n",
    "            \n",
    "        if not try_split or len(try_split) != 2:\n",
    "            # Что то пошло не так\n",
    "            return \"\", row\n",
    "        \n",
    "        return try_split\n",
    "\n",
    "    abbr = \" \".join(tokens[:split_ind])\n",
    "    definition = \" \".join(tokens[split_ind+1:])\n",
    "    \n",
    "    return abbr, definition\n",
    "\n",
    "\n",
    "def split_abbr_and_def_at_tables(text):\n",
    "    tokens = re.sub('\\n{2,}', '\\t', text.strip()).split('\\t')\n",
    "    return [(tokens[i], tokens[i+1]) for i in range(0, len(tokens), 2)]\n",
    "\n",
    "def split_abbr_and_def_at_many_spaces(text):\n",
    "    abbr_defs = []\n",
    "    \n",
    "    for row in text.split('\\n'):\n",
    "        has_dash = any(map(lambda dash: dash in row, dashes))\n",
    "            \n",
    "        abbr = None\n",
    "        \n",
    "        if has_dash:\n",
    "            abbr, definition = split_abbr_and_def(row)\n",
    "        \n",
    "        if not abbr:\n",
    "            row = re.sub('\\s{2,}', '\\t', row.strip())\n",
    "            try_split = row.split('\\t', maxsplit=1)\n",
    "            \n",
    "            if len(try_split) != 2:\n",
    "                continue\n",
    "                \n",
    "            abbr, definition = try_split\n",
    "            \n",
    "        abbr_defs.append((abbr.strip(), definition.strip()))\n",
    "\n",
    "    return abbr_defs\n",
    "\n"
   ]
  },
  {
   "cell_type": "code",
   "execution_count": 5,
   "metadata": {},
   "outputs": [],
   "source": [
    "table_ids = [288, 289, 331, 596, 597, 635, 638, 640, 641, 665, 670, 671]\n",
    "many_spaces_ids = [283, 459, 507, 655]  # 655 частично тире, частично пробелы\n",
    "table_dash_ids = [678]\n",
    "\n",
    "except_ids = table_ids + many_spaces_ids + table_dash_ids"
   ]
  },
  {
   "cell_type": "code",
   "execution_count": 6,
   "metadata": {},
   "outputs": [],
   "source": [
    "from collections import defaultdict\n",
    "\n",
    "mkb_abbr_defs = defaultdict(list)\n",
    "all_abbreviations = {}\n",
    "\n",
    "for result in results:\n",
    "    mkb_id = int(result[0]['id'])\n",
    "    \n",
    "\n",
    "    mkb_code = result[0]['mkb_code'].strip()\n",
    "    text = result[2]\n",
    "    \n",
    "    if mkb_id not in except_ids:\n",
    "        for row in text.split('\\n'):\n",
    "            abbr, definition = split_abbr_and_def(row)\n",
    "            mkb_abbr_defs[mkb_code].append((abbr.strip(), definition.strip()))\n",
    "            \n",
    "    elif mkb_id in table_ids:\n",
    "        for abbr, definition in split_abbr_and_def_at_tables(text):\n",
    "            mkb_abbr_defs[mkb_code].append((abbr.strip(), definition.strip()))\n",
    "    elif mkb_id in many_spaces_ids:\n",
    "        for abbr, definition in split_abbr_and_def_at_many_spaces(text):\n",
    "            mkb_abbr_defs[mkb_code].append((abbr.strip(), definition.strip()))"
   ]
  },
  {
   "cell_type": "code",
   "execution_count": 7,
   "metadata": {},
   "outputs": [],
   "source": [
    "data = defaultdict(list)"
   ]
  },
  {
   "cell_type": "code",
   "execution_count": 8,
   "metadata": {},
   "outputs": [],
   "source": [
    "for result in results:\n",
    "    mkb_code = result[0]['mkb_code'].strip()\n",
    "    \n",
    "    for abbr, term in mkb_abbr_defs[mkb_code]:\n",
    "        for key, value in result[0].items():\n",
    "            data[key].append(value)\n",
    "\n",
    "        data['abbreviation'].append(abbr)\n",
    "        data['term'].append(term)"
   ]
  },
  {
   "cell_type": "markdown",
   "metadata": {},
   "source": [
    "### Определение двусмысленных аббревиатур и определений"
   ]
  },
  {
   "cell_type": "code",
   "execution_count": 9,
   "metadata": {},
   "outputs": [],
   "source": [
    "df = pd.DataFrame(data)"
   ]
  },
  {
   "cell_type": "code",
   "execution_count": 10,
   "metadata": {},
   "outputs": [
    {
     "data": {
      "text/html": [
       "<div>\n",
       "<style scoped>\n",
       "    .dataframe tbody tr th:only-of-type {\n",
       "        vertical-align: middle;\n",
       "    }\n",
       "\n",
       "    .dataframe tbody tr th {\n",
       "        vertical-align: top;\n",
       "    }\n",
       "\n",
       "    .dataframe thead th {\n",
       "        text-align: right;\n",
       "    }\n",
       "</style>\n",
       "<table border=\"1\" class=\"dataframe\">\n",
       "  <thead>\n",
       "    <tr style=\"text-align: right;\">\n",
       "      <th></th>\n",
       "      <th>name</th>\n",
       "      <th>mkb_code</th>\n",
       "      <th>start_year</th>\n",
       "      <th>age_category</th>\n",
       "      <th>end_year</th>\n",
       "      <th>id</th>\n",
       "      <th>abbreviation</th>\n",
       "      <th>term</th>\n",
       "    </tr>\n",
       "  </thead>\n",
       "  <tbody>\n",
       "    <tr>\n",
       "      <th>0</th>\n",
       "      <td>Рак печени (гепатоцеллюлярный)</td>\n",
       "      <td>C22.0</td>\n",
       "      <td>2020</td>\n",
       "      <td>Взрослые</td>\n",
       "      <td>2022</td>\n",
       "      <td>1</td>\n",
       "      <td>АЛТ</td>\n",
       "      <td>аланинаминотрансфераза</td>\n",
       "    </tr>\n",
       "    <tr>\n",
       "      <th>1</th>\n",
       "      <td>Рак печени (гепатоцеллюлярный)</td>\n",
       "      <td>C22.0</td>\n",
       "      <td>2020</td>\n",
       "      <td>Взрослые</td>\n",
       "      <td>2022</td>\n",
       "      <td>1</td>\n",
       "      <td>АСТ</td>\n",
       "      <td>аспартатаминотрансфераза</td>\n",
       "    </tr>\n",
       "    <tr>\n",
       "      <th>2</th>\n",
       "      <td>Рак печени (гепатоцеллюлярный)</td>\n",
       "      <td>C22.0</td>\n",
       "      <td>2020</td>\n",
       "      <td>Взрослые</td>\n",
       "      <td>2022</td>\n",
       "      <td>1</td>\n",
       "      <td>АФП</td>\n",
       "      <td>альфа-фетопротеин</td>\n",
       "    </tr>\n",
       "    <tr>\n",
       "      <th>3</th>\n",
       "      <td>Рак печени (гепатоцеллюлярный)</td>\n",
       "      <td>C22.0</td>\n",
       "      <td>2020</td>\n",
       "      <td>Взрослые</td>\n",
       "      <td>2022</td>\n",
       "      <td>1</td>\n",
       "      <td>ГЦР</td>\n",
       "      <td>гепатоцеллюлярный рак</td>\n",
       "    </tr>\n",
       "    <tr>\n",
       "      <th>4</th>\n",
       "      <td>Рак печени (гепатоцеллюлярный)</td>\n",
       "      <td>C22.0</td>\n",
       "      <td>2020</td>\n",
       "      <td>Взрослые</td>\n",
       "      <td>2022</td>\n",
       "      <td>1</td>\n",
       "      <td>КТ</td>\n",
       "      <td>компьютерная томография</td>\n",
       "    </tr>\n",
       "  </tbody>\n",
       "</table>\n",
       "</div>"
      ],
      "text/plain": [
       "                             name mkb_code start_year age_category end_year  \\\n",
       "0  Рак печени (гепатоцеллюлярный)    C22.0       2020     Взрослые     2022   \n",
       "1  Рак печени (гепатоцеллюлярный)    C22.0       2020     Взрослые     2022   \n",
       "2  Рак печени (гепатоцеллюлярный)    C22.0       2020     Взрослые     2022   \n",
       "3  Рак печени (гепатоцеллюлярный)    C22.0       2020     Взрослые     2022   \n",
       "4  Рак печени (гепатоцеллюлярный)    C22.0       2020     Взрослые     2022   \n",
       "\n",
       "  id abbreviation                      term  \n",
       "0  1          АЛТ    аланинаминотрансфераза  \n",
       "1  1          АСТ  аспартатаминотрансфераза  \n",
       "2  1          АФП         альфа-фетопротеин  \n",
       "3  1          ГЦР     гепатоцеллюлярный рак  \n",
       "4  1           КТ   компьютерная томография  "
      ]
     },
     "execution_count": 10,
     "metadata": {},
     "output_type": "execute_result"
    }
   ],
   "source": [
    "df.head()"
   ]
  },
  {
   "cell_type": "code",
   "execution_count": 11,
   "metadata": {},
   "outputs": [],
   "source": [
    "term = '.фывтолф. asdjknasd.'"
   ]
  },
  {
   "cell_type": "code",
   "execution_count": 12,
   "metadata": {},
   "outputs": [],
   "source": [
    "def prepare_term(term):\n",
    "    term = re.sub('^[\\.|;|,]+', '', term)\n",
    "    \n",
    "    i = 0\n",
    "    while i < len(term) and term[-1-i] in '.;,':\n",
    "        i += 1\n",
    "        \n",
    "    if i == 0:\n",
    "        return term\n",
    "    \n",
    "    return term[:-i]"
   ]
  },
  {
   "cell_type": "code",
   "execution_count": 13,
   "metadata": {},
   "outputs": [],
   "source": [
    "df['term'] = df['term'].apply(lambda x: prepare_term(x))"
   ]
  },
  {
   "cell_type": "code",
   "execution_count": 14,
   "metadata": {},
   "outputs": [],
   "source": [
    "abbreviation_terms = (\n",
    "    df[['abbreviation', 'term']]\n",
    "    .value_counts()\n",
    "    .groupby(level=0)\n",
    "    .size()\n",
    "    .reset_index(name='count')\n",
    "    .sort_values('count')\n",
    ")\n",
    "terms_abbreviation = (\n",
    "    df[['term', 'abbreviation']]\n",
    "    .value_counts()\n",
    "    .groupby(level=0)\n",
    "    .size()\n",
    "    .reset_index(name='count')\n",
    "    .sort_values('count')\n",
    ")"
   ]
  },
  {
   "cell_type": "code",
   "execution_count": 15,
   "metadata": {},
   "outputs": [],
   "source": [
    "ambigious_abbr = abbreviation_terms.query('count > 1').sort_values('count', ascending=False)"
   ]
  },
  {
   "cell_type": "code",
   "execution_count": 16,
   "metadata": {},
   "outputs": [
    {
     "data": {
      "text/html": [
       "<div>\n",
       "<style scoped>\n",
       "    .dataframe tbody tr th:only-of-type {\n",
       "        vertical-align: middle;\n",
       "    }\n",
       "\n",
       "    .dataframe tbody tr th {\n",
       "        vertical-align: top;\n",
       "    }\n",
       "\n",
       "    .dataframe thead th {\n",
       "        text-align: right;\n",
       "    }\n",
       "</style>\n",
       "<table border=\"1\" class=\"dataframe\">\n",
       "  <thead>\n",
       "    <tr style=\"text-align: right;\">\n",
       "      <th></th>\n",
       "      <th>abbreviation</th>\n",
       "      <th>count</th>\n",
       "    </tr>\n",
       "  </thead>\n",
       "  <tbody>\n",
       "    <tr>\n",
       "      <th>0</th>\n",
       "      <td></td>\n",
       "      <td>52</td>\n",
       "    </tr>\n",
       "    <tr>\n",
       "      <th>207</th>\n",
       "      <td>ECOG</td>\n",
       "      <td>17</td>\n",
       "    </tr>\n",
       "    <tr>\n",
       "      <th>1451</th>\n",
       "      <td>МКБ-10</td>\n",
       "      <td>16</td>\n",
       "    </tr>\n",
       "    <tr>\n",
       "      <th>262</th>\n",
       "      <td>FISH</td>\n",
       "      <td>10</td>\n",
       "    </tr>\n",
       "    <tr>\n",
       "      <th>1</th>\n",
       "      <td>#</td>\n",
       "      <td>9</td>\n",
       "    </tr>\n",
       "    <tr>\n",
       "      <th>646</th>\n",
       "      <td>TNM</td>\n",
       "      <td>9</td>\n",
       "    </tr>\n",
       "    <tr>\n",
       "      <th>763</th>\n",
       "      <td>АД</td>\n",
       "      <td>9</td>\n",
       "    </tr>\n",
       "    <tr>\n",
       "      <th>2338</th>\n",
       "      <td>ЭКГ</td>\n",
       "      <td>9</td>\n",
       "    </tr>\n",
       "    <tr>\n",
       "      <th>1861</th>\n",
       "      <td>РКИ</td>\n",
       "      <td>9</td>\n",
       "    </tr>\n",
       "    <tr>\n",
       "      <th>2399</th>\n",
       "      <td>в/в</td>\n",
       "      <td>8</td>\n",
       "    </tr>\n",
       "  </tbody>\n",
       "</table>\n",
       "</div>"
      ],
      "text/plain": [
       "     abbreviation  count\n",
       "0                     52\n",
       "207          ECOG     17\n",
       "1451       МКБ-10     16\n",
       "262          FISH     10\n",
       "1               #      9\n",
       "646           TNM      9\n",
       "763            АД      9\n",
       "2338          ЭКГ      9\n",
       "1861          РКИ      9\n",
       "2399          в/в      8"
      ]
     },
     "execution_count": 16,
     "metadata": {},
     "output_type": "execute_result"
    }
   ],
   "source": [
    "ambigious_abbr.head(10)"
   ]
  },
  {
   "cell_type": "code",
   "execution_count": 17,
   "metadata": {},
   "outputs": [],
   "source": [
    "# TODO df.query(\"abbreviation == 'АД'\").iloc[1].term"
   ]
  },
  {
   "cell_type": "code",
   "execution_count": 18,
   "metadata": {},
   "outputs": [
    {
     "data": {
      "text/plain": [
       "Взрослые    5680\n",
       "Дети        1262\n",
       "Name: age_category, dtype: int64"
      ]
     },
     "execution_count": 18,
     "metadata": {},
     "output_type": "execute_result"
    }
   ],
   "source": [
    "df.age_category.value_counts()"
   ]
  },
  {
   "cell_type": "code",
   "execution_count": 19,
   "metadata": {},
   "outputs": [],
   "source": [
    "ambigious_term = terms_abbreviation.query('count > 1').sort_values('count', ascending=False)"
   ]
  },
  {
   "cell_type": "code",
   "execution_count": 20,
   "metadata": {},
   "outputs": [
    {
     "data": {
      "text/html": [
       "<div>\n",
       "<style scoped>\n",
       "    .dataframe tbody tr th:only-of-type {\n",
       "        vertical-align: middle;\n",
       "    }\n",
       "\n",
       "    .dataframe tbody tr th {\n",
       "        vertical-align: top;\n",
       "    }\n",
       "\n",
       "    .dataframe thead th {\n",
       "        text-align: right;\n",
       "    }\n",
       "</style>\n",
       "<table border=\"1\" class=\"dataframe\">\n",
       "  <thead>\n",
       "    <tr style=\"text-align: right;\">\n",
       "      <th></th>\n",
       "      <th>term</th>\n",
       "      <th>count</th>\n",
       "    </tr>\n",
       "  </thead>\n",
       "  <tbody>\n",
       "    <tr>\n",
       "      <th>3268</th>\n",
       "      <td>эхокардиография</td>\n",
       "      <td>5</td>\n",
       "    </tr>\n",
       "    <tr>\n",
       "      <th>849</th>\n",
       "      <td>аспартатаминотрансфераза</td>\n",
       "      <td>4</td>\n",
       "    </tr>\n",
       "    <tr>\n",
       "      <th>719</th>\n",
       "      <td>аланинаминотрансфераза</td>\n",
       "      <td>4</td>\n",
       "    </tr>\n",
       "    <tr>\n",
       "      <th>1226</th>\n",
       "      <td>гранулоцитарный колониестимулирующий фактор</td>\n",
       "      <td>3</td>\n",
       "    </tr>\n",
       "    <tr>\n",
       "      <th>2507</th>\n",
       "      <td>режим МРТ</td>\n",
       "      <td>3</td>\n",
       "    </tr>\n",
       "    <tr>\n",
       "      <th>2849</th>\n",
       "      <td>трансплантация аутологичных гемопоэтических ст...</td>\n",
       "      <td>3</td>\n",
       "    </tr>\n",
       "    <tr>\n",
       "      <th>1321</th>\n",
       "      <td>доверительный интервал</td>\n",
       "      <td>3</td>\n",
       "    </tr>\n",
       "    <tr>\n",
       "      <th>2253</th>\n",
       "      <td>планируемый объем мишени</td>\n",
       "      <td>3</td>\n",
       "    </tr>\n",
       "    <tr>\n",
       "      <th>3057</th>\n",
       "      <td>холестерин липопротеидов низкой плотности</td>\n",
       "      <td>3</td>\n",
       "    </tr>\n",
       "    <tr>\n",
       "      <th>2956</th>\n",
       "      <td>фактор некроза опухоли альфа</td>\n",
       "      <td>3</td>\n",
       "    </tr>\n",
       "    <tr>\n",
       "      <th>2847</th>\n",
       "      <td>трансплантация аллогенных гемопоэтических ство...</td>\n",
       "      <td>3</td>\n",
       "    </tr>\n",
       "    <tr>\n",
       "      <th>2613</th>\n",
       "      <td>свободный тироксин</td>\n",
       "      <td>3</td>\n",
       "    </tr>\n",
       "    <tr>\n",
       "      <th>2286</th>\n",
       "      <td>позитронно-эмиссионная компьютерная томография</td>\n",
       "      <td>2</td>\n",
       "    </tr>\n",
       "    <tr>\n",
       "      <th>1719</th>\n",
       "      <td>лимфатические узлы</td>\n",
       "      <td>2</td>\n",
       "    </tr>\n",
       "    <tr>\n",
       "      <th>2526</th>\n",
       "      <td>режим иммунохимиотерапии, включающий леналидом...</td>\n",
       "      <td>2</td>\n",
       "    </tr>\n",
       "    <tr>\n",
       "      <th>703</th>\n",
       "      <td>аденозиндезаминаза</td>\n",
       "      <td>2</td>\n",
       "    </tr>\n",
       "    <tr>\n",
       "      <th>2295</th>\n",
       "      <td>позитронно-эмиссионная томография, совмещенная...</td>\n",
       "      <td>2</td>\n",
       "    </tr>\n",
       "    <tr>\n",
       "      <th>1736</th>\n",
       "      <td>липопротеиды высокой плотности</td>\n",
       "      <td>2</td>\n",
       "    </tr>\n",
       "    <tr>\n",
       "      <th>1737</th>\n",
       "      <td>липопротеиды низкой плотности</td>\n",
       "      <td>2</td>\n",
       "    </tr>\n",
       "    <tr>\n",
       "      <th>1738</th>\n",
       "      <td>липопротеины высокой плотности</td>\n",
       "      <td>2</td>\n",
       "    </tr>\n",
       "  </tbody>\n",
       "</table>\n",
       "</div>"
      ],
      "text/plain": [
       "                                                   term  count\n",
       "3268                                    эхокардиография      5\n",
       "849                            аспартатаминотрансфераза      4\n",
       "719                              аланинаминотрансфераза      4\n",
       "1226        гранулоцитарный колониестимулирующий фактор      3\n",
       "2507                                          режим МРТ      3\n",
       "2849  трансплантация аутологичных гемопоэтических ст...      3\n",
       "1321                             доверительный интервал      3\n",
       "2253                           планируемый объем мишени      3\n",
       "3057          холестерин липопротеидов низкой плотности      3\n",
       "2956                       фактор некроза опухоли альфа      3\n",
       "2847  трансплантация аллогенных гемопоэтических ство...      3\n",
       "2613                                 свободный тироксин      3\n",
       "2286     позитронно-эмиссионная компьютерная томография      2\n",
       "1719                                 лимфатические узлы      2\n",
       "2526  режим иммунохимиотерапии, включающий леналидом...      2\n",
       "703                                  аденозиндезаминаза      2\n",
       "2295  позитронно-эмиссионная томография, совмещенная...      2\n",
       "1736                     липопротеиды высокой плотности      2\n",
       "1737                      липопротеиды низкой плотности      2\n",
       "1738                     липопротеины высокой плотности      2"
      ]
     },
     "execution_count": 20,
     "metadata": {},
     "output_type": "execute_result"
    }
   ],
   "source": [
    "ambigious_term.head(20)"
   ]
  },
  {
   "cell_type": "code",
   "execution_count": 21,
   "metadata": {},
   "outputs": [
    {
     "data": {
      "text/html": [
       "<div>\n",
       "<style scoped>\n",
       "    .dataframe tbody tr th:only-of-type {\n",
       "        vertical-align: middle;\n",
       "    }\n",
       "\n",
       "    .dataframe tbody tr th {\n",
       "        vertical-align: top;\n",
       "    }\n",
       "\n",
       "    .dataframe thead th {\n",
       "        text-align: right;\n",
       "    }\n",
       "</style>\n",
       "<table border=\"1\" class=\"dataframe\">\n",
       "  <thead>\n",
       "    <tr style=\"text-align: right;\">\n",
       "      <th></th>\n",
       "      <th>name</th>\n",
       "      <th>mkb_code</th>\n",
       "      <th>start_year</th>\n",
       "      <th>age_category</th>\n",
       "      <th>end_year</th>\n",
       "      <th>id</th>\n",
       "      <th>abbreviation</th>\n",
       "      <th>term</th>\n",
       "    </tr>\n",
       "  </thead>\n",
       "  <tbody>\n",
       "    <tr>\n",
       "      <th>0</th>\n",
       "      <td>Рак печени (гепатоцеллюлярный)</td>\n",
       "      <td>C22.0</td>\n",
       "      <td>2020</td>\n",
       "      <td>Взрослые</td>\n",
       "      <td>2022</td>\n",
       "      <td>1</td>\n",
       "      <td>АЛТ</td>\n",
       "      <td>аланинаминотрансфераза</td>\n",
       "    </tr>\n",
       "    <tr>\n",
       "      <th>685</th>\n",
       "      <td>Гепатобластома</td>\n",
       "      <td>C22.2</td>\n",
       "      <td>2020</td>\n",
       "      <td>Дети</td>\n",
       "      <td>2022</td>\n",
       "      <td>68</td>\n",
       "      <td>АЛАТ</td>\n",
       "      <td>аланинаминотрансфераза</td>\n",
       "    </tr>\n",
       "    <tr>\n",
       "      <th>1404</th>\n",
       "      <td>Интерферонопатии I типа</td>\n",
       "      <td>D84.8</td>\n",
       "      <td>2018</td>\n",
       "      <td>Взрослые</td>\n",
       "      <td>2020</td>\n",
       "      <td>98</td>\n",
       "      <td>АлаТ</td>\n",
       "      <td>аланинаминотрансфераза</td>\n",
       "    </tr>\n",
       "    <tr>\n",
       "      <th>5240</th>\n",
       "      <td>Психические и поведенческие расстройства, вызв...</td>\n",
       "      <td>F10.4, F13.4, F19.4</td>\n",
       "      <td>2020</td>\n",
       "      <td>Взрослые</td>\n",
       "      <td>2022</td>\n",
       "      <td>590</td>\n",
       "      <td>АлАТ</td>\n",
       "      <td>аланинаминотрансфераза</td>\n",
       "    </tr>\n",
       "  </tbody>\n",
       "</table>\n",
       "</div>"
      ],
      "text/plain": [
       "                                                   name             mkb_code  \\\n",
       "0                        Рак печени (гепатоцеллюлярный)                C22.0   \n",
       "685                                      Гепатобластома                C22.2   \n",
       "1404                            Интерферонопатии I типа                D84.8   \n",
       "5240  Психические и поведенческие расстройства, вызв...  F10.4, F13.4, F19.4   \n",
       "\n",
       "     start_year age_category end_year   id abbreviation  \\\n",
       "0          2020     Взрослые     2022    1          АЛТ   \n",
       "685        2020         Дети     2022   68         АЛАТ   \n",
       "1404       2018     Взрослые     2020   98         АлаТ   \n",
       "5240       2020     Взрослые     2022  590         АлАТ   \n",
       "\n",
       "                        term  \n",
       "0     аланинаминотрансфераза  \n",
       "685   аланинаминотрансфераза  \n",
       "1404  аланинаминотрансфераза  \n",
       "5240  аланинаминотрансфераза  "
      ]
     },
     "execution_count": 21,
     "metadata": {},
     "output_type": "execute_result"
    }
   ],
   "source": [
    "df.query(\"term == 'аланинаминотрансфераза'\").drop_duplicates('abbreviation')"
   ]
  },
  {
   "cell_type": "code",
   "execution_count": 22,
   "metadata": {},
   "outputs": [
    {
     "data": {
      "image/png": "[encoded data removed]",
      "text/plain": [
       "<Figure size 432x288 with 1 Axes>"
      ]
     },
     "metadata": {
      "needs_background": "light"
     },
     "output_type": "display_data"
    }
   ],
   "source": [
    "plt.title('Количество разных аббревиатdrop_duplicatesачаемых одним термином')\n",
    "sns.histplot(data=ambigious_term, x='count', discrete=True)\n",
    "plt.show()"
   ]
  },
  {
   "cell_type": "code",
   "execution_count": 23,
   "metadata": {},
   "outputs": [
    {
     "name": "stdout",
     "output_type": "stream",
     "text": [
      "Количество уникальных аббревиатур: 2474\n"
     ]
    }
   ],
   "source": [
    "print('Количество уникальных аббревиатур:', len(df.abbreviation.unique()))"
   ]
  },
  {
   "cell_type": "code",
   "execution_count": 24,
   "metadata": {},
   "outputs": [
    {
     "name": "stdout",
     "output_type": "stream",
     "text": [
      "Количество уникальных терминов: 3274\n"
     ]
    }
   ],
   "source": [
    "print('Количество уникальных терминов:', len(df.term.unique()))"
   ]
  },
  {
   "cell_type": "code",
   "execution_count": 25,
   "metadata": {},
   "outputs": [],
   "source": [
    "new_terms = df[['abbreviation', 'term']].sort_values('abbreviation')"
   ]
  },
  {
   "cell_type": "code",
   "execution_count": 26,
   "metadata": {},
   "outputs": [],
   "source": [
    "old_terms = pd.read_csv('term_abbrs.csv').dropna().drop_duplicates()\n",
    "old_terms = old_terms.rename({'abbr_by_first_letters': 'abbreviation'}, axis=1)[['abbreviation', 'term']]\n",
    "old_terms = old_terms[old_terms.term.str.split().str.len() >= 2]"
   ]
  },
  {
   "cell_type": "code",
   "execution_count": 27,
   "metadata": {},
   "outputs": [
    {
     "data": {
      "text/html": [
       "<div>\n",
       "<style scoped>\n",
       "    .dataframe tbody tr th:only-of-type {\n",
       "        vertical-align: middle;\n",
       "    }\n",
       "\n",
       "    .dataframe tbody tr th {\n",
       "        vertical-align: top;\n",
       "    }\n",
       "\n",
       "    .dataframe thead th {\n",
       "        text-align: right;\n",
       "    }\n",
       "</style>\n",
       "<table border=\"1\" class=\"dataframe\">\n",
       "  <thead>\n",
       "    <tr style=\"text-align: right;\">\n",
       "      <th></th>\n",
       "      <th>abbreviation</th>\n",
       "      <th>term</th>\n",
       "    </tr>\n",
       "  </thead>\n",
       "  <tbody>\n",
       "    <tr>\n",
       "      <th>12678</th>\n",
       "      <td>ЯЖП</td>\n",
       "      <td>ямка желчного пузыря</td>\n",
       "    </tr>\n",
       "    <tr>\n",
       "      <th>16719</th>\n",
       "      <td>ЯГ</td>\n",
       "      <td>ямочки грануляций</td>\n",
       "    </tr>\n",
       "    <tr>\n",
       "      <th>27018</th>\n",
       "      <td>ЯК</td>\n",
       "      <td>янтарная кислота</td>\n",
       "    </tr>\n",
       "    <tr>\n",
       "      <th>35094</th>\n",
       "      <td>ЯЗ</td>\n",
       "      <td>янус зеленый</td>\n",
       "    </tr>\n",
       "    <tr>\n",
       "      <th>37306</th>\n",
       "      <td>ЯВ</td>\n",
       "      <td>яремная вырезка</td>\n",
       "    </tr>\n",
       "    <tr>\n",
       "      <th>30113</th>\n",
       "      <td>ЯЯ</td>\n",
       "      <td>яремная ямка</td>\n",
       "    </tr>\n",
       "    <tr>\n",
       "      <th>970</th>\n",
       "      <td>ЯО</td>\n",
       "      <td>яремное отверстие</td>\n",
       "    </tr>\n",
       "    <tr>\n",
       "      <th>34124</th>\n",
       "      <td>ЯБ</td>\n",
       "      <td>яремный бугорок</td>\n",
       "    </tr>\n",
       "    <tr>\n",
       "      <th>22920</th>\n",
       "      <td>ЯО</td>\n",
       "      <td>яремный отросток</td>\n",
       "    </tr>\n",
       "    <tr>\n",
       "      <th>25547</th>\n",
       "      <td>ЯДС</td>\n",
       "      <td>ясли-детский сад</td>\n",
       "    </tr>\n",
       "  </tbody>\n",
       "</table>\n",
       "</div>"
      ],
      "text/plain": [
       "      abbreviation                  term\n",
       "12678          ЯЖП  ямка желчного пузыря\n",
       "16719           ЯГ     ямочки грануляций\n",
       "27018           ЯК      янтарная кислота\n",
       "35094           ЯЗ          янус зеленый\n",
       "37306           ЯВ       яремная вырезка\n",
       "30113           ЯЯ          яремная ямка\n",
       "970             ЯО     яремное отверстие\n",
       "34124           ЯБ       яремный бугорок\n",
       "22920           ЯО      яремный отросток\n",
       "25547          ЯДС      ясли-детский сад"
      ]
     },
     "execution_count": 27,
     "metadata": {},
     "output_type": "execute_result"
    }
   ],
   "source": [
    "old_terms.sort_values('term').tail(10)"
   ]
  },
  {
   "cell_type": "code",
   "execution_count": 28,
   "metadata": {},
   "outputs": [
    {
     "data": {
      "text/html": [
       "<div>\n",
       "<style scoped>\n",
       "    .dataframe tbody tr th:only-of-type {\n",
       "        vertical-align: middle;\n",
       "    }\n",
       "\n",
       "    .dataframe tbody tr th {\n",
       "        vertical-align: top;\n",
       "    }\n",
       "\n",
       "    .dataframe thead th {\n",
       "        text-align: right;\n",
       "    }\n",
       "</style>\n",
       "<table border=\"1\" class=\"dataframe\">\n",
       "  <thead>\n",
       "    <tr style=\"text-align: right;\">\n",
       "      <th></th>\n",
       "      <th>abbreviation</th>\n",
       "      <th>term</th>\n",
       "    </tr>\n",
       "  </thead>\n",
       "  <tbody>\n",
       "    <tr>\n",
       "      <th>5643</th>\n",
       "      <td>фМРТ</td>\n",
       "      <td>функциональная магнитно-резонансная томография</td>\n",
       "    </tr>\n",
       "    <tr>\n",
       "      <th>6845</th>\n",
       "      <td>фМРТ</td>\n",
       "      <td>функциональная магнитно-резонансная томография</td>\n",
       "    </tr>\n",
       "    <tr>\n",
       "      <th>6319</th>\n",
       "      <td>фМРТ</td>\n",
       "      <td>функциональная магнитно-резонансная томография</td>\n",
       "    </tr>\n",
       "    <tr>\n",
       "      <th>5081</th>\n",
       "      <td>фМРТ</td>\n",
       "      <td>функциональная магнитно-резонансная томография</td>\n",
       "    </tr>\n",
       "    <tr>\n",
       "      <th>2982</th>\n",
       "      <td>фаС1-ИНГ</td>\n",
       "      <td>функциональная активность С1-ингибитора</td>\n",
       "    </tr>\n",
       "    <tr>\n",
       "      <th>2878</th>\n",
       "      <td>цАМФ</td>\n",
       "      <td>циклический аденозинмонофосфат</td>\n",
       "    </tr>\n",
       "    <tr>\n",
       "      <th>1618</th>\n",
       "      <td>цАМФ</td>\n",
       "      <td>циклический аденозинмонофосфат</td>\n",
       "    </tr>\n",
       "    <tr>\n",
       "      <th>2627</th>\n",
       "      <td>цГМФ</td>\n",
       "      <td>циклический гуанозинмонофосфат</td>\n",
       "    </tr>\n",
       "    <tr>\n",
       "      <th>6320</th>\n",
       "      <td>цТМС</td>\n",
       "      <td>циклическая (импульсная) транскраниальная магн...</td>\n",
       "    </tr>\n",
       "    <tr>\n",
       "      <th>965</th>\n",
       "      <td>эРМС</td>\n",
       "      <td>Эмбриональная рабдомиосаркома</td>\n",
       "    </tr>\n",
       "  </tbody>\n",
       "</table>\n",
       "</div>"
      ],
      "text/plain": [
       "     abbreviation                                               term\n",
       "5643         фМРТ     функциональная магнитно-резонансная томография\n",
       "6845         фМРТ     функциональная магнитно-резонансная томография\n",
       "6319         фМРТ     функциональная магнитно-резонансная томография\n",
       "5081         фМРТ     функциональная магнитно-резонансная томография\n",
       "2982     фаС1-ИНГ            функциональная активность С1-ингибитора\n",
       "2878         цАМФ                     циклический аденозинмонофосфат\n",
       "1618         цАМФ                     циклический аденозинмонофосфат\n",
       "2627         цГМФ                     циклический гуанозинмонофосфат\n",
       "6320         цТМС  циклическая (импульсная) транскраниальная магн...\n",
       "965          эРМС                      Эмбриональная рабдомиосаркома"
      ]
     },
     "execution_count": 28,
     "metadata": {},
     "output_type": "execute_result"
    }
   ],
   "source": [
    "new_terms.tail(10)"
   ]
  },
  {
   "cell_type": "code",
   "execution_count": 29,
   "metadata": {},
   "outputs": [
    {
     "data": {
      "text/plain": [
       "597"
      ]
     },
     "execution_count": 29,
     "metadata": {},
     "output_type": "execute_result"
    }
   ],
   "source": [
    "len(set(old_terms.abbreviation.to_list()).intersection(new_terms.abbreviation.to_list()))"
   ]
  },
  {
   "cell_type": "code",
   "execution_count": 30,
   "metadata": {},
   "outputs": [
    {
     "data": {
      "text/plain": [
       "86"
      ]
     },
     "execution_count": 30,
     "metadata": {},
     "output_type": "execute_result"
    }
   ],
   "source": [
    "len(set(old_terms.term.to_list()).intersection(new_terms.term.to_list()))"
   ]
  },
  {
   "cell_type": "code",
   "execution_count": 31,
   "metadata": {},
   "outputs": [
    {
     "data": {
      "text/html": [
       "<div>\n",
       "<style scoped>\n",
       "    .dataframe tbody tr th:only-of-type {\n",
       "        vertical-align: middle;\n",
       "    }\n",
       "\n",
       "    .dataframe tbody tr th {\n",
       "        vertical-align: top;\n",
       "    }\n",
       "\n",
       "    .dataframe thead th {\n",
       "        text-align: right;\n",
       "    }\n",
       "</style>\n",
       "<table border=\"1\" class=\"dataframe\">\n",
       "  <thead>\n",
       "    <tr style=\"text-align: right;\">\n",
       "      <th></th>\n",
       "      <th>abbreviation</th>\n",
       "      <th>term</th>\n",
       "    </tr>\n",
       "  </thead>\n",
       "  <tbody>\n",
       "    <tr>\n",
       "      <th>1</th>\n",
       "      <td>БС</td>\n",
       "      <td>Бранстинга синдром</td>\n",
       "    </tr>\n",
       "    <tr>\n",
       "      <th>2</th>\n",
       "      <td>CO</td>\n",
       "      <td>Cubonaviculare obliquum</td>\n",
       "    </tr>\n",
       "    <tr>\n",
       "      <th>3</th>\n",
       "      <td>TL</td>\n",
       "      <td>Thoracicus longus</td>\n",
       "    </tr>\n",
       "    <tr>\n",
       "      <th>4</th>\n",
       "      <td>БЯ</td>\n",
       "      <td>Бурдаха ядро</td>\n",
       "    </tr>\n",
       "    <tr>\n",
       "      <th>6</th>\n",
       "      <td>КУ</td>\n",
       "      <td>канал улитки</td>\n",
       "    </tr>\n",
       "    <tr>\n",
       "      <th>...</th>\n",
       "      <td>...</td>\n",
       "      <td>...</td>\n",
       "    </tr>\n",
       "    <tr>\n",
       "      <th>43329</th>\n",
       "      <td>ЛДГ</td>\n",
       "      <td>ладонная дуга глубокая</td>\n",
       "    </tr>\n",
       "    <tr>\n",
       "      <th>43332</th>\n",
       "      <td>I(</td>\n",
       "      <td>internus (BNA),</td>\n",
       "    </tr>\n",
       "    <tr>\n",
       "      <th>43334</th>\n",
       "      <td>ОР</td>\n",
       "      <td>облачко роговицы</td>\n",
       "    </tr>\n",
       "    <tr>\n",
       "      <th>43337</th>\n",
       "      <td>БП</td>\n",
       "      <td>бактериотоксикоз пищевой</td>\n",
       "    </tr>\n",
       "    <tr>\n",
       "      <th>43339</th>\n",
       "      <td>НСУ</td>\n",
       "      <td>нерв сердца усиливающий</td>\n",
       "    </tr>\n",
       "  </tbody>\n",
       "</table>\n",
       "<p>22983 rows × 2 columns</p>\n",
       "</div>"
      ],
      "text/plain": [
       "      abbreviation                      term\n",
       "1               БС        Бранстинга синдром\n",
       "2               CO   Cubonaviculare obliquum\n",
       "3               TL         Thoracicus longus\n",
       "4               БЯ              Бурдаха ядро\n",
       "6               КУ              канал улитки\n",
       "...            ...                       ...\n",
       "43329          ЛДГ    ладонная дуга глубокая\n",
       "43332           I(           internus (BNA),\n",
       "43334           ОР          облачко роговицы\n",
       "43337           БП  бактериотоксикоз пищевой\n",
       "43339          НСУ   нерв сердца усиливающий\n",
       "\n",
       "[22983 rows x 2 columns]"
      ]
     },
     "execution_count": 31,
     "metadata": {},
     "output_type": "execute_result"
    }
   ],
   "source": [
    "old_terms"
   ]
  },
  {
   "cell_type": "code",
   "execution_count": 32,
   "metadata": {},
   "outputs": [
    {
     "data": {
      "text/plain": [
       "(22983, 2)"
      ]
     },
     "execution_count": 32,
     "metadata": {},
     "output_type": "execute_result"
    }
   ],
   "source": [
    "old_terms.shape"
   ]
  },
  {
   "cell_type": "code",
   "execution_count": 33,
   "metadata": {},
   "outputs": [
    {
     "data": {
      "text/plain": [
       "(6942, 2)"
      ]
     },
     "execution_count": 33,
     "metadata": {},
     "output_type": "execute_result"
    }
   ],
   "source": [
    "new_terms.shape"
   ]
  },
  {
   "cell_type": "code",
   "execution_count": null,
   "metadata": {},
   "outputs": [],
   "source": []
  }
 ],
 "metadata": {
  "kernelspec": {
   "display_name": "Python 3",
   "language": "python",
   "name": "python3"
  },
  "language_info": {
   "codemirror_mode": {
    "name": "ipython",
    "version": 3
   },
   "file_extension": ".py",
   "mimetype": "text/x-python",
   "name": "python",
   "nbconvert_exporter": "python",
   "pygments_lexer": "ipython3",
   "version": "3.8.3"
  }
 },
 "nbformat": 4,
 "nbformat_minor": 5
}
