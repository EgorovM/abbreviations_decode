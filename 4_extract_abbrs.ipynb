{
 "cells": [
  {
   "cell_type": "code",
   "execution_count": 307,
   "metadata": {},
   "outputs": [],
   "source": [
    "import pandas as pd\n",
    "import numpy as np\n",
    "\n",
    "from tqdm import tqdm as tq"
   ]
  },
  {
   "cell_type": "code",
   "execution_count": 381,
   "metadata": {},
   "outputs": [],
   "source": [
    "import symspellpy"
   ]
  },
  {
   "cell_type": "code",
   "execution_count": 387,
   "metadata": {},
   "outputs": [
    {
     "name": "stdout",
     "output_type": "stream",
     "text": [
      "Creating annot.opcorpora.xml from http://opencorpora.org/files/export/annot/annot.opcorpora.xml.bz2\n",
      ".............................................................................................................................\n",
      "Done.\n"
     ]
    }
   ],
   "source": [
    "!opencorpora download"
   ]
  },
  {
   "cell_type": "code",
   "execution_count": 388,
   "metadata": {},
   "outputs": [],
   "source": [
    "import opencorpora\n",
    "\n",
    "corpus = opencorpora.CorpusReader('annot.opcorpora.xml')\n",
    "catalog = corpus.catalog()"
   ]
  },
  {
   "cell_type": "code",
   "execution_count": 390,
   "metadata": {},
   "outputs": [],
   "source": [
    "def recursive_flatten_generator(array):\n",
    "    lst = []\n",
    "    for i in array:\n",
    "        if isinstance(i, list):\n",
    "            lst.extend(recursive_flatten_generator(i))\n",
    "        else:\n",
    "            lst.append(i)\n",
    "    return lst\n",
    "\n",
    "def read_list(filepath, codec):\n",
    "    with codecs.open(filepath, 'r',codec) as file:\n",
    "        data = file.readlines()\n",
    "        data = [line.rstrip() for line in data]\n",
    "    return data"
   ]
  },
  {
   "cell_type": "code",
   "execution_count": 392,
   "metadata": {},
   "outputs": [],
   "source": [
    "\n",
    "from  more_itertools import unique_everseen"
   ]
  },
  {
   "cell_type": "code",
   "execution_count": null,
   "metadata": {},
   "outputs": [],
   "source": [
    "corp_index = [item[0] for item in catalog]\n",
    "texts = []\n",
    "for ind in tq(corp_index):\n",
    "    corp = corpus.words(ind)\n",
    "    texts.append(corp)"
   ]
  },
  {
   "cell_type": "code",
   "execution_count": 393,
   "metadata": {},
   "outputs": [],
   "source": [
    "texts = list(unique_everseen(texts))\n",
    "#len(texts)\n",
    "texts = recursive_flatten_generator(texts)"
   ]
  },
  {
   "cell_type": "code",
   "execution_count": 394,
   "metadata": {},
   "outputs": [
    {
     "data": {
      "text/plain": [
       "True"
      ]
     },
     "execution_count": 394,
     "metadata": {},
     "output_type": "execute_result"
    }
   ],
   "source": [
    "sym_spell = symspellpy.SymSpell(max_dictionary_edit_distance=2, prefix_length=7)\n",
    "sym_spell.create_dictionary(texts, encoding='utf-8')"
   ]
  },
  {
   "cell_type": "code",
   "execution_count": 308,
   "metadata": {},
   "outputs": [],
   "source": [
    "df_anamnesises = pd.read_csv('data/anamnesises_with_norm_diagnosis.csv', sep='\\t')"
   ]
  },
  {
   "cell_type": "code",
   "execution_count": 309,
   "metadata": {},
   "outputs": [],
   "source": [
    "anamnesises = df_anamnesises.anamnesise_without_tags\n",
    "anamnesises.dropna(inplace=True)"
   ]
  },
  {
   "cell_type": "code",
   "execution_count": 310,
   "metadata": {},
   "outputs": [],
   "source": [
    "import re"
   ]
  },
  {
   "cell_type": "code",
   "execution_count": 344,
   "metadata": {},
   "outputs": [],
   "source": [
    "anamnesises = anamnesises.str.replace('_', ' ')\n",
    "anamnesises = anamnesises.str.replace(':', ': ')\n",
    "anamnesises = anamnesises.str.replace(',', ', ')\n",
    "anamnesises = anamnesises.str.replace('.', '. ') #отдельно обработать аббревиатуры типа 'ф.кл.'"
   ]
  },
  {
   "cell_type": "code",
   "execution_count": 345,
   "metadata": {},
   "outputs": [
    {
     "name": "stderr",
     "output_type": "stream",
     "text": [
      "100%|██████████| 140746/140746 [00:01<00:00, 123877.29it/s]\n",
      "100%|██████████| 140746/140746 [00:00<00:00, 244497.04it/s]\n",
      "100%|██████████| 140746/140746 [00:00<00:00, 145384.34it/s]\n",
      "100%|██████████| 140746/140746 [00:00<00:00, 251161.29it/s]\n",
      "100%|██████████| 140746/140746 [00:00<00:00, 371410.59it/s]\n"
     ]
    }
   ],
   "source": [
    "#'Diva004' -> 'Diva 004'- divides letters and digits\n",
    "R = r'(?i)(?:(?<=\\d)(?=[а-яa-zё])|(?<=[а-яa-zё])(?=\\d))'\n",
    "sep_tags = [re.sub(R, ' ', item) for item in tq(anamnesises)]\n",
    "\n",
    "#'какZUMBA' -> 'как ZUMBA' - divides cases\n",
    "R_1 = r'(?:(?<=[a-zа-яё])(?=[А-ЯA-ZЁ]))'\n",
    "sep_tags = [re.sub(R_1, ' ', item) for item in tq(sep_tags)]\n",
    "\n",
    "#'душноvsдует' -> 'душно vs дует' - divides languages (en, ru)\n",
    "R_2 = r'(?i)(?:(?<=[a-z])(?=[а-яё])|(?<=[а-яё])(?=[a-z]))'\n",
    "sep_tags = [re.sub(R_2, ' ', item) for item in tq(sep_tags)]\n",
    "\n",
    "#'ДушноДует' -> 'Душно Дует' - divides camel case\n",
    "R_3 = r'(?:(?<=[a-zа-яё])(?=[A-ZА-ЯЁ]))'\n",
    "sep_tags = [re.sub(R_3, ' ', item) for item in tq(sep_tags)]\n",
    "\n",
    "#'вышел.Он' -> 'вышел. Он' - divides Upper case after dot\n",
    "\n",
    "R_4 = r'(?:(?<=[.])(?=[A-Z|А-Я]))'\n",
    "anamnesises = pd.Series([re.sub(R_4, ' ', item) for item in tq(sep_tags)])"
   ]
  },
  {
   "cell_type": "code",
   "execution_count": null,
   "metadata": {},
   "outputs": [
    {
     "name": "stderr",
     "output_type": "stream",
     "text": [
      "  4%|▍         | 5378/140746 [12:11<6:31:11,  5.77it/s] "
     ]
    }
   ],
   "source": [
    "div_tags = [sym_spell.word_segmentation(item, ignore_token=r'\\d+', max_edit_distance=1).corrected_string for item in tq(anamnesises)]"
   ]
  },
  {
   "cell_type": "code",
   "execution_count": null,
   "metadata": {},
   "outputs": [],
   "source": []
  },
  {
   "cell_type": "code",
   "execution_count": 346,
   "metadata": {},
   "outputs": [],
   "source": [
    "from collections import Counter, defaultdict"
   ]
  },
  {
   "cell_type": "markdown",
   "metadata": {},
   "source": [
    "Аббревиатуры бывают:\n",
    "- Обычно записаны слитно\n",
    "- Записаны upper-case\n",
    "- Заканчиваются на ."
   ]
  },
  {
   "cell_type": "code",
   "execution_count": 347,
   "metadata": {},
   "outputs": [],
   "source": [
    "#upper case аббревиатуры\n",
    "\n",
    "upper_abbr_counter = Counter()\n",
    "\n",
    "for text in anamnesises:\n",
    "    for word in text.split():\n",
    "        if word.isupper():\n",
    "            upper_abbr_counter[word] += 1"
   ]
  },
  {
   "cell_type": "code",
   "execution_count": 348,
   "metadata": {},
   "outputs": [
    {
     "data": {
      "text/plain": [
       "[('ГБ', 12977),\n",
       " ('II', 9711),\n",
       " ('ИБС', 6010),\n",
       " ('ОСТ', 2960),\n",
       " ('ЖКБ', 2916),\n",
       " ('ОНМК', 2582),\n",
       " ('III', 2461),\n",
       " ('В', 2397),\n",
       " ('МКБ', 2380),\n",
       " ('ГБ,', 2006)]"
      ]
     },
     "execution_count": 348,
     "metadata": {},
     "output_type": "execute_result"
    }
   ],
   "source": [
    "upper_abbr_counter.most_common(10)"
   ]
  },
  {
   "cell_type": "code",
   "execution_count": 349,
   "metadata": {},
   "outputs": [],
   "source": [
    "#заканчиваются на точку\n",
    "\n",
    "ends_dot_abbr_counter = Counter()\n",
    "\n",
    "for text in anamnesises:\n",
    "    for word in text.split():\n",
    "        if '.' in word and not word.isupper():\n",
    "            ends_dot_abbr_counter[word] += 1"
   ]
  },
  {
   "cell_type": "code",
   "execution_count": 351,
   "metadata": {},
   "outputs": [
    {
     "data": {
      "text/plain": [
       "[('г.', 7441),\n",
       " ('ст.', 3791),\n",
       " ('.', 3391),\n",
       " ('ремиссия.', 1780),\n",
       " ('отрицает.', 1467),\n",
       " ('лет.', 1307),\n",
       " ('4.', 1167),\n",
       " ('04.', 1071),\n",
       " ('обострения.', 1031),\n",
       " ('конечностей.', 984)]"
      ]
     },
     "execution_count": 351,
     "metadata": {},
     "output_type": "execute_result"
    }
   ],
   "source": [
    "ends_dot_abbr_counter.most_common(10)"
   ]
  },
  {
   "cell_type": "code",
   "execution_count": 352,
   "metadata": {},
   "outputs": [],
   "source": [
    "dot_abbrs = list(ends_dot_abbr_counter.keys())"
   ]
  },
  {
   "cell_type": "code",
   "execution_count": 353,
   "metadata": {},
   "outputs": [],
   "source": [
    "dot_abbrs_len = list(map(len, dot_abbrs))"
   ]
  },
  {
   "cell_type": "code",
   "execution_count": 356,
   "metadata": {},
   "outputs": [],
   "source": [
    "df_dot_abbrs = pd.DataFrame(np.vstack((dot_abbrs, dot_abbrs_len)).T, columns=['abbr', 'length'])"
   ]
  },
  {
   "cell_type": "code",
   "execution_count": 357,
   "metadata": {},
   "outputs": [
    {
     "data": {
      "text/html": [
       "<div>\n",
       "<style scoped>\n",
       "    .dataframe tbody tr th:only-of-type {\n",
       "        vertical-align: middle;\n",
       "    }\n",
       "\n",
       "    .dataframe tbody tr th {\n",
       "        vertical-align: top;\n",
       "    }\n",
       "\n",
       "    .dataframe thead th {\n",
       "        text-align: right;\n",
       "    }\n",
       "</style>\n",
       "<table border=\"1\" class=\"dataframe\">\n",
       "  <thead>\n",
       "    <tr style=\"text-align: right;\">\n",
       "      <th></th>\n",
       "      <th>abbr</th>\n",
       "      <th>length</th>\n",
       "    </tr>\n",
       "  </thead>\n",
       "  <tbody>\n",
       "    <tr>\n",
       "      <th>0</th>\n",
       "      <td>поясничный.</td>\n",
       "      <td>11</td>\n",
       "    </tr>\n",
       "    <tr>\n",
       "      <th>1</th>\n",
       "      <td>ноге.</td>\n",
       "      <td>5</td>\n",
       "    </tr>\n",
       "    <tr>\n",
       "      <th>2</th>\n",
       "      <td>редко.</td>\n",
       "      <td>6</td>\n",
       "    </tr>\n",
       "    <tr>\n",
       "      <th>3</th>\n",
       "      <td>Знакома.</td>\n",
       "      <td>8</td>\n",
       "    </tr>\n",
       "    <tr>\n",
       "      <th>4</th>\n",
       "      <td>отр.</td>\n",
       "      <td>4</td>\n",
       "    </tr>\n",
       "    <tr>\n",
       "      <th>...</th>\n",
       "      <td>...</td>\n",
       "      <td>...</td>\n",
       "    </tr>\n",
       "    <tr>\n",
       "      <th>6606</th>\n",
       "      <td>колпроктэктомия.</td>\n",
       "      <td>16</td>\n",
       "    </tr>\n",
       "    <tr>\n",
       "      <th>6607</th>\n",
       "      <td>почку.</td>\n",
       "      <td>6</td>\n",
       "    </tr>\n",
       "    <tr>\n",
       "      <th>6608</th>\n",
       "      <td>почка).</td>\n",
       "      <td>7</td>\n",
       "    </tr>\n",
       "    <tr>\n",
       "      <th>6609</th>\n",
       "      <td>центра.</td>\n",
       "      <td>7</td>\n",
       "    </tr>\n",
       "    <tr>\n",
       "      <th>6610</th>\n",
       "      <td>7(пластина).</td>\n",
       "      <td>12</td>\n",
       "    </tr>\n",
       "  </tbody>\n",
       "</table>\n",
       "<p>6611 rows × 2 columns</p>\n",
       "</div>"
      ],
      "text/plain": [
       "                  abbr length\n",
       "0          поясничный.     11\n",
       "1                ноге.      5\n",
       "2               редко.      6\n",
       "3             Знакома.      8\n",
       "4                 отр.      4\n",
       "...                ...    ...\n",
       "6606  колпроктэктомия.     16\n",
       "6607            почку.      6\n",
       "6608           почка).      7\n",
       "6609           центра.      7\n",
       "6610      7(пластина).     12\n",
       "\n",
       "[6611 rows x 2 columns]"
      ]
     },
     "execution_count": 357,
     "metadata": {},
     "output_type": "execute_result"
    }
   ],
   "source": [
    "df_dot_abbrs"
   ]
  },
  {
   "cell_type": "code",
   "execution_count": 361,
   "metadata": {},
   "outputs": [],
   "source": [
    "df_dot_abbrs.length = df_dot_abbrs.length.astype('int')"
   ]
  },
  {
   "cell_type": "code",
   "execution_count": 362,
   "metadata": {},
   "outputs": [],
   "source": [
    "len_perc_25, len_perc_75 = np.percentile(df_dot_abbrs.length, [0, 60])\n",
    "high_len = len_perc_75 + 1.5 * (len_perc_75 - len_perc_25)"
   ]
  },
  {
   "cell_type": "code",
   "execution_count": 363,
   "metadata": {},
   "outputs": [
    {
     "data": {
      "text/plain": [
       "23.5"
      ]
     },
     "execution_count": 363,
     "metadata": {},
     "output_type": "execute_result"
    }
   ],
   "source": [
    "high_len"
   ]
  },
  {
   "cell_type": "code",
   "execution_count": 367,
   "metadata": {},
   "outputs": [
    {
     "data": {
      "text/html": [
       "<div>\n",
       "<style scoped>\n",
       "    .dataframe tbody tr th:only-of-type {\n",
       "        vertical-align: middle;\n",
       "    }\n",
       "\n",
       "    .dataframe tbody tr th {\n",
       "        vertical-align: top;\n",
       "    }\n",
       "\n",
       "    .dataframe thead th {\n",
       "        text-align: right;\n",
       "    }\n",
       "</style>\n",
       "<table border=\"1\" class=\"dataframe\">\n",
       "  <thead>\n",
       "    <tr style=\"text-align: right;\">\n",
       "      <th></th>\n",
       "      <th>abbr</th>\n",
       "      <th>length</th>\n",
       "    </tr>\n",
       "  </thead>\n",
       "  <tbody>\n",
       "    <tr>\n",
       "      <th>0</th>\n",
       "      <td>поясничный.</td>\n",
       "      <td>11</td>\n",
       "    </tr>\n",
       "    <tr>\n",
       "      <th>1</th>\n",
       "      <td>ноге.</td>\n",
       "      <td>5</td>\n",
       "    </tr>\n",
       "    <tr>\n",
       "      <th>2</th>\n",
       "      <td>редко.</td>\n",
       "      <td>6</td>\n",
       "    </tr>\n",
       "    <tr>\n",
       "      <th>3</th>\n",
       "      <td>Знакома.</td>\n",
       "      <td>8</td>\n",
       "    </tr>\n",
       "    <tr>\n",
       "      <th>4</th>\n",
       "      <td>отр.</td>\n",
       "      <td>4</td>\n",
       "    </tr>\n",
       "  </tbody>\n",
       "</table>\n",
       "</div>"
      ],
      "text/plain": [
       "          abbr  length\n",
       "0  поясничный.      11\n",
       "1        ноге.       5\n",
       "2       редко.       6\n",
       "3     Знакома.       8\n",
       "4         отр.       4"
      ]
     },
     "execution_count": 367,
     "metadata": {},
     "output_type": "execute_result"
    }
   ],
   "source": [
    "df_dot_abbrs.query('length < %d' % high_len).head()"
   ]
  },
  {
   "cell_type": "code",
   "execution_count": 376,
   "metadata": {},
   "outputs": [
    {
     "data": {
      "text/plain": [
       "65       1\n",
       "84       2\n",
       "4747     2\n",
       "5487     2\n",
       "1035     2\n",
       "        ..\n",
       "179     30\n",
       "1455    31\n",
       "3130    33\n",
       "4637    33\n",
       "1410    35\n",
       "Name: length, Length: 6611, dtype: int64"
      ]
     },
     "execution_count": 376,
     "metadata": {},
     "output_type": "execute_result"
    }
   ],
   "source": [
    "df_dot_abbrs.length.sort_values()"
   ]
  },
  {
   "cell_type": "code",
   "execution_count": 377,
   "metadata": {},
   "outputs": [
    {
     "data": {
      "text/html": [
       "<div>\n",
       "<style scoped>\n",
       "    .dataframe tbody tr th:only-of-type {\n",
       "        vertical-align: middle;\n",
       "    }\n",
       "\n",
       "    .dataframe tbody tr th {\n",
       "        vertical-align: top;\n",
       "    }\n",
       "\n",
       "    .dataframe thead th {\n",
       "        text-align: right;\n",
       "    }\n",
       "</style>\n",
       "<table border=\"1\" class=\"dataframe\">\n",
       "  <thead>\n",
       "    <tr style=\"text-align: right;\">\n",
       "      <th></th>\n",
       "      <th>abbr</th>\n",
       "      <th>length</th>\n",
       "    </tr>\n",
       "  </thead>\n",
       "  <tbody>\n",
       "    <tr>\n",
       "      <th>3130</th>\n",
       "      <td>постинфекционный+неврозоподобный.</td>\n",
       "      <td>33</td>\n",
       "    </tr>\n",
       "    <tr>\n",
       "      <th>4637</th>\n",
       "      <td>Атеросклеротическийкардиосклероз.</td>\n",
       "      <td>33</td>\n",
       "    </tr>\n",
       "  </tbody>\n",
       "</table>\n",
       "</div>"
      ],
      "text/plain": [
       "                                   abbr  length\n",
       "3130  постинфекционный+неврозоподобный.      33\n",
       "4637  Атеросклеротическийкардиосклероз.      33"
      ]
     },
     "execution_count": 377,
     "metadata": {},
     "output_type": "execute_result"
    }
   ],
   "source": [
    "df_dot_abbrs.query('length == %d' % 33).head()"
   ]
  },
  {
   "cell_type": "code",
   "execution_count": 378,
   "metadata": {},
   "outputs": [
    {
     "data": {
      "text/html": [
       "<div>\n",
       "<style scoped>\n",
       "    .dataframe tbody tr th:only-of-type {\n",
       "        vertical-align: middle;\n",
       "    }\n",
       "\n",
       "    .dataframe tbody tr th {\n",
       "        vertical-align: top;\n",
       "    }\n",
       "\n",
       "    .dataframe thead th {\n",
       "        text-align: right;\n",
       "    }\n",
       "</style>\n",
       "<table border=\"1\" class=\"dataframe\">\n",
       "  <thead>\n",
       "    <tr style=\"text-align: right;\">\n",
       "      <th></th>\n",
       "      <th>abbr</th>\n",
       "      <th>length</th>\n",
       "    </tr>\n",
       "  </thead>\n",
       "  <tbody>\n",
       "    <tr>\n",
       "      <th>1410</th>\n",
       "      <td>Работаетадминистратором-менеджером.</td>\n",
       "      <td>35</td>\n",
       "    </tr>\n",
       "  </tbody>\n",
       "</table>\n",
       "</div>"
      ],
      "text/plain": [
       "                                     abbr  length\n",
       "1410  Работаетадминистратором-менеджером.      35"
      ]
     },
     "execution_count": 378,
     "metadata": {},
     "output_type": "execute_result"
    }
   ],
   "source": [
    "df_dot_abbrs.query('length == %d' % max(df_dot_abbrs.length)).head()"
   ]
  },
  {
   "cell_type": "code",
   "execution_count": 327,
   "metadata": {},
   "outputs": [
    {
     "data": {
      "text/plain": [
       "[('г.', 6358),\n",
       " ('.', 3027),\n",
       " ('ст.', 2832),\n",
       " ('ремиссия.', 1745),\n",
       " ('отрицает.', 1449),\n",
       " ('лет.', 1278),\n",
       " ('4.', 1112),\n",
       " ('обострения.', 1011),\n",
       " ('конечностей.', 968),\n",
       " ('нет.', 731)]"
      ]
     },
     "execution_count": 327,
     "metadata": {},
     "output_type": "execute_result"
    }
   ],
   "source": [
    "ends_dot_abbr_counter.most_common(10)"
   ]
  },
  {
   "cell_type": "code",
   "execution_count": 328,
   "metadata": {},
   "outputs": [],
   "source": [
    "class bcolors:\n",
    "    HEADER = '\\033[95m'\n",
    "    OKBLUE = '\\033[94m'\n",
    "    OKCYAN = '\\033[96m'\n",
    "    OKGREEN = '\\033[92m'\n",
    "    WARNING = '\\033[93m'\n",
    "    FAIL = '\\033[91m'\n",
    "    ENDC = '\\033[0m'\n",
    "    BOLD = '\\033[1m'\n",
    "    UNDERLINE = '\\033[4m'"
   ]
  },
  {
   "cell_type": "code",
   "execution_count": 57,
   "metadata": {},
   "outputs": [
    {
     "name": "stdout",
     "output_type": "stream",
     "text": [
      "Аббревиатура ГБ\n",
      "текст #1\n",
      " Хронические заболевания в анамнезе  : \u001b[93mГБ\u001b[0m ; ИБС : с нарушением ритма ; остеохондроз позвоночника ; облитерирующий атеросклероз артерий нижних конечностей ; хронический пиелонефрит \n",
      "\n",
      "текст #2\n",
      " Хронические заболевания в анамнезе  : \u001b[93mГБ\u001b[0m ; ИБС ; стенокардия напряжения, коронарография от 2008,2011 ; Аденомы надпочечников несекретирующие \n",
      "\n",
      "текст #3\n",
      " Хронические заболевания в анамнезе  : \u001b[93mГБ\u001b[0m ; ИБС ; стенокардия ; остеохондроз позвоночника ; варикозная болезнь вен нижних конечностей ; аутоиммунный тиреоидит \n",
      "\n",
      "Аббревиатура II\n",
      "текст #1\n",
      "ИБС. Атеросклеротический кардиосклероз. Гипертоническая болезнь \u001b[93mII\u001b[0mI ст. Риск 4. Имплантация ПЭКС DDD по поводу бинодальной слабости (субтотальная АВ-блокада, СССУ) в 2009 г. Пароксизм фибрилляции-трепетания предсердий 10.10.2013 г. ХСН \u001b[93mII\u001b[0m ФК. Дислипидемия. ЖКБ. Хр.холецистит, ремиссия. Мастэктомия слева в 2003 г. по поводу Са. ДУЗ. Эутиреоз. \n",
      "\n",
      "текст #2\n",
      " Хронические заболевания в анамнезе  : Гипертоническая болезнь \u001b[93mII\u001b[0mI ст. Риск 4. ИБС. Стенокардия напряжения \u001b[93mII\u001b[0m ФК. Атеросклеротический и миокардиодистрофический кардиосклероз.Пароксизмальная суправентрикулярная тахикардия. ХСН \u001b[93mII\u001b[0m ФК.Бронхиальная астма. Полиостеоартроз \u001b[93mII\u001b[0m ст. Остеохондроз позвоночника с вторичным болевым синдромом. Грыжи МПД С5-С6, С6-С7. Гемангиомы Th6, Th11, S1. Ограниченный псориаз, стационарная стадия. Последствия перенесенной нейроинфекции. ХНМК. Диффузно-узловой нетоксический зоб. Эутиреоз \n",
      "\n",
      "текст #3\n",
      "   Хронические заболевания в анамнезе   :  Ограниченный псориаз, стационарная стадия. Последствия перенесенной нейроинфекции. НТГ?  :  остеохондроз позвоночника  :  с вторичным болевым синдромом. Грыжи МПД С5-С6, С6-С7. Гемангиомы Th6, Th11, S1. Полиостеоартроз \u001b[93mII\u001b[0m ст.  ;  бронхиальная астма  ;  диффузно-узловой зоб   эутиреоз  ;  язвенная болезнь двенадцатиперстной кишки  ;  язвенная болезнь желудка  ;  МКБ  ;  хронический пиелонефрит  ;  хронический холецистит  ;  Хронический панкреатит. Хронический холецистит   \n",
      "\n",
      "Аббревиатура ИБС\n",
      "текст #1\n",
      " Хронические заболевания в анамнезе  : ГБ ; \u001b[93mИБС\u001b[0m : с нарушением ритма ; остеохондроз позвоночника ; облитерирующий атеросклероз артерий нижних конечностей ; хронический пиелонефрит \n",
      "\n",
      "текст #2\n",
      " Хронические заболевания в анамнезе  : ГБ ; \u001b[93mИБС\u001b[0m ; стенокардия напряжения, коронарография от 2008,2011 ; Аденомы надпочечников несекретирующие \n",
      "\n",
      "текст #3\n",
      " Наследственность:  заболевания у родственников отец : СД 2 типа , мать : \u001b[93mИБС\u001b[0m \n",
      "\n",
      "Аббревиатура ЖКБ\n",
      "текст #1\n",
      " Хронические заболевания в анамнезе  : Мастэктомия слева в 2003 г. : \u001b[93mЖКБ\u001b[0m \n",
      "\n",
      "текст #2\n",
      " Хронические заболевания в анамнезе  : гастрит хронический ; \u001b[93mЖКБ\u001b[0m ; хронический холецистит холецистэктомия_в_1999______году ; Недостаточность кардии. \n",
      "\n",
      "текст #3\n",
      "   Хронические заболевания в анамнезе   :  сахарный диабет II типа   компенсированный диетой  ;  остеохондроз позвоночника  ;  язвенная болезнь двенадцатиперстной кишки   ремиссия ФГДС была в 2012г  ;  \u001b[93mЖКБ\u001b[0m  ;  хронический холецистит   \n",
      "\n",
      "Аббревиатура ОНМК\n",
      "текст #1\n",
      " Хронические заболевания в анамнезе  : ГБ ; ИБС ; стенокардия напряжения ; ОИМ от 2008 года, \u001b[93mОНМК\u001b[0m №5, последний от декабр 2010. \n",
      "\n",
      "текст #2\n",
      " Хронические заболевания в анамнезе  : Гипертоническая болезнь 3 ст., риск 4, злокачественное течение. Состояние после \u001b[93mОНМК\u001b[0m от 12.2010 г. ИБС. Стенокардия напряжения 2 ф.кл. Постинфарктный кардиосклероз (ИМ от 2008 г). ХСН 2 ф.кл.Сахарный диабет тип 2. ДУЗ, эутиреоз. Гиперхолестеринемия. ЦВБ. Последствия \u001b[93mОНМК\u001b[0m от 1999, 2000, 2001, 2004 гг в виде левосторонней гемигипестезии. Атеросклероз сосудов головного мозга. ДЭ 2 ст. с вестибуло-мозжечковым синдомом и цефалгией. ДДЗП. Остеохондроз шейного отдела позвоночника. Постменопаузальный остеопароз. Хронический гломерулонефрит, ремиссия. ХПН 1 ст. Хронический пиелонефрит. Хронический цистит. Одиночные кисты обеих почек. Варикозная болзень вен нижних конечностей. МДС. Хронический миеломоноцитарный лейкоз. \n",
      "\n",
      "текст #3\n",
      " Хронические заболевания в анамнезе  : Гипертоническая болезнь 3 ст., риск 4, злокачественное течение. Состояние после \u001b[93mОНМК\u001b[0m от 12.2010 г. ИБС. Стенокардия напряжения 2 ф.кл. Постинфарктный кардиосклероз (ИМ от 2008 г). ХСН 2 ф.кл.Сахарный диабет тип 2. ДУЗ, эутиреоз. Гиперхолестеринемия. ЦВБ. Последствия \u001b[93mОНМК\u001b[0m от 1999, 2000, 2001, 2004 гг в виде левосторонней гемигипестезии. Атеросклероз сосудов головного мозга. ДЭ 2 ст. с вестибуло-мозжечковым синдомом и цефалгией. ДДЗП. Остеохондроз шейного отдела позвоночника. Постменопаузальный остеопароз. Хронический гломерулонефрит, ремиссия. ХПН 1 ст. Хронический пиелонефрит. Хронический цистит. Одиночные кисты обеих почек. Варикозная болзень вен нижних конечностей. МДС. Хронический миеломоноцитарный лейкоз. \n",
      "\n"
     ]
    }
   ],
   "source": [
    "for encode, _ in upper_abbr_counter.most_common(5):\n",
    "    print('Аббревиатура', encode)\n",
    "    \n",
    "    for ind, text in enumerate(anamnesises[anamnesises_splitted.apply(lambda x: encode in x)][:3]):\n",
    "        text = text.replace(encode, bcolors.WARNING + encode + bcolors.ENDC)\n",
    "        \n",
    "        print('текст #%d' % (ind + 1))\n",
    "        print(text, '\\n')"
   ]
  }
 ],
 "metadata": {
  "kernelspec": {
   "display_name": "cs102",
   "language": "python",
   "name": "cs102"
  },
  "language_info": {
   "codemirror_mode": {
    "name": "ipython",
    "version": 3
   },
   "file_extension": ".py",
   "mimetype": "text/x-python",
   "name": "python",
   "nbconvert_exporter": "python",
   "pygments_lexer": "ipython3",
   "version": "3.8.3"
  }
 },
 "nbformat": 4,
 "nbformat_minor": 4
}
